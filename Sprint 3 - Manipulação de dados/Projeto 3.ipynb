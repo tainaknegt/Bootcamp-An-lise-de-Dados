{
 "cells": [
  {
   "cell_type": "markdown",
   "id": "mhIvmmkW414q",
   "metadata": {
    "id": "mhIvmmkW414q"
   },
   "source": [
    "# Introdução\n",
    "\n",
    "O Instacart é uma plataforma de entrega de supermercado onde os clientes podem fazer um pedido no supermercado e depois receber sua compra, semelhante ao funcionamento do Uber Eats e do iFood. O conjunto de dados que fornecemos foi modificado a partir do original. Reduzimos o tamanho dele para que seus cálculos sejam executados mais rapidamente e incluímos valores ausentes e duplicados. Também tivemos o cuidado de preservar as distribuições dos dados originais quando fizemos as alterações.\n",
    "\n",
    "Você precisa completar três etapas. Para cada uma delas, escreva uma breve introdução descrevendo como você pretende concluir a etapa e justifique suas decisões em parágrafos explicativos a medida que você avança na solução. Escreva também uma conclusão para resumir suas conclusões e escolhas.\n",
    "\n"
   ]
  },
  {
   "cell_type": "markdown",
   "id": "3MbyzpOQZ5Or",
   "metadata": {
    "id": "3MbyzpOQZ5Or"
   },
   "source": [
    "## Dicionário de dados\n",
    "\n",
    "Há cinco tabelas no conjunto de dados, e você vai precisar usar todas elas para pré-processar seus dados e fazer AED. Abaixo está um dicionário que lista as colunas de cada tabela e descreve os dados contidos nelas.\n",
    "\n",
    "- `instacart_orders.csv`: cada linha corresponde a um pedido no aplicativo da Instacart\n",
    "    - `'order_id'`: é o número que identifica cada pedido de forma exclusiva\n",
    "    - `'user_id'`: é o número de identificação exclusivo da conta de cada cliente\n",
    "    - `'order_number'`: é o número de vezes que o cliente fez um pedido\n",
    "    - `'order_dow'`: é o dia da semana em que o pedido foi feito (0 é domingo)\n",
    "    - `'order_hour_of_day'`: é a hora do dia em que o pedido foi feito\n",
    "    - `'days_since_prior_order'`: é o número de dias desde que o cliente fez seu pedido anterior\n",
    "\n",
    "\n",
    "\n",
    "\n",
    "- `products.csv`: cada linha corresponde a um produto exclusivo que os clientes podem comprar\n",
    "    - `'product_id'`: é o número de identificação unívoco de cada produto\n",
    "    - `'product_name'`: é o nome do produto\n",
    "    - `'aisle_id'`: é o número de identificação exclusivo de cada categoria de corredor do supermercado\n",
    "    - `'department_id'`: é o número de identificação exclusivo de cada categoria de departamento do supermercado\n",
    "\n",
    "\n",
    "\n",
    "\n",
    "-\t`order_products.csv`: cada linha corresponde a um item incluído em um pedido\n",
    "    -\t`'order_id'`: é o número que identifica cada pedido de forma exclusiva\n",
    "    -\t`'product_id'`: é o número de identificação exclusivo de cada produto\n",
    "    -\t`'add_to_cart_order'`: é a ordem sequencial em que cada item foi colocado no carrinho\n",
    "    -\t`'reordered'`: 0 se o cliente nunca comprou o produto antes, 1 se já o comprou\n",
    "\n",
    "\n",
    "\n",
    "\n",
    "-\t`aisles.csv`\n",
    "    -\t`'aisle_id'`: é o número de identificação exclusivo de cada categoria de corredor do supermercado\n",
    "    -\t`'aisle'`: é o nome do corredor\n",
    "\n",
    "\n",
    "\n",
    "-\t`departments.csv`\n",
    "    -\t`'department_id'`: é o número de identificação exclusivo de cada categoria de departamento do supermercado\n",
    "    -\t`'department'`: é o nome do departamento\n"
   ]
  },
  {
   "cell_type": "markdown",
   "id": "n3Ha_cNSZ8lK",
   "metadata": {
    "id": "n3Ha_cNSZ8lK"
   },
   "source": [
    "# Etapa 1. Visão geral dos dados\n",
    "\n",
    "Leia os arquivos de dados (/datasets/instacart_orders.csv, /datasets/products.csv, /datasets/aisles.csv, /datasets/departments.csv e /datasets/order_products.csv) com `pd.read_csv()` usando os parâmetros apropriados para fazer isso corretamente. Verifique as informações para cada DataFrame criado.\n"
   ]
  },
  {
   "cell_type": "markdown",
   "id": "OmlQPLlyaAfR",
   "metadata": {
    "id": "OmlQPLlyaAfR"
   },
   "source": [
    "## Plano de solução\n",
    "\n",
    "Escreva aqui seu plano para a Etapa 2. Visão geral dos dados"
   ]
  },
  {
   "cell_type": "code",
   "execution_count": 8,
   "id": "fbf1adab",
   "metadata": {
    "id": "fbf1adab",
    "trusted": false
   },
   "outputs": [],
   "source": [
    "# Importe as bibliotecas\n",
    "import pandas as pd"
   ]
  },
  {
   "cell_type": "code",
   "execution_count": 9,
   "id": "ad36396d",
   "metadata": {
    "id": "ad36396d",
    "trusted": false
   },
   "outputs": [
    {
     "ename": "FileNotFoundError",
     "evalue": "[Errno 2] No such file or directory: '/datasets/instacart_orders.csv'",
     "output_type": "error",
     "traceback": [
      "\u001b[1;31m---------------------------------------------------------------------------\u001b[0m",
      "\u001b[1;31mFileNotFoundError\u001b[0m                         Traceback (most recent call last)",
      "Cell \u001b[1;32mIn[9], line 2\u001b[0m\n\u001b[0;32m      1\u001b[0m \u001b[38;5;66;03m# leia os conjuntos de dados em DataFrames\u001b[39;00m\n\u001b[1;32m----> 2\u001b[0m instacart_orders_df \u001b[38;5;241m=\u001b[39m pd\u001b[38;5;241m.\u001b[39mread_csv(\u001b[38;5;124m'\u001b[39m\u001b[38;5;124m/datasets/instacart_orders.csv\u001b[39m\u001b[38;5;124m'\u001b[39m, sep\u001b[38;5;241m=\u001b[39m\u001b[38;5;124m'\u001b[39m\u001b[38;5;124m;\u001b[39m\u001b[38;5;124m'\u001b[39m)\n\u001b[0;32m      3\u001b[0m products_df \u001b[38;5;241m=\u001b[39m pd\u001b[38;5;241m.\u001b[39mread_csv(\u001b[38;5;124m'\u001b[39m\u001b[38;5;124m/datasets/products.csv\u001b[39m\u001b[38;5;124m'\u001b[39m, sep\u001b[38;5;241m=\u001b[39m\u001b[38;5;124m'\u001b[39m\u001b[38;5;124m;\u001b[39m\u001b[38;5;124m'\u001b[39m)\n\u001b[0;32m      4\u001b[0m order_products_df \u001b[38;5;241m=\u001b[39m pd\u001b[38;5;241m.\u001b[39mread_csv(\u001b[38;5;124m'\u001b[39m\u001b[38;5;124m/datasets/order_products.csv\u001b[39m\u001b[38;5;124m'\u001b[39m, sep\u001b[38;5;241m=\u001b[39m\u001b[38;5;124m'\u001b[39m\u001b[38;5;124m;\u001b[39m\u001b[38;5;124m'\u001b[39m)\n",
      "File \u001b[1;32mc:\\Users\\Taina\\anaconda3\\Lib\\site-packages\\pandas\\io\\parsers\\readers.py:1026\u001b[0m, in \u001b[0;36mread_csv\u001b[1;34m(filepath_or_buffer, sep, delimiter, header, names, index_col, usecols, dtype, engine, converters, true_values, false_values, skipinitialspace, skiprows, skipfooter, nrows, na_values, keep_default_na, na_filter, verbose, skip_blank_lines, parse_dates, infer_datetime_format, keep_date_col, date_parser, date_format, dayfirst, cache_dates, iterator, chunksize, compression, thousands, decimal, lineterminator, quotechar, quoting, doublequote, escapechar, comment, encoding, encoding_errors, dialect, on_bad_lines, delim_whitespace, low_memory, memory_map, float_precision, storage_options, dtype_backend)\u001b[0m\n\u001b[0;32m   1013\u001b[0m kwds_defaults \u001b[38;5;241m=\u001b[39m _refine_defaults_read(\n\u001b[0;32m   1014\u001b[0m     dialect,\n\u001b[0;32m   1015\u001b[0m     delimiter,\n\u001b[1;32m   (...)\u001b[0m\n\u001b[0;32m   1022\u001b[0m     dtype_backend\u001b[38;5;241m=\u001b[39mdtype_backend,\n\u001b[0;32m   1023\u001b[0m )\n\u001b[0;32m   1024\u001b[0m kwds\u001b[38;5;241m.\u001b[39mupdate(kwds_defaults)\n\u001b[1;32m-> 1026\u001b[0m \u001b[38;5;28;01mreturn\u001b[39;00m _read(filepath_or_buffer, kwds)\n",
      "File \u001b[1;32mc:\\Users\\Taina\\anaconda3\\Lib\\site-packages\\pandas\\io\\parsers\\readers.py:620\u001b[0m, in \u001b[0;36m_read\u001b[1;34m(filepath_or_buffer, kwds)\u001b[0m\n\u001b[0;32m    617\u001b[0m _validate_names(kwds\u001b[38;5;241m.\u001b[39mget(\u001b[38;5;124m\"\u001b[39m\u001b[38;5;124mnames\u001b[39m\u001b[38;5;124m\"\u001b[39m, \u001b[38;5;28;01mNone\u001b[39;00m))\n\u001b[0;32m    619\u001b[0m \u001b[38;5;66;03m# Create the parser.\u001b[39;00m\n\u001b[1;32m--> 620\u001b[0m parser \u001b[38;5;241m=\u001b[39m TextFileReader(filepath_or_buffer, \u001b[38;5;241m*\u001b[39m\u001b[38;5;241m*\u001b[39mkwds)\n\u001b[0;32m    622\u001b[0m \u001b[38;5;28;01mif\u001b[39;00m chunksize \u001b[38;5;129;01mor\u001b[39;00m iterator:\n\u001b[0;32m    623\u001b[0m     \u001b[38;5;28;01mreturn\u001b[39;00m parser\n",
      "File \u001b[1;32mc:\\Users\\Taina\\anaconda3\\Lib\\site-packages\\pandas\\io\\parsers\\readers.py:1620\u001b[0m, in \u001b[0;36mTextFileReader.__init__\u001b[1;34m(self, f, engine, **kwds)\u001b[0m\n\u001b[0;32m   1617\u001b[0m     \u001b[38;5;28mself\u001b[39m\u001b[38;5;241m.\u001b[39moptions[\u001b[38;5;124m\"\u001b[39m\u001b[38;5;124mhas_index_names\u001b[39m\u001b[38;5;124m\"\u001b[39m] \u001b[38;5;241m=\u001b[39m kwds[\u001b[38;5;124m\"\u001b[39m\u001b[38;5;124mhas_index_names\u001b[39m\u001b[38;5;124m\"\u001b[39m]\n\u001b[0;32m   1619\u001b[0m \u001b[38;5;28mself\u001b[39m\u001b[38;5;241m.\u001b[39mhandles: IOHandles \u001b[38;5;241m|\u001b[39m \u001b[38;5;28;01mNone\u001b[39;00m \u001b[38;5;241m=\u001b[39m \u001b[38;5;28;01mNone\u001b[39;00m\n\u001b[1;32m-> 1620\u001b[0m \u001b[38;5;28mself\u001b[39m\u001b[38;5;241m.\u001b[39m_engine \u001b[38;5;241m=\u001b[39m \u001b[38;5;28mself\u001b[39m\u001b[38;5;241m.\u001b[39m_make_engine(f, \u001b[38;5;28mself\u001b[39m\u001b[38;5;241m.\u001b[39mengine)\n",
      "File \u001b[1;32mc:\\Users\\Taina\\anaconda3\\Lib\\site-packages\\pandas\\io\\parsers\\readers.py:1880\u001b[0m, in \u001b[0;36mTextFileReader._make_engine\u001b[1;34m(self, f, engine)\u001b[0m\n\u001b[0;32m   1878\u001b[0m     \u001b[38;5;28;01mif\u001b[39;00m \u001b[38;5;124m\"\u001b[39m\u001b[38;5;124mb\u001b[39m\u001b[38;5;124m\"\u001b[39m \u001b[38;5;129;01mnot\u001b[39;00m \u001b[38;5;129;01min\u001b[39;00m mode:\n\u001b[0;32m   1879\u001b[0m         mode \u001b[38;5;241m+\u001b[39m\u001b[38;5;241m=\u001b[39m \u001b[38;5;124m\"\u001b[39m\u001b[38;5;124mb\u001b[39m\u001b[38;5;124m\"\u001b[39m\n\u001b[1;32m-> 1880\u001b[0m \u001b[38;5;28mself\u001b[39m\u001b[38;5;241m.\u001b[39mhandles \u001b[38;5;241m=\u001b[39m get_handle(\n\u001b[0;32m   1881\u001b[0m     f,\n\u001b[0;32m   1882\u001b[0m     mode,\n\u001b[0;32m   1883\u001b[0m     encoding\u001b[38;5;241m=\u001b[39m\u001b[38;5;28mself\u001b[39m\u001b[38;5;241m.\u001b[39moptions\u001b[38;5;241m.\u001b[39mget(\u001b[38;5;124m\"\u001b[39m\u001b[38;5;124mencoding\u001b[39m\u001b[38;5;124m\"\u001b[39m, \u001b[38;5;28;01mNone\u001b[39;00m),\n\u001b[0;32m   1884\u001b[0m     compression\u001b[38;5;241m=\u001b[39m\u001b[38;5;28mself\u001b[39m\u001b[38;5;241m.\u001b[39moptions\u001b[38;5;241m.\u001b[39mget(\u001b[38;5;124m\"\u001b[39m\u001b[38;5;124mcompression\u001b[39m\u001b[38;5;124m\"\u001b[39m, \u001b[38;5;28;01mNone\u001b[39;00m),\n\u001b[0;32m   1885\u001b[0m     memory_map\u001b[38;5;241m=\u001b[39m\u001b[38;5;28mself\u001b[39m\u001b[38;5;241m.\u001b[39moptions\u001b[38;5;241m.\u001b[39mget(\u001b[38;5;124m\"\u001b[39m\u001b[38;5;124mmemory_map\u001b[39m\u001b[38;5;124m\"\u001b[39m, \u001b[38;5;28;01mFalse\u001b[39;00m),\n\u001b[0;32m   1886\u001b[0m     is_text\u001b[38;5;241m=\u001b[39mis_text,\n\u001b[0;32m   1887\u001b[0m     errors\u001b[38;5;241m=\u001b[39m\u001b[38;5;28mself\u001b[39m\u001b[38;5;241m.\u001b[39moptions\u001b[38;5;241m.\u001b[39mget(\u001b[38;5;124m\"\u001b[39m\u001b[38;5;124mencoding_errors\u001b[39m\u001b[38;5;124m\"\u001b[39m, \u001b[38;5;124m\"\u001b[39m\u001b[38;5;124mstrict\u001b[39m\u001b[38;5;124m\"\u001b[39m),\n\u001b[0;32m   1888\u001b[0m     storage_options\u001b[38;5;241m=\u001b[39m\u001b[38;5;28mself\u001b[39m\u001b[38;5;241m.\u001b[39moptions\u001b[38;5;241m.\u001b[39mget(\u001b[38;5;124m\"\u001b[39m\u001b[38;5;124mstorage_options\u001b[39m\u001b[38;5;124m\"\u001b[39m, \u001b[38;5;28;01mNone\u001b[39;00m),\n\u001b[0;32m   1889\u001b[0m )\n\u001b[0;32m   1890\u001b[0m \u001b[38;5;28;01massert\u001b[39;00m \u001b[38;5;28mself\u001b[39m\u001b[38;5;241m.\u001b[39mhandles \u001b[38;5;129;01mis\u001b[39;00m \u001b[38;5;129;01mnot\u001b[39;00m \u001b[38;5;28;01mNone\u001b[39;00m\n\u001b[0;32m   1891\u001b[0m f \u001b[38;5;241m=\u001b[39m \u001b[38;5;28mself\u001b[39m\u001b[38;5;241m.\u001b[39mhandles\u001b[38;5;241m.\u001b[39mhandle\n",
      "File \u001b[1;32mc:\\Users\\Taina\\anaconda3\\Lib\\site-packages\\pandas\\io\\common.py:873\u001b[0m, in \u001b[0;36mget_handle\u001b[1;34m(path_or_buf, mode, encoding, compression, memory_map, is_text, errors, storage_options)\u001b[0m\n\u001b[0;32m    868\u001b[0m \u001b[38;5;28;01melif\u001b[39;00m \u001b[38;5;28misinstance\u001b[39m(handle, \u001b[38;5;28mstr\u001b[39m):\n\u001b[0;32m    869\u001b[0m     \u001b[38;5;66;03m# Check whether the filename is to be opened in binary mode.\u001b[39;00m\n\u001b[0;32m    870\u001b[0m     \u001b[38;5;66;03m# Binary mode does not support 'encoding' and 'newline'.\u001b[39;00m\n\u001b[0;32m    871\u001b[0m     \u001b[38;5;28;01mif\u001b[39;00m ioargs\u001b[38;5;241m.\u001b[39mencoding \u001b[38;5;129;01mand\u001b[39;00m \u001b[38;5;124m\"\u001b[39m\u001b[38;5;124mb\u001b[39m\u001b[38;5;124m\"\u001b[39m \u001b[38;5;129;01mnot\u001b[39;00m \u001b[38;5;129;01min\u001b[39;00m ioargs\u001b[38;5;241m.\u001b[39mmode:\n\u001b[0;32m    872\u001b[0m         \u001b[38;5;66;03m# Encoding\u001b[39;00m\n\u001b[1;32m--> 873\u001b[0m         handle \u001b[38;5;241m=\u001b[39m \u001b[38;5;28mopen\u001b[39m(\n\u001b[0;32m    874\u001b[0m             handle,\n\u001b[0;32m    875\u001b[0m             ioargs\u001b[38;5;241m.\u001b[39mmode,\n\u001b[0;32m    876\u001b[0m             encoding\u001b[38;5;241m=\u001b[39mioargs\u001b[38;5;241m.\u001b[39mencoding,\n\u001b[0;32m    877\u001b[0m             errors\u001b[38;5;241m=\u001b[39merrors,\n\u001b[0;32m    878\u001b[0m             newline\u001b[38;5;241m=\u001b[39m\u001b[38;5;124m\"\u001b[39m\u001b[38;5;124m\"\u001b[39m,\n\u001b[0;32m    879\u001b[0m         )\n\u001b[0;32m    880\u001b[0m     \u001b[38;5;28;01melse\u001b[39;00m:\n\u001b[0;32m    881\u001b[0m         \u001b[38;5;66;03m# Binary mode\u001b[39;00m\n\u001b[0;32m    882\u001b[0m         handle \u001b[38;5;241m=\u001b[39m \u001b[38;5;28mopen\u001b[39m(handle, ioargs\u001b[38;5;241m.\u001b[39mmode)\n",
      "\u001b[1;31mFileNotFoundError\u001b[0m: [Errno 2] No such file or directory: '/datasets/instacart_orders.csv'"
     ]
    }
   ],
   "source": [
    "# leia os conjuntos de dados em DataFrames\n",
    "instacart_orders_df = pd.read_csv('/datasets/instacart_orders.csv', sep=';')\n",
    "products_df = pd.read_csv('/datasets/products.csv', sep=';')\n",
    "order_products_df = pd.read_csv('/datasets/order_products.csv', sep=';')\n",
    "aisles_df = pd.read_csv('/datasets/aisles.csv', sep=';')\n",
    "departments_df = pd.read_csv('/datasets/departments.csv', sep=';')"
   ]
  },
  {
   "cell_type": "code",
   "execution_count": null,
   "id": "ad6a1efa",
   "metadata": {
    "id": "ad6a1efa",
    "trusted": false
   },
   "outputs": [
    {
     "name": "stdout",
     "output_type": "stream",
     "text": [
      "<class 'pandas.core.frame.DataFrame'>\n",
      "RangeIndex: 478967 entries, 0 to 478966\n",
      "Data columns (total 6 columns):\n",
      " #   Column                  Non-Null Count   Dtype  \n",
      "---  ------                  --------------   -----  \n",
      " 0   order_id                478967 non-null  int64  \n",
      " 1   user_id                 478967 non-null  int64  \n",
      " 2   order_number            478967 non-null  int64  \n",
      " 3   order_dow               478967 non-null  int64  \n",
      " 4   order_hour_of_day       478967 non-null  int64  \n",
      " 5   days_since_prior_order  450148 non-null  float64\n",
      "dtypes: float64(1), int64(5)\n",
      "memory usage: 21.9 MB\n",
      "None\n"
     ]
    }
   ],
   "source": [
    "# imprima as informações sobre o DataFrame\n",
    "print(instacart_orders_df.info())"
   ]
  },
  {
   "cell_type": "code",
   "execution_count": null,
   "id": "d8370c05",
   "metadata": {
    "id": "d8370c05",
    "trusted": false
   },
   "outputs": [
    {
     "name": "stdout",
     "output_type": "stream",
     "text": [
      "<class 'pandas.core.frame.DataFrame'>\n",
      "RangeIndex: 4545007 entries, 0 to 4545006\n",
      "Data columns (total 4 columns):\n",
      " #   Column             Dtype  \n",
      "---  ------             -----  \n",
      " 0   order_id           int64  \n",
      " 1   product_id         int64  \n",
      " 2   add_to_cart_order  float64\n",
      " 3   reordered          int64  \n",
      "dtypes: float64(1), int64(3)\n",
      "memory usage: 138.7 MB\n",
      "None\n"
     ]
    }
   ],
   "source": [
    "# imprima as informações sobre o DataFrame\n",
    "print(order_products_df.info())"
   ]
  },
  {
   "cell_type": "code",
   "execution_count": null,
   "id": "59e2090f",
   "metadata": {
    "id": "59e2090f",
    "trusted": false
   },
   "outputs": [
    {
     "name": "stdout",
     "output_type": "stream",
     "text": [
      "<class 'pandas.core.frame.DataFrame'>\n",
      "RangeIndex: 134 entries, 0 to 133\n",
      "Data columns (total 2 columns):\n",
      " #   Column    Non-Null Count  Dtype \n",
      "---  ------    --------------  ----- \n",
      " 0   aisle_id  134 non-null    int64 \n",
      " 1   aisle     134 non-null    object\n",
      "dtypes: int64(1), object(1)\n",
      "memory usage: 2.2+ KB\n",
      "None\n"
     ]
    }
   ],
   "source": [
    "# imprima as informações sobre o DataFrame\n",
    "print(aisles_df.info())"
   ]
  },
  {
   "cell_type": "code",
   "execution_count": null,
   "id": "6fc81694",
   "metadata": {
    "id": "6fc81694",
    "trusted": false
   },
   "outputs": [
    {
     "name": "stdout",
     "output_type": "stream",
     "text": [
      "<class 'pandas.core.frame.DataFrame'>\n",
      "RangeIndex: 21 entries, 0 to 20\n",
      "Data columns (total 2 columns):\n",
      " #   Column         Non-Null Count  Dtype \n",
      "---  ------         --------------  ----- \n",
      " 0   department_id  21 non-null     int64 \n",
      " 1   department     21 non-null     object\n",
      "dtypes: int64(1), object(1)\n",
      "memory usage: 464.0+ bytes\n",
      "None\n"
     ]
    }
   ],
   "source": [
    "# imprima as informações sobre o DataFrame\n",
    "print(departments_df.info())"
   ]
  },
  {
   "cell_type": "markdown",
   "id": "t75BD19oaR5f",
   "metadata": {
    "id": "t75BD19oaR5f"
   },
   "source": [
    "## Conclusões\n",
    "\n",
    "Escreva aqui suas conclusões intermediárias da Etapa 1. Visão geral dos dados\n",
    "\n",
    "Após as análises inciais dos dados, percebe-se que:\n",
    "-Os df possuem valores ausentes ou duplicados, o que pode impactar as analises futuras.\n",
    "-Existem valores duplicados que também podem impactar as analises.\n",
    "-As colunas dos df possuem tipo de dados variados, incluindo strigns e object."
   ]
  },
  {
   "cell_type": "markdown",
   "id": "8RJHqxVmaVsF",
   "metadata": {
    "id": "8RJHqxVmaVsF"
   },
   "source": [
    "# Etapa 2. Preparação de dados\n",
    "\n",
    "Faça o pré-processamento dos dados da seguinte maneira:\n",
    "\n",
    "-\tVerifique e corrija os tipos de dados (por exemplo, certifique-se de que as colunas de ID sejam números inteiros)\n",
    "-\tIdentifique e preencha valores ausentes\n",
    "-\tIdentifique e remova valores duplicados\n",
    "\n",
    "Certifique-se de explicar que tipos de valores ausentes e duplicados você encontrou, como você os preencheu ou removeu, por que escolheu esses métodos e por que você acha que esses valores ausentes e duplicados estavam presentes no conjunto de dados."
   ]
  },
  {
   "cell_type": "markdown",
   "id": "p6poABZQaZYb",
   "metadata": {
    "id": "p6poABZQaZYb"
   },
   "source": [
    "## Plano de solução\n",
    "\n",
    "Escreva aqui seu plano para a Etapa 2. Preparação de dados\n",
    "\n",
    "Plano de ação:\n",
    "-Verificar e corrigir o tipo de dados (as colunas sejam do tipo int)\n",
    "-Converter a formato de data e hora para o formato apropriado\n",
    "-Identificar e tratar os valores ausentes\n",
    "-Identificar a presença de valores duplicados e remove-los"
   ]
  },
  {
   "cell_type": "markdown",
   "id": "07357848-dc64-4156-9cc3-01ff4365226d",
   "metadata": {
    "id": "07357848-dc64-4156-9cc3-01ff4365226d"
   },
   "source": [
    "## Encontre e remova valores duplicados (e descreva por que você está fazendo suas escolhas)"
   ]
  },
  {
   "cell_type": "markdown",
   "id": "f179f0a9",
   "metadata": {
    "id": "f179f0a9"
   },
   "source": [
    "### DataFrame `instacart_orders`"
   ]
  },
  {
   "cell_type": "code",
   "execution_count": null,
   "id": "b99297a5-405a-463d-8535-9adc3da4ad74",
   "metadata": {
    "id": "b99297a5-405a-463d-8535-9adc3da4ad74",
    "trusted": false
   },
   "outputs": [
    {
     "name": "stdout",
     "output_type": "stream",
     "text": [
      "        order_id  user_id  order_number  order_dow  order_hour_of_day  \\\n",
      "145574    794638    50898            24          3                  2   \n",
      "223105   2160484   107525            16          3                  2   \n",
      "230807   1918001   188546            14          3                  2   \n",
      "266232   1782114   106752             1          3                  2   \n",
      "273805   1112182   202304            84          3                  2   \n",
      "284038   2845099    31189            11          3                  2   \n",
      "311713   1021560    53767             3          3                  2   \n",
      "321100    408114    68324             4          3                  2   \n",
      "323900   1919531   191501            32          3                  2   \n",
      "345917   2232988    82565             1          3                  2   \n",
      "371905    391768    57671            19          3                  2   \n",
      "394347    467134    63189            21          3                  2   \n",
      "411408   1286742   183220            48          3                  2   \n",
      "415163   2282673    86751            49          3                  2   \n",
      "441599   2125197    14050            48          3                  2   \n",
      "\n",
      "        days_since_prior_order  \n",
      "145574                     2.0  \n",
      "223105                    30.0  \n",
      "230807                    16.0  \n",
      "266232                     NaN  \n",
      "273805                     6.0  \n",
      "284038                     7.0  \n",
      "311713                     9.0  \n",
      "321100                    18.0  \n",
      "323900                     7.0  \n",
      "345917                     NaN  \n",
      "371905                    10.0  \n",
      "394347                     2.0  \n",
      "411408                     4.0  \n",
      "415163                     2.0  \n",
      "441599                     3.0  \n"
     ]
    }
   ],
   "source": [
    "# Verificar se há pedidos duplicados\n",
    "\n",
    "duplicates_orders = instacart_orders_df[instacart_orders_df.duplicated()]\n",
    "print(duplicates_orders)"
   ]
  },
  {
   "cell_type": "markdown",
   "id": "PEkwUX_gvt5A",
   "metadata": {
    "id": "PEkwUX_gvt5A"
   },
   "source": [
    "Há linhas duplicadas? Se sim, o que elas têm em comum?\n",
    "Sim, temos linhas duplicadas como pode ser visto acima."
   ]
  },
  {
   "cell_type": "code",
   "execution_count": null,
   "id": "0d44de5d",
   "metadata": {
    "id": "0d44de5d",
    "trusted": false
   },
   "outputs": [
    {
     "name": "stdout",
     "output_type": "stream",
     "text": [
      "        order_id  user_id  order_number  order_dow  order_hour_of_day  \\\n",
      "4838     2766110   162084            41          3                  2   \n",
      "5156     2190225   138285            18          3                  2   \n",
      "15506     553049    58599            13          3                  2   \n",
      "18420     382357   120200            19          3                  2   \n",
      "24691     690242    77357             2          3                  2   \n",
      "...          ...      ...           ...        ...                ...   \n",
      "457013   3384021    14881             6          3                  2   \n",
      "458816    910166   164782            18          3                  2   \n",
      "459635   1680532   106435             6          3                  2   \n",
      "468324    222962    54979            59          3                  2   \n",
      "477526   2592344    46860            38          3                  2   \n",
      "\n",
      "        days_since_prior_order  \n",
      "4838                      16.0  \n",
      "5156                      11.0  \n",
      "15506                      7.0  \n",
      "18420                     11.0  \n",
      "24691                      9.0  \n",
      "...                        ...  \n",
      "457013                    30.0  \n",
      "458816                     4.0  \n",
      "459635                    21.0  \n",
      "468324                     3.0  \n",
      "477526                     3.0  \n",
      "\n",
      "[121 rows x 6 columns]\n"
     ]
    }
   ],
   "source": [
    "# Com base nas suas conclusões,verifique todos os pedidos feitos às 2h da manhã nas quartas-feiras\n",
    "\n",
    "early_morning_orders = instacart_orders_df[(instacart_orders_df['order_hour_of_day'] == 2) & (instacart_orders_df['order_dow'] == 3)]\n",
    "print(early_morning_orders)"
   ]
  },
  {
   "cell_type": "markdown",
   "id": "vu2OWyoqwOx5",
   "metadata": {
    "id": "vu2OWyoqwOx5"
   },
   "source": [
    "O que esse resultado quer dizer?\n",
    "\n",
    "Quer dizer que temos 121 pedidos feitos as 2h da manhã e as quartas feiras, porém tem valores duplicados."
   ]
  },
  {
   "cell_type": "code",
   "execution_count": null,
   "id": "480563c7",
   "metadata": {
    "id": "480563c7",
    "trusted": false
   },
   "outputs": [],
   "source": [
    "# Remova pedidos duplicados\n",
    "\n",
    "early_morning_orders = early_morning_orders.drop_duplicates()\n"
   ]
  },
  {
   "cell_type": "code",
   "execution_count": null,
   "id": "0b2396a2",
   "metadata": {
    "id": "0b2396a2",
    "trusted": false
   },
   "outputs": [
    {
     "name": "stdout",
     "output_type": "stream",
     "text": [
      "        order_id  user_id  order_number  order_dow  order_hour_of_day  \\\n",
      "4838     2766110   162084            41          3                  2   \n",
      "5156     2190225   138285            18          3                  2   \n",
      "15506     553049    58599            13          3                  2   \n",
      "18420     382357   120200            19          3                  2   \n",
      "24691     690242    77357             2          3                  2   \n",
      "...          ...      ...           ...        ...                ...   \n",
      "457013   3384021    14881             6          3                  2   \n",
      "458816    910166   164782            18          3                  2   \n",
      "459635   1680532   106435             6          3                  2   \n",
      "468324    222962    54979            59          3                  2   \n",
      "477526   2592344    46860            38          3                  2   \n",
      "\n",
      "        days_since_prior_order  \n",
      "4838                      16.0  \n",
      "5156                      11.0  \n",
      "15506                      7.0  \n",
      "18420                     11.0  \n",
      "24691                      9.0  \n",
      "...                        ...  \n",
      "457013                    30.0  \n",
      "458816                     4.0  \n",
      "459635                    21.0  \n",
      "468324                     3.0  \n",
      "477526                     3.0  \n",
      "\n",
      "[106 rows x 6 columns]\n"
     ]
    }
   ],
   "source": [
    "# Verifique as linhas duplicadas mais uma vez\n",
    "\n",
    "print(early_morning_orders)"
   ]
  },
  {
   "cell_type": "code",
   "execution_count": null,
   "id": "f6113ef1",
   "metadata": {
    "id": "f6113ef1",
    "trusted": false
   },
   "outputs": [
    {
     "name": "stdout",
     "output_type": "stream",
     "text": [
      "Empty DataFrame\n",
      "Columns: [order_id, user_id, order_number, order_dow, order_hour_of_day, days_since_prior_order]\n",
      "Index: []\n"
     ]
    }
   ],
   "source": [
    "# Verifique novamente apenas os IDs de pedidos duplicados\n",
    "\n",
    "duplicated_order_ids = early_morning_orders[early_morning_orders.duplicated(subset=['order_id'])]\n",
    "\n",
    "print(duplicated_order_ids)\n"
   ]
  },
  {
   "cell_type": "markdown",
   "id": "5e8905ae",
   "metadata": {
    "id": "5e8905ae"
   },
   "source": [
    "\n",
    "\n",
    "Descreva brevemente suas conclusões e o que você fez com elas.\n",
    "\n",
    "os valores duplicados foram eliminados."
   ]
  },
  {
   "cell_type": "markdown",
   "id": "45e6bc46",
   "metadata": {
    "id": "45e6bc46"
   },
   "source": [
    "### DataFrame `products`"
   ]
  },
  {
   "cell_type": "code",
   "execution_count": null,
   "id": "5f526b5b-8175-46fa-a0fd-441767d50e64",
   "metadata": {
    "id": "5f526b5b-8175-46fa-a0fd-441767d50e64",
    "trusted": false
   },
   "outputs": [
    {
     "name": "stdout",
     "output_type": "stream",
     "text": [
      "Empty DataFrame\n",
      "Columns: [product_id, product_name, aisle_id, department_id]\n",
      "Index: []\n"
     ]
    }
   ],
   "source": [
    "# Verifique se há linhas completamente duplicadas\n",
    "duplicated_rows = products_df[products_df.duplicated()]\n",
    "print(duplicated_rows)"
   ]
  },
  {
   "cell_type": "code",
   "execution_count": null,
   "id": "88daa4f4",
   "metadata": {
    "id": "88daa4f4",
    "trusted": false
   },
   "outputs": [
    {
     "name": "stdout",
     "output_type": "stream",
     "text": [
      "Empty DataFrame\n",
      "Columns: [product_id, product_name, aisle_id, department_id]\n",
      "Index: []\n"
     ]
    }
   ],
   "source": [
    "# Verifique apenas IDs dos produtos duplicados\n",
    "\n",
    "duplicated_product_ids = products_df[products_df.duplicated(subset=['product_id'])]\n",
    "print(duplicated_product_ids)"
   ]
  },
  {
   "cell_type": "code",
   "execution_count": null,
   "id": "c773f0bf",
   "metadata": {
    "id": "c773f0bf",
    "trusted": false
   },
   "outputs": [
    {
     "name": "stdout",
     "output_type": "stream",
     "text": [
      "       product_id product_name  aisle_id  department_id\n",
      "37             38          NaN       100             21\n",
      "71             72          NaN       100             21\n",
      "109           110          NaN       100             21\n",
      "296           297          NaN       100             21\n",
      "416           417          NaN       100             21\n",
      "...           ...          ...       ...            ...\n",
      "49552       49553          NaN       100             21\n",
      "49574       49575          NaN       100             21\n",
      "49640       49641          NaN       100             21\n",
      "49663       49664          NaN       100             21\n",
      "49668       49669          NaN       100             21\n",
      "\n",
      "[1258 rows x 4 columns]\n"
     ]
    },
    {
     "name": "stderr",
     "output_type": "stream",
     "text": [
      "/tmp/ipykernel_32/930203206.py:3: SettingWithCopyWarning: \n",
      "A value is trying to be set on a copy of a slice from a DataFrame.\n",
      "Try using .loc[row_indexer,col_indexer] = value instead\n",
      "\n",
      "See the caveats in the documentation: https://pandas.pydata.org/pandas-docs/stable/user_guide/indexing.html#returning-a-view-versus-a-copy\n",
      "  duplicated_product_names['product_name'] = duplicated_product_names['product_name'].str.lower()\n"
     ]
    }
   ],
   "source": [
    "# Verifique apenas nomes de produtos duplicados (converta os nomes para minúsculas para uma comparação melhor)\n",
    "duplicated_product_names = products_df[products_df.duplicated(subset=['product_name'], keep=False)]\n",
    "duplicated_product_names['product_name'] = duplicated_product_names['product_name'].str.lower()\n",
    "print(duplicated_product_names)"
   ]
  },
  {
   "cell_type": "code",
   "execution_count": null,
   "id": "01efd02e",
   "metadata": {
    "id": "01efd02e",
    "trusted": false
   },
   "outputs": [
    {
     "name": "stdout",
     "output_type": "stream",
     "text": [
      "Empty DataFrame\n",
      "Columns: [product_id, product_name, aisle_id, department_id]\n",
      "Index: []\n"
     ]
    }
   ],
   "source": [
    "# Verifique os nomes de produtos duplicados que não estão faltando\n",
    "\n",
    "duplicated_missing_names = duplicated_product_names[duplicated_product_names['product_name'].notna()]\n",
    "print(duplicated_missing_names)"
   ]
  },
  {
   "cell_type": "markdown",
   "id": "9da8d293",
   "metadata": {
    "id": "9da8d293"
   },
   "source": [
    "Descreva brevemente suas conclusões e o que você fez com elas.\n",
    "\n",
    "não temos valores duplicados após tratar os dados"
   ]
  },
  {
   "cell_type": "markdown",
   "id": "60f30db1",
   "metadata": {
    "id": "60f30db1"
   },
   "source": [
    "### DataFrame `departments`"
   ]
  },
  {
   "cell_type": "code",
   "execution_count": null,
   "id": "fb410ad4-0fbf-4b80-bb09-23fdea79afe3",
   "metadata": {
    "id": "fb410ad4-0fbf-4b80-bb09-23fdea79afe3",
    "trusted": false
   },
   "outputs": [
    {
     "name": "stdout",
     "output_type": "stream",
     "text": [
      "Empty DataFrame\n",
      "Columns: [department_id, department]\n",
      "Index: []\n"
     ]
    }
   ],
   "source": [
    "# Verifique se há linhas completamente duplicadas\n",
    "\n",
    "duplicated_rows_departments = departments_df[departments_df.duplicated()]\n",
    "print(duplicated_rows_departments)"
   ]
  },
  {
   "cell_type": "code",
   "execution_count": null,
   "id": "332b12bb",
   "metadata": {
    "id": "332b12bb",
    "trusted": false
   },
   "outputs": [
    {
     "name": "stdout",
     "output_type": "stream",
     "text": [
      "Empty DataFrame\n",
      "Columns: [department_id, department]\n",
      "Index: []\n"
     ]
    }
   ],
   "source": [
    "# Verifique apenas se há IDs dos produtos duplicados\n",
    "duplicated_product_ids_departments = departments_df[departments_df.duplicated(subset=['department_id'])]\n",
    "print(duplicated_product_ids_departments)"
   ]
  },
  {
   "cell_type": "markdown",
   "id": "bd30d78e",
   "metadata": {
    "id": "bd30d78e"
   },
   "source": [
    "Descreva brevemente suas conclusões e o que você fez com elas.\n",
    "não ha linhas duplicadas."
   ]
  },
  {
   "cell_type": "markdown",
   "id": "889349c1",
   "metadata": {
    "id": "889349c1"
   },
   "source": [
    "### DataFrame `aisles`"
   ]
  },
  {
   "cell_type": "code",
   "execution_count": null,
   "id": "9da89fb9-4679-40f5-ad0d-c34df753a3f8",
   "metadata": {
    "id": "9da89fb9-4679-40f5-ad0d-c34df753a3f8",
    "trusted": false
   },
   "outputs": [
    {
     "name": "stdout",
     "output_type": "stream",
     "text": [
      "Empty DataFrame\n",
      "Columns: [aisle_id, aisle]\n",
      "Index: []\n"
     ]
    }
   ],
   "source": [
    "# Verifique se há linhas completamente duplicadas\n",
    "\n",
    "duplicated_rows_aisles = aisles_df[aisles_df.duplicated()]\n",
    "print(duplicated_rows_aisles)"
   ]
  },
  {
   "cell_type": "code",
   "execution_count": null,
   "id": "da7c2822",
   "metadata": {
    "id": "da7c2822",
    "trusted": false
   },
   "outputs": [
    {
     "name": "stdout",
     "output_type": "stream",
     "text": [
      "Empty DataFrame\n",
      "Columns: [aisle_id, aisle]\n",
      "Index: []\n"
     ]
    }
   ],
   "source": [
    "# Verifique apenas se há IDs dos produtos duplicados\n",
    "duplicated_ids_aisles = aisles_df[aisles_df.duplicated(subset=['aisle_id'])]\n",
    "print(duplicated_ids_aisles)"
   ]
  },
  {
   "cell_type": "markdown",
   "id": "ac63826f",
   "metadata": {
    "id": "ac63826f"
   },
   "source": [
    "Descreva brevemente suas conclusões e o que você fez com elas."
   ]
  },
  {
   "cell_type": "markdown",
   "id": "274cd06a",
   "metadata": {
    "id": "274cd06a"
   },
   "source": [
    "### DataFrame `order_products`"
   ]
  },
  {
   "cell_type": "code",
   "execution_count": null,
   "id": "52326689-84a8-4b8f-a881-7c68780f62c9",
   "metadata": {
    "id": "52326689-84a8-4b8f-a881-7c68780f62c9",
    "trusted": false
   },
   "outputs": [
    {
     "name": "stdout",
     "output_type": "stream",
     "text": [
      "Empty DataFrame\n",
      "Columns: [order_id, product_id, add_to_cart_order, reordered]\n",
      "Index: []\n"
     ]
    }
   ],
   "source": [
    "# Verifique se há linhas completamente duplicadas\n",
    "duplicated_rows_order_products_df = order_products_df[order_products_df.duplicated()]\n",
    "print(duplicated_rows_order_products_df)"
   ]
  },
  {
   "cell_type": "code",
   "execution_count": null,
   "id": "7b861391",
   "metadata": {
    "id": "7b861391",
    "trusted": false
   },
   "outputs": [
    {
     "name": "stdout",
     "output_type": "stream",
     "text": [
      "         order_id  product_id  add_to_cart_order  reordered\n",
      "367       2867619       48094                9.0          0\n",
      "824        844425       39408               10.0          1\n",
      "1124      3319857       37067               19.0          0\n",
      "1258      1038788       12471               14.0          0\n",
      "1303      2825714       44632               16.0          1\n",
      "...           ...         ...                ...        ...\n",
      "4545002    577211       15290               12.0          1\n",
      "4545003   1219554       21914                9.0          0\n",
      "4545004    692640       47766                4.0          1\n",
      "4545005    319435         691                8.0          1\n",
      "4545006   1398151       28733                9.0          0\n",
      "\n",
      "[4094961 rows x 4 columns]\n"
     ]
    }
   ],
   "source": [
    "# Verifique mais uma vez se há outros casos complicados de duplicados\n",
    "duplicated_ids_order_products_df = order_products_df[order_products_df.duplicated(subset=['order_id'])]\n",
    "print(duplicated_ids_order_products_df)"
   ]
  },
  {
   "cell_type": "markdown",
   "id": "0b890492",
   "metadata": {
    "id": "0b890492"
   },
   "source": [
    "Descreva brevemente suas conclusões e o que você fez com elas.\n",
    "\n",
    "Não há linhas completamente duplicadas, porém temos linhas com valores duplicados de order_id."
   ]
  },
  {
   "cell_type": "markdown",
   "id": "1e46de76",
   "metadata": {
    "id": "1e46de76"
   },
   "source": [
    "## Encontre e remova valores ausentes\n",
    "\n",
    "\n",
    "Ao processarmos valores duplicados, observamos que também temos valores ausentes que precisamos investigar nas seguintes colunas:\n",
    "\n",
    "*\tA coluna `'product_name'` da tabela products.\n",
    "*\tA coluna `'days_since_prior_order'` da tabela orders.\n",
    "*\tA coluna `'add_to_cart_order'` da tabela order_products.\n"
   ]
  },
  {
   "cell_type": "markdown",
   "id": "c0aebd78",
   "metadata": {
    "id": "c0aebd78"
   },
   "source": [
    "### DataFrame `products`"
   ]
  },
  {
   "cell_type": "code",
   "execution_count": null,
   "id": "fe4a8b0f",
   "metadata": {
    "id": "fe4a8b0f",
    "trusted": false
   },
   "outputs": [
    {
     "name": "stdout",
     "output_type": "stream",
     "text": [
      "       product_id product_name  aisle_id  department_id\n",
      "37             38          NaN       100             21\n",
      "71             72          NaN       100             21\n",
      "109           110          NaN       100             21\n",
      "296           297          NaN       100             21\n",
      "416           417          NaN       100             21\n",
      "...           ...          ...       ...            ...\n",
      "49552       49553          NaN       100             21\n",
      "49574       49575          NaN       100             21\n",
      "49640       49641          NaN       100             21\n",
      "49663       49664          NaN       100             21\n",
      "49668       49669          NaN       100             21\n",
      "\n",
      "[1258 rows x 4 columns]\n"
     ]
    }
   ],
   "source": [
    "# Encontre valores ausentes na coluna 'product_name'\n",
    "missing_product_names = products_df[products_df['product_name'].isna()]\n",
    "print(missing_product_names)"
   ]
  },
  {
   "cell_type": "markdown",
   "id": "-A6x1AbJhjkp",
   "metadata": {
    "id": "-A6x1AbJhjkp"
   },
   "source": [
    "Descreva brevemente suas conclusões.\n",
    "1258 valores NaN"
   ]
  },
  {
   "cell_type": "code",
   "execution_count": null,
   "id": "e96167bc",
   "metadata": {
    "id": "e96167bc",
    "trusted": false
   },
   "outputs": [
    {
     "name": "stdout",
     "output_type": "stream",
     "text": [
      "       product_id product_name  aisle_id  department_id\n",
      "37             38          NaN       100             21\n",
      "71             72          NaN       100             21\n",
      "109           110          NaN       100             21\n",
      "296           297          NaN       100             21\n",
      "416           417          NaN       100             21\n",
      "...           ...          ...       ...            ...\n",
      "49552       49553          NaN       100             21\n",
      "49574       49575          NaN       100             21\n",
      "49640       49641          NaN       100             21\n",
      "49663       49664          NaN       100             21\n",
      "49668       49669          NaN       100             21\n",
      "\n",
      "[1258 rows x 4 columns]\n"
     ]
    }
   ],
   "source": [
    "# Todos os nomes de produtos ausentes estão associados com o corredor de ID 100?\n",
    "aisle_100_missing = missing_product_names[missing_product_names['aisle_id'] == 100]\n",
    "print(aisle_100_missing)"
   ]
  },
  {
   "cell_type": "markdown",
   "id": "WRpIfXRphpSL",
   "metadata": {
    "id": "WRpIfXRphpSL"
   },
   "source": [
    "Descreva brevemente suas conclusões.\n",
    "Todos os os nomes ausentes estão associados ao aisle_id 1000 pois em ambos os casos temos 1258 rows."
   ]
  },
  {
   "cell_type": "code",
   "execution_count": null,
   "id": "8fd0a541",
   "metadata": {
    "id": "8fd0a541",
    "trusted": false
   },
   "outputs": [
    {
     "name": "stdout",
     "output_type": "stream",
     "text": [
      "       product_id product_name  aisle_id  department_id\n",
      "37             38          NaN       100             21\n",
      "71             72          NaN       100             21\n",
      "109           110          NaN       100             21\n",
      "296           297          NaN       100             21\n",
      "416           417          NaN       100             21\n",
      "...           ...          ...       ...            ...\n",
      "49552       49553          NaN       100             21\n",
      "49574       49575          NaN       100             21\n",
      "49640       49641          NaN       100             21\n",
      "49663       49664          NaN       100             21\n",
      "49668       49669          NaN       100             21\n",
      "\n",
      "[1258 rows x 4 columns]\n"
     ]
    }
   ],
   "source": [
    "# Todos os nomes de produtos ausentes estão associados com o departamento de ID 21?\n",
    "department_21_missing = missing_product_names[missing_product_names['department_id'] == 21]\n",
    "print(department_21_missing)"
   ]
  },
  {
   "cell_type": "markdown",
   "id": "qDpdYn1Fht_I",
   "metadata": {
    "id": "qDpdYn1Fht_I"
   },
   "source": [
    "Descreva brevemente suas conclusões.\n",
    "Como temos 1258 rows, podemos afirmar que sim."
   ]
  },
  {
   "cell_type": "code",
   "execution_count": null,
   "id": "325c3464",
   "metadata": {
    "id": "325c3464",
    "trusted": false
   },
   "outputs": [
    {
     "name": "stdout",
     "output_type": "stream",
     "text": [
      "    aisle_id    aisle\n",
      "99       100  missing\n",
      "    department_id department\n",
      "20             21    missing\n"
     ]
    }
   ],
   "source": [
    "# Use as tabelas department e aisle para verificar os dados do corredor com ID 100 e do departamento com ID 21.\n",
    "aisle_100_info = aisles_df[aisles_df['aisle_id'] == 100]\n",
    "department_21_info = departments_df[departments_df['department_id'] == 21]\n",
    "\n",
    "print(aisle_100_info)\n",
    "print(department_21_info)"
   ]
  },
  {
   "cell_type": "markdown",
   "id": "nqhSTUPhhvEJ",
   "metadata": {
    "id": "nqhSTUPhhvEJ"
   },
   "source": [
    "Descreva brevemente suas conclusões."
   ]
  },
  {
   "cell_type": "code",
   "execution_count": null,
   "id": "6b295120",
   "metadata": {
    "id": "6b295120",
    "trusted": false
   },
   "outputs": [
    {
     "name": "stdout",
     "output_type": "stream",
     "text": [
      "       product_id product_name  aisle_id  department_id\n",
      "37             38      Unknown       100             21\n",
      "71             72      Unknown       100             21\n",
      "109           110      Unknown       100             21\n",
      "296           297      Unknown       100             21\n",
      "416           417      Unknown       100             21\n",
      "...           ...          ...       ...            ...\n",
      "49552       49553      Unknown       100             21\n",
      "49574       49575      Unknown       100             21\n",
      "49640       49641      Unknown       100             21\n",
      "49663       49664      Unknown       100             21\n",
      "49668       49669      Unknown       100             21\n",
      "\n",
      "[1258 rows x 4 columns]\n"
     ]
    }
   ],
   "source": [
    "# Preencha nomes de produtos ausentes com 'Unknown'\n",
    "products_df['product_name'].fillna('Unknown', inplace=True)\n",
    "print(products_df[products_df['product_name'] == 'Unknown'])"
   ]
  },
  {
   "cell_type": "markdown",
   "id": "fc70e5ad",
   "metadata": {
    "id": "fc70e5ad"
   },
   "source": [
    "Descreva brevemente suas conclusões e o que você fez com elas.\n",
    "os valores ausentes foram preenchidos evitando assim erros ao processar os dados."
   ]
  },
  {
   "cell_type": "markdown",
   "id": "7eb45c86",
   "metadata": {
    "id": "7eb45c86"
   },
   "source": [
    "### DataFrame `orders`"
   ]
  },
  {
   "cell_type": "code",
   "execution_count": null,
   "id": "93e41d96",
   "metadata": {
    "id": "93e41d96",
    "trusted": false
   },
   "outputs": [
    {
     "name": "stdout",
     "output_type": "stream",
     "text": [
      "        order_id  user_id  order_number  order_dow  order_hour_of_day  \\\n",
      "28        133707   182261             1          3                 10   \n",
      "96        787445    25685             1          6                 18   \n",
      "100       294410   111449             1          0                 19   \n",
      "103      2869915   123958             1          4                 16   \n",
      "104      2521921    42286             1          3                 18   \n",
      "...          ...      ...           ...        ...                ...   \n",
      "478895   2589657   205028             1          0                 16   \n",
      "478896   2222353   141211             1          2                 13   \n",
      "478922   2272807   204154             1          1                 15   \n",
      "478926   2499542    68810             1          4                 19   \n",
      "478945   1387033    22496             1          5                 14   \n",
      "\n",
      "        days_since_prior_order  \n",
      "28                         NaN  \n",
      "96                         NaN  \n",
      "100                        NaN  \n",
      "103                        NaN  \n",
      "104                        NaN  \n",
      "...                        ...  \n",
      "478895                     NaN  \n",
      "478896                     NaN  \n",
      "478922                     NaN  \n",
      "478926                     NaN  \n",
      "478945                     NaN  \n",
      "\n",
      "[28819 rows x 6 columns]\n"
     ]
    }
   ],
   "source": [
    "# Encontre os valores ausentes\n",
    "missing_days_since_order = instacart_orders_df[instacart_orders_df['days_since_prior_order'].isna()]\n",
    "print(missing_days_since_order)"
   ]
  },
  {
   "cell_type": "code",
   "execution_count": null,
   "id": "166e5a86",
   "metadata": {
    "id": "166e5a86",
    "trusted": false
   },
   "outputs": [
    {
     "name": "stdout",
     "output_type": "stream",
     "text": [
      "        order_id  user_id  order_number  order_dow  order_hour_of_day  \\\n",
      "28        133707   182261             1          3                 10   \n",
      "96        787445    25685             1          6                 18   \n",
      "100       294410   111449             1          0                 19   \n",
      "103      2869915   123958             1          4                 16   \n",
      "104      2521921    42286             1          3                 18   \n",
      "...          ...      ...           ...        ...                ...   \n",
      "478895   2589657   205028             1          0                 16   \n",
      "478896   2222353   141211             1          2                 13   \n",
      "478922   2272807   204154             1          1                 15   \n",
      "478926   2499542    68810             1          4                 19   \n",
      "478945   1387033    22496             1          5                 14   \n",
      "\n",
      "        days_since_prior_order  \n",
      "28                         NaN  \n",
      "96                         NaN  \n",
      "100                        NaN  \n",
      "103                        NaN  \n",
      "104                        NaN  \n",
      "...                        ...  \n",
      "478895                     NaN  \n",
      "478896                     NaN  \n",
      "478922                     NaN  \n",
      "478926                     NaN  \n",
      "478945                     NaN  \n",
      "\n",
      "[28819 rows x 6 columns]\n"
     ]
    }
   ],
   "source": [
    "# Há valores ausentes para os clientes que não estão fazendo o primeiro pedido?\n",
    "first_order_missing = missing_days_since_order[missing_days_since_order['order_number'] == 1]\n",
    "print(first_order_missing)"
   ]
  },
  {
   "cell_type": "markdown",
   "id": "4e23d089",
   "metadata": {
    "id": "4e23d089"
   },
   "source": [
    "Descreva brevemente suas conclusões e o que você fez com elas.\n",
    "\n",
    "Todos os valores ausentes correspondem ao primeiro pedido."
   ]
  },
  {
   "cell_type": "markdown",
   "id": "69dc9ca4",
   "metadata": {
    "id": "69dc9ca4"
   },
   "source": [
    "### DataFrame `order_products`"
   ]
  },
  {
   "cell_type": "code",
   "execution_count": null,
   "id": "b8240253",
   "metadata": {
    "id": "b8240253",
    "trusted": false
   },
   "outputs": [
    {
     "name": "stdout",
     "output_type": "stream",
     "text": [
      "836\n"
     ]
    }
   ],
   "source": [
    "# Encontre os valores ausentes\n",
    "missing_add_to_cart_order = order_products_df[order_products_df['add_to_cart_order'].isna()]\n",
    "print(missing_add_to_cart_order.shape[0])\n"
   ]
  },
  {
   "cell_type": "code",
   "execution_count": null,
   "id": "9a78e5ee",
   "metadata": {
    "id": "9a78e5ee",
    "trusted": false
   },
   "outputs": [
    {
     "name": "stdout",
     "output_type": "stream",
     "text": [
      "Valor mínimo em 'add_to_cart_order': 1.0\n",
      "Valor máximo em 'add_to_cart_order': 64.0\n"
     ]
    }
   ],
   "source": [
    "# Quais são os valores mínimo e máximo dessa coluna?\n",
    "min_value = order_products_df['add_to_cart_order'].min()\n",
    "max_value = order_products_df['add_to_cart_order'].max()\n",
    "print(\"Valor mínimo em 'add_to_cart_order':\", min_value)\n",
    "print(\"Valor máximo em 'add_to_cart_order':\", max_value)"
   ]
  },
  {
   "cell_type": "markdown",
   "id": "-Z2Ja215jW78",
   "metadata": {
    "id": "-Z2Ja215jW78"
   },
   "source": [
    "Descreva brevemente suas conclusões."
   ]
  },
  {
   "cell_type": "code",
   "execution_count": null,
   "id": "ab9d0c2b",
   "metadata": {
    "id": "ab9d0c2b",
    "trusted": false
   },
   "outputs": [],
   "source": [
    "# Salve todos os IDs dos pedidos com pelo menos um valor ausente em 'add_to_cart_order'\n",
    "orders_with_missing_add_to_cart_order = missing_add_to_cart_order['order_id'].unique()"
   ]
  },
  {
   "cell_type": "code",
   "execution_count": null,
   "id": "54c31695",
   "metadata": {
    "id": "54c31695",
    "trusted": false
   },
   "outputs": [
    {
     "name": "stdout",
     "output_type": "stream",
     "text": [
      "Contagem mínima de 'product_id' em pedidos com valores ausentes em 'add_to_cart_order': 65\n"
     ]
    }
   ],
   "source": [
    "# Todos os pedidos com valores ausentes contêm mais de 64 produtos?\n",
    "# Agrupe os pedidos com dados ausentes por ID de pedido\n",
    "# Conte o número de 'product_id' em cada pedido e verifique o valor mínimo da contagem\n",
    "\n",
    "orders_with_large_product_counts = order_products_df[order_products_df['order_id'].isin(orders_with_missing_add_to_cart_order)]\n",
    "grouped_orders = orders_with_large_product_counts.groupby('order_id')['product_id'].count()\n",
    "print(\"Contagem mínima de 'product_id' em pedidos com valores ausentes em 'add_to_cart_order':\", grouped_orders.min())\n"
   ]
  },
  {
   "cell_type": "markdown",
   "id": "p9V6pddtjglj",
   "metadata": {
    "id": "p9V6pddtjglj"
   },
   "source": [
    "Descreva brevemente suas conclusões.\n",
    "Todos os pedidos contêm mais de 64 produtos."
   ]
  },
  {
   "cell_type": "code",
   "execution_count": null,
   "id": "7a987d08",
   "metadata": {
    "id": "7a987d08",
    "trusted": false
   },
   "outputs": [
    {
     "name": "stdout",
     "output_type": "stream",
     "text": [
      "         order_id  product_id  add_to_cart_order  reordered\n",
      "737       2449164        5068                999          0\n",
      "9926      1968313       43867                999          0\n",
      "14394     2926893       11688                999          0\n",
      "16418     1717990        4142                999          0\n",
      "30114     1959075       42828                999          1\n",
      "...           ...         ...                ...        ...\n",
      "4505662   1800005        7411                999          0\n",
      "4511400   1633337         260                999          0\n",
      "4517562    404157        9517                999          0\n",
      "4534112   1673227       17835                999          0\n",
      "4535739   1832957       17949                999          1\n",
      "\n",
      "[836 rows x 4 columns]\n"
     ]
    }
   ],
   "source": [
    "# Substitua valores ausentes na coluna 'add_to_cart_order' por 999 e converta a coluna para o tipo integer\n",
    "\n",
    "order_products_df['add_to_cart_order'].fillna(999, inplace=True)\n",
    "order_products_df['add_to_cart_order'] = order_products_df['add_to_cart_order'].astype(int)\n",
    "\n",
    "print(order_products_df[order_products_df['add_to_cart_order'] == 999])"
   ]
  },
  {
   "cell_type": "markdown",
   "id": "UjrOIwTcz3ri",
   "metadata": {
    "id": "UjrOIwTcz3ri"
   },
   "source": [
    "# Etapa 3. Análise de dados\n",
    "\n",
    "Quando os dados estiverem processados ​​e prontos, execute a seguinte análise:"
   ]
  },
  {
   "cell_type": "markdown",
   "id": "turkish-kidney",
   "metadata": {
    "id": "turkish-kidney"
   },
   "source": [
    "# [A] Fácil (é necessário concluir tudo para passar)\n",
    "\n",
    "1.\tVerifique se os valores nas colunas `'order_hour_of_day'` e `'order_dow'` na tabela `orders` fazem sentido (ou seja, os valores da coluna  `'order_hour_of_day'` variam de 0 a 23 e os da `'order_dow'` variam de 0 a 6).\n",
    "2.\tCrie um gráfico que mostre quantas pessoas fazem pedidos a cada hora do dia.\n",
    "3.\tCrie um gráfico que mostre em que dia da semana as pessoas fazem compras.\n",
    "4.\tCrie um gráfico que mostre quanto tempo as pessoas esperam até fazer seu próximo pedido e comente sobre os valores mínimo e máximo.\n"
   ]
  },
  {
   "cell_type": "markdown",
   "id": "short-capability",
   "metadata": {
    "id": "short-capability"
   },
   "source": [
    "### [A1] Verifique se os valores fazem sentido"
   ]
  },
  {
   "cell_type": "code",
   "execution_count": null,
   "id": "growing-fruit",
   "metadata": {
    "id": "growing-fruit",
    "trusted": false
   },
   "outputs": [
    {
     "name": "stdout",
     "output_type": "stream",
     "text": [
      "Valores válidos em 'order_hour_of_day': True\n"
     ]
    }
   ],
   "source": [
    "valid_hours = instacart_orders_df['order_hour_of_day'].between(0, 23).all()\n",
    "print(\"Valores válidos em 'order_hour_of_day':\", valid_hours)"
   ]
  },
  {
   "cell_type": "code",
   "execution_count": null,
   "id": "accessory-malaysia",
   "metadata": {
    "id": "accessory-malaysia",
    "trusted": false
   },
   "outputs": [
    {
     "name": "stdout",
     "output_type": "stream",
     "text": [
      "Valores válidos em 'order_dow': True\n"
     ]
    }
   ],
   "source": [
    "valid_days = instacart_orders_df['order_dow'].between(0, 6).all()\n",
    "print(\"Valores válidos em 'order_dow':\", valid_days)"
   ]
  },
  {
   "cell_type": "markdown",
   "id": "hmR2GNQ6lCsX",
   "metadata": {
    "id": "hmR2GNQ6lCsX"
   },
   "source": [
    "Escreva suas conclusões aqui\n",
    "Como o resultado foi True, os valores fazem sentido."
   ]
  },
  {
   "cell_type": "markdown",
   "id": "a6743a70",
   "metadata": {
    "id": "a6743a70"
   },
   "source": [
    "### [A2] Quantas pessoas fazem pedidos a cada hora do dia?"
   ]
  },
  {
   "cell_type": "code",
   "execution_count": null,
   "id": "a36cca27",
   "metadata": {
    "id": "a36cca27",
    "trusted": false
   },
   "outputs": [
    {
     "data": {
      "image/png": "[encoded data removed]",
      "text/plain": [
       "<Figure size 1200x600 with 1 Axes>"
      ]
     },
     "metadata": {},
     "output_type": "display_data"
    }
   ],
   "source": [
    "import matplotlib.pyplot as plt\n",
    "\n",
    "# Contagem de pedidos por hora do dia\n",
    "orders_by_hour = instacart_orders_df.groupby('order_hour_of_day')['user_id'].nunique()\n",
    "\n",
    "# Gráfico \n",
    "plt.figure(figsize=(12, 6))\n",
    "orders_by_hour.plot(kind='bar')\n",
    "plt.title('Número de Pessoas que Fazem Pedidos por Hora do Dia')\n",
    "plt.xlabel('Hora do Dia')\n",
    "plt.ylabel('Número de Pessoas')\n",
    "plt.show()"
   ]
  },
  {
   "cell_type": "markdown",
   "id": "11270eed",
   "metadata": {
    "id": "11270eed"
   },
   "source": [
    "Escreva suas conclusões aqui\n",
    "Através do gráfico em barras, podemos ver quantos pedidos são feitos por hora."
   ]
  },
  {
   "cell_type": "markdown",
   "id": "documented-command",
   "metadata": {
    "id": "documented-command"
   },
   "source": [
    "### [A3] Em que dia da semana as pessoas compram produtos alimentícios?"
   ]
  },
  {
   "cell_type": "code",
   "execution_count": null,
   "id": "chief-digit",
   "metadata": {
    "id": "chief-digit",
    "trusted": false
   },
   "outputs": [
    {
     "data": {
      "image/png": "[encoded data removed]",
      "text/plain": [
       "<Figure size 800x600 with 1 Axes>"
      ]
     },
     "metadata": {},
     "output_type": "display_data"
    }
   ],
   "source": [
    "# Contagem de pedidos por dia da semana\n",
    "orders_per_day = instacart_orders_df['order_dow'].value_counts().sort_index()\n",
    "\n",
    "# Gráfico \n",
    "plt.figure(figsize=(8, 6))\n",
    "orders_per_day.plot(kind='bar')\n",
    "plt.title('Número de Pedidos por Dia da Semana')\n",
    "plt.xlabel('Dia da Semana (0 = Domingo)')\n",
    "plt.ylabel('Número de Pedidos')\n",
    "plt.show()"
   ]
  },
  {
   "cell_type": "markdown",
   "id": "dominant-lightning",
   "metadata": {
    "id": "dominant-lightning"
   },
   "source": [
    "Conclusão:\n",
    "\n",
    "Domingo é o dia com maior número de pedidos"
   ]
  },
  {
   "cell_type": "markdown",
   "id": "cutting-concert",
   "metadata": {
    "id": "cutting-concert"
   },
   "source": [
    "### [A4] Quanto tempo as pessoas esperam até fazer outro pedido?"
   ]
  },
  {
   "cell_type": "markdown",
   "id": "discrete-vertex",
   "metadata": {
    "id": "discrete-vertex"
   },
   "source": [
    "Através do gráfico podemos ver a distribuição entre o número de pedidos e o intervalo.\n",
    "Sendo o tempo minimo 0 e o tempo maximo 30."
   ]
  },
  {
   "cell_type": "code",
   "execution_count": null,
   "id": "gMOIimGd5VNb",
   "metadata": {
    "id": "gMOIimGd5VNb",
    "trusted": false
   },
   "outputs": [
    {
     "data": {
      "image/png": "[encoded data removed]",
      "text/plain": [
       "<Figure size 1000x600 with 1 Axes>"
      ]
     },
     "metadata": {},
     "output_type": "display_data"
    }
   ],
   "source": [
    "plt.figure(figsize=(10, 6))\n",
    "instacart_orders_df['days_since_prior_order'].dropna().plot(kind='hist', bins=30)\n",
    "plt.title('Intervalo de Tempo até o Próximo Pedido')\n",
    "plt.xlabel('Dias desde o Pedido Anterior')\n",
    "plt.ylabel('Número de Pedidos')\n",
    "plt.show()\n"
   ]
  },
  {
   "cell_type": "markdown",
   "id": "tight-staff",
   "metadata": {
    "id": "tight-staff"
   },
   "source": [
    "# [B] Médio (é necessário concluir tudo para passar)\n",
    "\n",
    "1.\tHá alguma diferença nas distribuições de `'order_hour_of_day'` nas quartas e sábados? Construa gráficos de barras para ambos os dias no mesmo gráfico e descreva as diferenças que você notou.\n",
    "2.\tConstrua um gráfico de distribuição para o número de pedidos que os clientes fazem (ou seja, quantos clientes fizeram apenas 1 pedido, quantos fizeram apenas 2, quantos apenas 3, etc.)\n",
    "3.\tQuais são os 20 produtos comprados com mais frequência? Exiba os IDs e nomes.\n"
   ]
  },
  {
   "cell_type": "markdown",
   "id": "packed-classic",
   "metadata": {
    "id": "packed-classic"
   },
   "source": [
    "### [B1] Diferenças nas quartas e sábados em `'order_hour_of_day'`. Crie gráficos de barras para ambos os dias e descreva as diferenças."
   ]
  },
  {
   "cell_type": "code",
   "execution_count": null,
   "id": "d89b8403",
   "metadata": {
    "id": "d89b8403",
    "trusted": false
   },
   "outputs": [
    {
     "data": {
      "image/png": "[encoded data removed]",
      "text/plain": [
       "<Figure size 1200x600 with 1 Axes>"
      ]
     },
     "metadata": {},
     "output_type": "display_data"
    }
   ],
   "source": [
    "# Filtrando os pedidos feitos nas quartas-feiras e sábados\n",
    "wednesday_orders = instacart_orders_df[instacart_orders_df['order_dow'] == 3]\n",
    "saturday_orders = instacart_orders_df[instacart_orders_df['order_dow'] == 5]\n",
    "\n",
    "# Contando os pedidos por hora para quartas e sábados\n",
    "wednesday_order_hours = wednesday_orders['order_hour_of_day'].value_counts().sort_index()\n",
    "saturday_order_hours = saturday_orders['order_hour_of_day'].value_counts().sort_index()\n",
    "\n",
    "# Gráfico de barras sobreposto \n",
    "plt.figure(figsize=(12, 6))\n",
    "plt.bar(wednesday_order_hours.index - 0.2, wednesday_order_hours.values, width=0.4, label='Quarta-feira')\n",
    "plt.bar(saturday_order_hours.index + 0.2, saturday_order_hours.values, width=0.4, label='Sábado')\n",
    "plt.xlabel('Hora do Dia')\n",
    "plt.ylabel('Número de Pedidos')\n",
    "plt.title('Distribuição de Pedidos por Hora - Quartas x Sábados')\n",
    "plt.legend()\n",
    "plt.xticks(range(24))\n",
    "plt.show()"
   ]
  },
  {
   "cell_type": "markdown",
   "id": "charitable-congo",
   "metadata": {
    "id": "charitable-congo"
   },
   "source": [
    "Conclusões:\n",
    "Nota-se observando os gráficos que:\n",
    "Pedidos feitos nas quartas tem horario de pico de manhã e final da tarde.\n",
    "Pedidos feitos nos sábados, tem horario de pico mais tarde\n",
    "Essa análise ajuda a identificar quando a demanda é mais intensa em dias úteis versus finais de semana."
   ]
  },
  {
   "cell_type": "markdown",
   "id": "e3891143",
   "metadata": {
    "id": "e3891143"
   },
   "source": [
    "### [B2] Qual é a distribuição do número de pedidos por cliente?"
   ]
  },
  {
   "cell_type": "code",
   "execution_count": null,
   "id": "d8c26c23",
   "metadata": {
    "id": "d8c26c23",
    "trusted": false
   },
   "outputs": [
    {
     "data": {
      "image/png": "[encoded data removed]",
      "text/plain": [
       "<Figure size 1200x600 with 1 Axes>"
      ]
     },
     "metadata": {},
     "output_type": "display_data"
    }
   ],
   "source": [
    "# Contando o número de pedidos por cliente\n",
    "orders_per_customer = instacart_orders_df['user_id'].value_counts()\n",
    "\n",
    "# Gráfico de distribuição do número de pedidos por cliente\n",
    "plt.figure(figsize=(12, 6))\n",
    "orders_per_customer.value_counts().sort_index().plot(kind='bar')\n",
    "plt.xlabel('Número de Pedidos por Cliente')\n",
    "plt.ylabel('Quantidade de Clientes')\n",
    "plt.title('Distribuição do Número de Pedidos por Cliente')\n",
    "plt.show()"
   ]
  },
  {
   "cell_type": "markdown",
   "id": "d2eff7d5",
   "metadata": {
    "id": "d2eff7d5"
   },
   "source": [
    "Conclusões:\n",
    "\n",
    "A maioria dos clientes fazem de 1 a 2 pedidos."
   ]
  },
  {
   "cell_type": "markdown",
   "id": "54a0319c",
   "metadata": {
    "id": "54a0319c"
   },
   "source": [
    "### [B3] Quais são os 20 produtos mais populares? Exiba os IDs e nomes."
   ]
  },
  {
   "cell_type": "code",
   "execution_count": null,
   "id": "exterior-arizona",
   "metadata": {
    "id": "exterior-arizona",
    "scrolled": true,
    "trusted": false
   },
   "outputs": [
    {
     "name": "stdout",
     "output_type": "stream",
     "text": [
      "ordem do top_20_product_ids:     product_id              product_name  order_id\n",
      "0        24852                    Banana     66050\n",
      "1        13176    Bag of Organic Bananas     53297\n",
      "2        21137      Organic Strawberries     37039\n",
      "3        21903      Organic Baby Spinach     33971\n",
      "4        47209      Organic Hass Avocado     29773\n",
      "5        47766           Organic Avocado     24689\n",
      "6        47626               Large Lemon     21495\n",
      "7        16797              Strawberries     20018\n",
      "8        26209                     Limes     19690\n",
      "9        27845        Organic Whole Milk     19600\n",
      "10       27966       Organic Raspberries     19197\n",
      "11       22935      Organic Yellow Onion     15898\n",
      "12       24964            Organic Garlic     15292\n",
      "13       45007          Organic Zucchini     14584\n",
      "14       39275       Organic Blueberries     13879\n",
      "15       49683            Cucumber Kirby     13675\n",
      "16       28204        Organic Fuji Apple     12544\n",
      "17        5876             Organic Lemon     12232\n",
      "18        8277  Apple Honeycrisp Organic     11993\n",
      "19       40706    Organic Grape Tomatoes     11781\n",
      "\n",
      "\n",
      "ordem do top_20_products: Index(['Banana', 'Bag of Organic Bananas', 'Organic Strawberries',\n",
      "       'Organic Baby Spinach', 'Organic Hass Avocado', 'Organic Avocado',\n",
      "       'Large Lemon', 'Strawberries', 'Limes', 'Organic Whole Milk',\n",
      "       'Organic Raspberries', 'Organic Yellow Onion', 'Organic Garlic',\n",
      "       'Organic Zucchini', 'Organic Blueberries', 'Cucumber Kirby',\n",
      "       'Organic Fuji Apple', 'Organic Lemon', 'Apple Honeycrisp Organic',\n",
      "       'Organic Grape Tomatoes'],\n",
      "      dtype='object')\n"
     ]
    }
   ],
   "source": [
    "# Combinando as tabelas order_products e products para obter os nomes dos produtos\n",
    "top_products = order_products_df.merge(products_df, on='product_id', how='left')\n",
    "\n",
    "# Contando os top 20 produtos mais comprados e ordenando\n",
    "top_20_products = top_products['product_name'].value_counts().head(20)\n",
    "\n",
    "# Localizando as IDs e nomes dos 20 produtos mais comprados \n",
    "top_20_products_df = (\n",
    "    top_products[top_products['product_name'].isin(top_20_products.index)]\n",
    "    .groupby(['product_id', 'product_name'])['order_id'].count().sort_values(ascending=False).head(20).reset_index()\n",
    ")\n",
    "\n",
    "# Exibindo o resultado\n",
    "print('ordem do top_20_product_ids:',top_20_products_df)\n",
    "print('\\n')\n",
    "print('ordem do top_20_products:',top_20_products.index)"
   ]
  },
  {
   "cell_type": "markdown",
   "id": "7df00f47",
   "metadata": {
    "id": "7df00f47"
   },
   "source": [
    "Conclusões:\n",
    "\n",
    "Saber os principais produtos comprados pelos clientes é um dado muito relevante para gerenciar o estoque, fazer promoções e etc."
   ]
  },
  {
   "cell_type": "markdown",
   "id": "gross-theme",
   "metadata": {
    "id": "gross-theme"
   },
   "source": [
    "# [C] Difícil (é necessário concluir pelo menos duas perguntas para passar)\n",
    "\n",
    "1.\tQuantos itens as pessoas normalmente compram em um pedido? Como fica a distribuição?\n",
    "2.\tQuais são os 20 principais itens incluídos mais frequentemente em pedidos repetidos? Exiba os IDs e nomes.\n",
    "3.\tPara cada produto, qual parcela de seus pedidos são repetidos? Crie uma tabela com colunas de ID e nome do produto e a proporção de pedidos repetidos.\n",
    "4.\tPara cada cliente, qual proporção de todos os seus pedidos são repetidos?\n",
    "5.\tQuais são os 20 principais itens que as pessoas colocam nos carrinhos antes de todos os outros? Exiba o ID do produto, nome e o número de vezes que ele foi o primeiro a ser adicionado a um carrinho.\n"
   ]
  },
  {
   "cell_type": "markdown",
   "id": "romantic-deposit",
   "metadata": {
    "id": "romantic-deposit"
   },
   "source": [
    "### [C1] Quantos itens as pessoas normalmente compram em um pedido? Como fica a distribuição?"
   ]
  },
  {
   "cell_type": "code",
   "execution_count": null,
   "id": "virtual-punch",
   "metadata": {
    "id": "virtual-punch",
    "trusted": false
   },
   "outputs": [],
   "source": [
    "#para responder essa questão, primeiro precisa-se calcular o número de itens que as pessoas normalmente compram em cada pedido e visualizar a distribuição desses valores para entender o comportamento de compra dos clientes."
   ]
  },
  {
   "cell_type": "code",
   "execution_count": null,
   "id": "sensitive-breathing",
   "metadata": {
    "id": "sensitive-breathing",
    "trusted": false
   },
   "outputs": [],
   "source": [
    "items_per_order = order_products_df['order_id'].value_counts()\n",
    "\n",
    "plt.figure(figsize=(12, 6))\n",
    "items_per_order.plot(kind='hist', bins=30)\n",
    "plt.xlabel('Quantidade de Itens por Pedido')\n",
    "plt.ylabel('Frequência')\n",
    "plt.title('Distribuição da Quantidade de Itens por Pedido')\n",
    "plt.show()"
   ]
  },
  {
   "cell_type": "markdown",
   "id": "designed-mortality",
   "metadata": {
    "id": "designed-mortality"
   },
   "source": [
    "Conclusões:\n",
    "\n",
    "A maioria dos pedidos feitos, contém poucos itens."
   ]
  },
  {
   "cell_type": "markdown",
   "id": "TisH_5Cp3wAi",
   "metadata": {
    "id": "TisH_5Cp3wAi"
   },
   "source": [
    "# Conclusão geral do projeto:"
   ]
  },
  {
   "cell_type": "code",
   "execution_count": null,
   "id": "Nk-4GS7mDwqY",
   "metadata": {
    "id": "Nk-4GS7mDwqY",
    "trusted": false
   },
   "outputs": [],
   "source": [
    "Ao manipular os dados, temos condições de realizar analises mais precisas.\n",
    "Com as ferramentas de AED, conseguimos ter visões que apenas os dados brutos não dariam e isso ajuda na tomada de decisões para qualquer negocio."
   ]
  }
 ],
 "metadata": {
  "ExecuteTimeLog": [
   {
    "duration": 160,
    "start_time": "2024-10-28T17:10:22.169Z"
   },
   {
    "duration": 13,
    "start_time": "2024-10-28T17:10:40.528Z"
   },
   {
    "duration": 318,
    "start_time": "2024-10-28T17:10:42.734Z"
   },
   {
    "duration": 3,
    "start_time": "2024-10-28T17:10:56.761Z"
   },
   {
    "duration": 2568,
    "start_time": "2024-10-28T17:10:58.811Z"
   },
   {
    "duration": 21,
    "start_time": "2024-10-28T17:11:02.934Z"
   },
   {
    "duration": 9,
    "start_time": "2024-10-28T17:11:04.281Z"
   },
   {
    "duration": 7,
    "start_time": "2024-10-28T17:11:09.444Z"
   },
   {
    "duration": 8,
    "start_time": "2024-10-28T17:11:11.411Z"
   },
   {
    "duration": 7,
    "start_time": "2024-10-28T17:11:14.426Z"
   },
   {
    "duration": 186,
    "start_time": "2024-10-28T17:24:58.543Z"
   },
   {
    "duration": 449,
    "start_time": "2024-10-28T17:27:31.519Z"
   },
   {
    "duration": 37,
    "start_time": "2024-10-28T17:27:36.473Z"
   },
   {
    "duration": 2,
    "start_time": "2024-10-28T17:28:33.591Z"
   },
   {
    "duration": 2585,
    "start_time": "2024-10-28T17:28:33.598Z"
   },
   {
    "duration": 22,
    "start_time": "2024-10-28T17:28:36.187Z"
   },
   {
    "duration": 10,
    "start_time": "2024-10-28T17:28:36.211Z"
   },
   {
    "duration": 13,
    "start_time": "2024-10-28T17:28:36.223Z"
   },
   {
    "duration": 7,
    "start_time": "2024-10-28T17:28:36.239Z"
   },
   {
    "duration": 8,
    "start_time": "2024-10-28T17:28:36.248Z"
   },
   {
    "duration": 208,
    "start_time": "2024-10-28T17:28:36.257Z"
   },
   {
    "duration": 40,
    "start_time": "2024-10-28T17:28:36.467Z"
   },
   {
    "duration": 0,
    "start_time": "2024-10-28T17:28:36.510Z"
   },
   {
    "duration": 0,
    "start_time": "2024-10-28T17:28:36.511Z"
   },
   {
    "duration": 0,
    "start_time": "2024-10-28T17:28:36.511Z"
   },
   {
    "duration": 1,
    "start_time": "2024-10-28T17:28:36.531Z"
   },
   {
    "duration": 0,
    "start_time": "2024-10-28T17:28:36.533Z"
   },
   {
    "duration": 0,
    "start_time": "2024-10-28T17:28:36.535Z"
   },
   {
    "duration": 0,
    "start_time": "2024-10-28T17:28:36.536Z"
   },
   {
    "duration": 0,
    "start_time": "2024-10-28T17:28:36.537Z"
   },
   {
    "duration": 0,
    "start_time": "2024-10-28T17:28:36.538Z"
   },
   {
    "duration": 0,
    "start_time": "2024-10-28T17:28:36.539Z"
   },
   {
    "duration": 0,
    "start_time": "2024-10-28T17:28:36.540Z"
   },
   {
    "duration": 0,
    "start_time": "2024-10-28T17:28:36.541Z"
   },
   {
    "duration": 0,
    "start_time": "2024-10-28T17:28:36.542Z"
   },
   {
    "duration": 0,
    "start_time": "2024-10-28T17:28:36.543Z"
   },
   {
    "duration": 0,
    "start_time": "2024-10-28T17:28:36.544Z"
   },
   {
    "duration": 0,
    "start_time": "2024-10-28T17:28:36.548Z"
   },
   {
    "duration": 0,
    "start_time": "2024-10-28T17:28:36.549Z"
   },
   {
    "duration": 0,
    "start_time": "2024-10-28T17:28:36.550Z"
   },
   {
    "duration": 0,
    "start_time": "2024-10-28T17:28:36.551Z"
   },
   {
    "duration": 0,
    "start_time": "2024-10-28T17:28:36.552Z"
   },
   {
    "duration": 0,
    "start_time": "2024-10-28T17:28:36.553Z"
   },
   {
    "duration": 0,
    "start_time": "2024-10-28T17:28:36.554Z"
   },
   {
    "duration": 0,
    "start_time": "2024-10-28T17:28:36.555Z"
   },
   {
    "duration": 0,
    "start_time": "2024-10-28T17:28:36.556Z"
   },
   {
    "duration": 0,
    "start_time": "2024-10-28T17:28:36.557Z"
   },
   {
    "duration": 43,
    "start_time": "2024-10-28T17:36:29.547Z"
   },
   {
    "duration": 2,
    "start_time": "2024-10-28T17:36:53.078Z"
   },
   {
    "duration": 2400,
    "start_time": "2024-10-28T17:36:53.082Z"
   },
   {
    "duration": 20,
    "start_time": "2024-10-28T17:36:55.484Z"
   },
   {
    "duration": 9,
    "start_time": "2024-10-28T17:36:55.506Z"
   },
   {
    "duration": 7,
    "start_time": "2024-10-28T17:36:55.532Z"
   },
   {
    "duration": 7,
    "start_time": "2024-10-28T17:36:55.541Z"
   },
   {
    "duration": 7,
    "start_time": "2024-10-28T17:36:55.550Z"
   },
   {
    "duration": 220,
    "start_time": "2024-10-28T17:36:55.558Z"
   },
   {
    "duration": 38,
    "start_time": "2024-10-28T17:36:55.780Z"
   },
   {
    "duration": 0,
    "start_time": "2024-10-28T17:36:55.831Z"
   },
   {
    "duration": 0,
    "start_time": "2024-10-28T17:36:55.832Z"
   },
   {
    "duration": 0,
    "start_time": "2024-10-28T17:36:55.834Z"
   },
   {
    "duration": 0,
    "start_time": "2024-10-28T17:36:55.835Z"
   },
   {
    "duration": 0,
    "start_time": "2024-10-28T17:36:55.836Z"
   },
   {
    "duration": 0,
    "start_time": "2024-10-28T17:36:55.837Z"
   },
   {
    "duration": 0,
    "start_time": "2024-10-28T17:36:55.840Z"
   },
   {
    "duration": 0,
    "start_time": "2024-10-28T17:36:55.841Z"
   },
   {
    "duration": 0,
    "start_time": "2024-10-28T17:36:55.842Z"
   },
   {
    "duration": 0,
    "start_time": "2024-10-28T17:36:55.844Z"
   },
   {
    "duration": 0,
    "start_time": "2024-10-28T17:36:55.845Z"
   },
   {
    "duration": 0,
    "start_time": "2024-10-28T17:36:55.847Z"
   },
   {
    "duration": 0,
    "start_time": "2024-10-28T17:36:55.848Z"
   },
   {
    "duration": 0,
    "start_time": "2024-10-28T17:36:55.850Z"
   },
   {
    "duration": 0,
    "start_time": "2024-10-28T17:36:55.851Z"
   },
   {
    "duration": 0,
    "start_time": "2024-10-28T17:36:55.853Z"
   },
   {
    "duration": 0,
    "start_time": "2024-10-28T17:36:55.855Z"
   },
   {
    "duration": 0,
    "start_time": "2024-10-28T17:36:55.856Z"
   },
   {
    "duration": 0,
    "start_time": "2024-10-28T17:36:55.857Z"
   },
   {
    "duration": 0,
    "start_time": "2024-10-28T17:36:55.859Z"
   },
   {
    "duration": 0,
    "start_time": "2024-10-28T17:36:55.860Z"
   },
   {
    "duration": 0,
    "start_time": "2024-10-28T17:36:55.861Z"
   },
   {
    "duration": 0,
    "start_time": "2024-10-28T17:36:55.862Z"
   },
   {
    "duration": 0,
    "start_time": "2024-10-28T17:36:55.863Z"
   },
   {
    "duration": 0,
    "start_time": "2024-10-28T17:36:55.864Z"
   },
   {
    "duration": 187,
    "start_time": "2024-10-28T17:49:02.446Z"
   },
   {
    "duration": 38,
    "start_time": "2024-10-28T17:49:05.979Z"
   },
   {
    "duration": 2379,
    "start_time": "2024-10-28T17:56:37.908Z"
   },
   {
    "duration": 20,
    "start_time": "2024-10-28T17:56:41.066Z"
   },
   {
    "duration": 9,
    "start_time": "2024-10-28T17:56:43.073Z"
   },
   {
    "duration": 7,
    "start_time": "2024-10-28T17:56:44.667Z"
   },
   {
    "duration": 7,
    "start_time": "2024-10-28T17:56:46.393Z"
   },
   {
    "duration": 8,
    "start_time": "2024-10-28T17:56:47.738Z"
   },
   {
    "duration": 190,
    "start_time": "2024-10-28T17:57:08.766Z"
   },
   {
    "duration": 42,
    "start_time": "2024-10-28T17:57:36.200Z"
   },
   {
    "duration": 39,
    "start_time": "2024-10-28T17:58:18.516Z"
   },
   {
    "duration": 2,
    "start_time": "2024-10-28T18:03:55.127Z"
   },
   {
    "duration": 2311,
    "start_time": "2024-10-28T18:03:55.131Z"
   },
   {
    "duration": 10,
    "start_time": "2024-10-28T18:03:57.444Z"
   },
   {
    "duration": 9,
    "start_time": "2024-10-28T18:03:57.455Z"
   },
   {
    "duration": 6,
    "start_time": "2024-10-28T18:03:57.466Z"
   },
   {
    "duration": 8,
    "start_time": "2024-10-28T18:03:57.474Z"
   },
   {
    "duration": 8,
    "start_time": "2024-10-28T18:03:57.483Z"
   },
   {
    "duration": 132,
    "start_time": "2024-10-28T18:03:57.492Z"
   },
   {
    "duration": 19,
    "start_time": "2024-10-28T18:03:57.626Z"
   },
   {
    "duration": 5,
    "start_time": "2024-10-28T18:03:57.647Z"
   },
   {
    "duration": 2,
    "start_time": "2024-10-28T18:03:57.656Z"
   },
   {
    "duration": 4,
    "start_time": "2024-10-28T18:03:57.660Z"
   },
   {
    "duration": 2,
    "start_time": "2024-10-28T18:03:57.667Z"
   },
   {
    "duration": 2,
    "start_time": "2024-10-28T18:03:57.671Z"
   },
   {
    "duration": 4,
    "start_time": "2024-10-28T18:03:57.675Z"
   },
   {
    "duration": 2,
    "start_time": "2024-10-28T18:03:57.681Z"
   },
   {
    "duration": 4,
    "start_time": "2024-10-28T18:03:57.684Z"
   },
   {
    "duration": 3,
    "start_time": "2024-10-28T18:03:57.689Z"
   },
   {
    "duration": 2,
    "start_time": "2024-10-28T18:03:57.694Z"
   },
   {
    "duration": 34,
    "start_time": "2024-10-28T18:03:57.697Z"
   },
   {
    "duration": 3,
    "start_time": "2024-10-28T18:03:57.734Z"
   },
   {
    "duration": 2,
    "start_time": "2024-10-28T18:03:57.739Z"
   },
   {
    "duration": 3,
    "start_time": "2024-10-28T18:03:57.744Z"
   },
   {
    "duration": 2,
    "start_time": "2024-10-28T18:03:57.749Z"
   },
   {
    "duration": 2,
    "start_time": "2024-10-28T18:03:57.753Z"
   },
   {
    "duration": 2,
    "start_time": "2024-10-28T18:03:57.757Z"
   },
   {
    "duration": 3,
    "start_time": "2024-10-28T18:03:57.761Z"
   },
   {
    "duration": 3,
    "start_time": "2024-10-28T18:03:57.765Z"
   },
   {
    "duration": 3,
    "start_time": "2024-10-28T18:03:57.772Z"
   },
   {
    "duration": 3,
    "start_time": "2024-10-28T18:03:57.776Z"
   },
   {
    "duration": 2,
    "start_time": "2024-10-28T18:03:57.781Z"
   },
   {
    "duration": 48,
    "start_time": "2024-10-28T18:03:57.785Z"
   },
   {
    "duration": 3,
    "start_time": "2024-10-28T18:03:57.835Z"
   },
   {
    "duration": 2,
    "start_time": "2024-10-28T18:03:57.840Z"
   },
   {
    "duration": 4,
    "start_time": "2024-10-28T18:32:34.679Z"
   },
   {
    "duration": 6,
    "start_time": "2024-10-28T18:32:58.996Z"
   },
   {
    "duration": 5,
    "start_time": "2024-10-28T18:34:31.771Z"
   },
   {
    "duration": 3,
    "start_time": "2024-10-28T18:34:34.946Z"
   },
   {
    "duration": 5,
    "start_time": "2024-10-28T18:34:53.705Z"
   },
   {
    "duration": 13,
    "start_time": "2024-10-28T18:57:58.795Z"
   },
   {
    "duration": 22,
    "start_time": "2024-10-28T18:58:39.236Z"
   },
   {
    "duration": 2206,
    "start_time": "2024-10-28T18:59:55.681Z"
   },
   {
    "duration": 4,
    "start_time": "2024-10-28T19:00:02.509Z"
   },
   {
    "duration": 2212,
    "start_time": "2024-10-28T19:00:02.517Z"
   },
   {
    "duration": 13,
    "start_time": "2024-10-28T19:00:04.730Z"
   },
   {
    "duration": 12,
    "start_time": "2024-10-28T19:00:04.744Z"
   },
   {
    "duration": 8,
    "start_time": "2024-10-28T19:00:04.758Z"
   },
   {
    "duration": 7,
    "start_time": "2024-10-28T19:00:04.770Z"
   },
   {
    "duration": 8,
    "start_time": "2024-10-28T19:00:04.780Z"
   },
   {
    "duration": 117,
    "start_time": "2024-10-28T19:00:04.789Z"
   },
   {
    "duration": 7,
    "start_time": "2024-10-28T19:00:04.908Z"
   },
   {
    "duration": 3,
    "start_time": "2024-10-28T19:00:04.918Z"
   },
   {
    "duration": 6,
    "start_time": "2024-10-28T19:00:04.931Z"
   },
   {
    "duration": 6,
    "start_time": "2024-10-28T19:00:04.938Z"
   },
   {
    "duration": 14,
    "start_time": "2024-10-28T19:00:04.945Z"
   },
   {
    "duration": 6,
    "start_time": "2024-10-28T19:00:04.961Z"
   },
   {
    "duration": 2,
    "start_time": "2024-10-28T19:00:04.970Z"
   },
   {
    "duration": 5,
    "start_time": "2024-10-28T19:00:04.973Z"
   },
   {
    "duration": 2,
    "start_time": "2024-10-28T19:00:04.980Z"
   },
   {
    "duration": 2,
    "start_time": "2024-10-28T19:00:04.984Z"
   },
   {
    "duration": 2,
    "start_time": "2024-10-28T19:00:04.988Z"
   },
   {
    "duration": 2,
    "start_time": "2024-10-28T19:00:05.032Z"
   },
   {
    "duration": 3,
    "start_time": "2024-10-28T19:00:05.036Z"
   },
   {
    "duration": 3,
    "start_time": "2024-10-28T19:00:05.040Z"
   },
   {
    "duration": 3,
    "start_time": "2024-10-28T19:00:05.044Z"
   },
   {
    "duration": 2,
    "start_time": "2024-10-28T19:00:05.049Z"
   },
   {
    "duration": 2,
    "start_time": "2024-10-28T19:00:05.053Z"
   },
   {
    "duration": 3,
    "start_time": "2024-10-28T19:00:05.057Z"
   },
   {
    "duration": 3,
    "start_time": "2024-10-28T19:00:05.061Z"
   },
   {
    "duration": 3,
    "start_time": "2024-10-28T19:00:05.066Z"
   },
   {
    "duration": 3,
    "start_time": "2024-10-28T19:00:05.070Z"
   },
   {
    "duration": 3,
    "start_time": "2024-10-28T19:00:05.074Z"
   },
   {
    "duration": 53,
    "start_time": "2024-10-28T19:00:05.078Z"
   },
   {
    "duration": 2,
    "start_time": "2024-10-28T19:00:05.133Z"
   },
   {
    "duration": 2,
    "start_time": "2024-10-28T19:00:05.137Z"
   },
   {
    "duration": 3,
    "start_time": "2024-10-28T19:00:05.141Z"
   },
   {
    "duration": 14,
    "start_time": "2024-10-28T19:01:21.775Z"
   },
   {
    "duration": 20,
    "start_time": "2024-10-28T19:02:13.795Z"
   },
   {
    "duration": 13,
    "start_time": "2024-10-28T19:02:31.811Z"
   },
   {
    "duration": 4,
    "start_time": "2024-10-28T19:08:27.405Z"
   },
   {
    "duration": 4,
    "start_time": "2024-10-28T19:10:16.357Z"
   },
   {
    "duration": 22,
    "start_time": "2024-10-28T19:11:17.685Z"
   },
   {
    "duration": 2,
    "start_time": "2024-10-28T19:11:38.378Z"
   },
   {
    "duration": 903,
    "start_time": "2024-10-28T19:11:38.384Z"
   },
   {
    "duration": 10,
    "start_time": "2024-10-28T19:11:39.290Z"
   },
   {
    "duration": 10,
    "start_time": "2024-10-28T19:11:39.301Z"
   },
   {
    "duration": 6,
    "start_time": "2024-10-28T19:11:39.313Z"
   },
   {
    "duration": 8,
    "start_time": "2024-10-28T19:11:39.332Z"
   },
   {
    "duration": 8,
    "start_time": "2024-10-28T19:11:39.342Z"
   },
   {
    "duration": 99,
    "start_time": "2024-10-28T19:11:39.352Z"
   },
   {
    "duration": 6,
    "start_time": "2024-10-28T19:11:39.453Z"
   },
   {
    "duration": 4,
    "start_time": "2024-10-28T19:11:39.461Z"
   },
   {
    "duration": 5,
    "start_time": "2024-10-28T19:11:39.466Z"
   },
   {
    "duration": 5,
    "start_time": "2024-10-28T19:11:39.473Z"
   },
   {
    "duration": 15,
    "start_time": "2024-10-28T19:11:39.480Z"
   },
   {
    "duration": 34,
    "start_time": "2024-10-28T19:11:39.497Z"
   },
   {
    "duration": 14,
    "start_time": "2024-10-28T19:11:39.535Z"
   },
   {
    "duration": 4,
    "start_time": "2024-10-28T19:11:39.552Z"
   },
   {
    "duration": 5,
    "start_time": "2024-10-28T19:11:39.558Z"
   },
   {
    "duration": 20,
    "start_time": "2024-10-28T19:11:39.564Z"
   },
   {
    "duration": 0,
    "start_time": "2024-10-28T19:11:39.585Z"
   },
   {
    "duration": 0,
    "start_time": "2024-10-28T19:11:39.587Z"
   },
   {
    "duration": 0,
    "start_time": "2024-10-28T19:11:39.588Z"
   },
   {
    "duration": 0,
    "start_time": "2024-10-28T19:11:39.588Z"
   },
   {
    "duration": 1,
    "start_time": "2024-10-28T19:11:39.589Z"
   },
   {
    "duration": 0,
    "start_time": "2024-10-28T19:11:39.590Z"
   },
   {
    "duration": 0,
    "start_time": "2024-10-28T19:11:39.632Z"
   },
   {
    "duration": 0,
    "start_time": "2024-10-28T19:11:39.634Z"
   },
   {
    "duration": 0,
    "start_time": "2024-10-28T19:11:39.636Z"
   },
   {
    "duration": 0,
    "start_time": "2024-10-28T19:11:39.637Z"
   },
   {
    "duration": 0,
    "start_time": "2024-10-28T19:11:39.638Z"
   },
   {
    "duration": 0,
    "start_time": "2024-10-28T19:11:39.639Z"
   },
   {
    "duration": 0,
    "start_time": "2024-10-28T19:11:39.641Z"
   },
   {
    "duration": 0,
    "start_time": "2024-10-28T19:11:39.642Z"
   },
   {
    "duration": 0,
    "start_time": "2024-10-28T19:11:39.643Z"
   },
   {
    "duration": 0,
    "start_time": "2024-10-28T19:11:39.644Z"
   },
   {
    "duration": 4,
    "start_time": "2024-10-28T19:12:16.995Z"
   },
   {
    "duration": 4,
    "start_time": "2024-10-28T19:22:09.689Z"
   },
   {
    "duration": 5,
    "start_time": "2024-10-28T19:23:18.829Z"
   },
   {
    "duration": 732,
    "start_time": "2024-10-28T19:29:31.751Z"
   },
   {
    "duration": 279,
    "start_time": "2024-10-28T19:30:31.753Z"
   },
   {
    "duration": 9,
    "start_time": "2024-10-28T19:36:31.181Z"
   },
   {
    "duration": 8,
    "start_time": "2024-10-28T19:37:58.332Z"
   },
   {
    "duration": 6,
    "start_time": "2024-10-28T19:40:16.188Z"
   },
   {
    "duration": 6,
    "start_time": "2024-10-28T19:41:50.839Z"
   },
   {
    "duration": 11,
    "start_time": "2024-10-28T19:45:12.059Z"
   },
   {
    "duration": 9,
    "start_time": "2024-10-28T19:59:57.675Z"
   },
   {
    "duration": 8,
    "start_time": "2024-10-28T20:00:25.583Z"
   },
   {
    "duration": 7,
    "start_time": "2024-10-28T20:06:33.344Z"
   },
   {
    "duration": 31,
    "start_time": "2024-10-28T20:06:50.672Z"
   },
   {
    "duration": 3,
    "start_time": "2024-10-28T20:07:21.250Z"
   },
   {
    "duration": 3,
    "start_time": "2024-10-28T20:07:24.795Z"
   },
   {
    "duration": 61,
    "start_time": "2024-10-28T20:08:16.227Z"
   },
   {
    "duration": 79,
    "start_time": "2024-10-28T20:09:52.921Z"
   },
   {
    "duration": 156,
    "start_time": "2024-10-28T22:21:10.794Z"
   },
   {
    "duration": 289,
    "start_time": "2024-10-28T22:21:29.830Z"
   },
   {
    "duration": 1071,
    "start_time": "2024-10-28T22:21:30.121Z"
   },
   {
    "duration": 11,
    "start_time": "2024-10-28T22:21:31.194Z"
   },
   {
    "duration": 10,
    "start_time": "2024-10-28T22:21:31.207Z"
   },
   {
    "duration": 7,
    "start_time": "2024-10-28T22:21:31.218Z"
   },
   {
    "duration": 7,
    "start_time": "2024-10-28T22:21:31.227Z"
   },
   {
    "duration": 7,
    "start_time": "2024-10-28T22:21:31.236Z"
   },
   {
    "duration": 101,
    "start_time": "2024-10-28T22:21:31.269Z"
   },
   {
    "duration": 9,
    "start_time": "2024-10-28T22:21:31.372Z"
   },
   {
    "duration": 4,
    "start_time": "2024-10-28T22:21:31.385Z"
   },
   {
    "duration": 5,
    "start_time": "2024-10-28T22:21:31.391Z"
   },
   {
    "duration": 5,
    "start_time": "2024-10-28T22:21:31.398Z"
   },
   {
    "duration": 13,
    "start_time": "2024-10-28T22:21:31.405Z"
   },
   {
    "duration": 6,
    "start_time": "2024-10-28T22:21:31.420Z"
   },
   {
    "duration": 48,
    "start_time": "2024-10-28T22:21:31.428Z"
   },
   {
    "duration": 5,
    "start_time": "2024-10-28T22:21:31.479Z"
   },
   {
    "duration": 3,
    "start_time": "2024-10-28T22:21:31.486Z"
   },
   {
    "duration": 4,
    "start_time": "2024-10-28T22:21:31.491Z"
   },
   {
    "duration": 4,
    "start_time": "2024-10-28T22:21:31.497Z"
   },
   {
    "duration": 4,
    "start_time": "2024-10-28T22:21:31.503Z"
   },
   {
    "duration": 793,
    "start_time": "2024-10-28T22:21:31.508Z"
   },
   {
    "duration": 312,
    "start_time": "2024-10-28T22:21:32.303Z"
   },
   {
    "duration": 8,
    "start_time": "2024-10-28T22:21:32.617Z"
   },
   {
    "duration": 7,
    "start_time": "2024-10-28T22:21:32.626Z"
   },
   {
    "duration": 6,
    "start_time": "2024-10-28T22:21:32.634Z"
   },
   {
    "duration": 33,
    "start_time": "2024-10-28T22:21:32.641Z"
   },
   {
    "duration": 9,
    "start_time": "2024-10-28T22:21:32.676Z"
   },
   {
    "duration": 8,
    "start_time": "2024-10-28T22:21:32.689Z"
   },
   {
    "duration": 7,
    "start_time": "2024-10-28T22:21:32.698Z"
   },
   {
    "duration": 6,
    "start_time": "2024-10-28T22:21:32.706Z"
   },
   {
    "duration": 63,
    "start_time": "2024-10-28T22:21:32.713Z"
   },
   {
    "duration": 3,
    "start_time": "2024-10-28T22:21:32.777Z"
   },
   {
    "duration": 62,
    "start_time": "2024-10-28T22:21:32.782Z"
   },
   {
    "duration": 92,
    "start_time": "2024-10-28T22:21:32.845Z"
   },
   {
    "duration": 43,
    "start_time": "2024-10-28T22:21:32.939Z"
   },
   {
    "duration": 0,
    "start_time": "2024-10-28T22:21:32.983Z"
   },
   {
    "duration": 5,
    "start_time": "2024-10-28T22:23:10.132Z"
   },
   {
    "duration": 5,
    "start_time": "2024-10-28T22:23:19.394Z"
   },
   {
    "duration": 2124,
    "start_time": "2024-10-28T22:24:47.371Z"
   },
   {
    "duration": 197,
    "start_time": "2024-10-28T22:25:55.676Z"
   },
   {
    "duration": 26,
    "start_time": "2024-10-28T22:26:51.683Z"
   },
   {
    "duration": 120,
    "start_time": "2024-10-28T22:27:10.179Z"
   },
   {
    "duration": 1225,
    "start_time": "2024-10-28T22:33:30.965Z"
   },
   {
    "duration": 15,
    "start_time": "2024-10-28T22:36:44.143Z"
   },
   {
    "duration": 257,
    "start_time": "2024-10-28T22:37:29.670Z"
   },
   {
    "duration": 122,
    "start_time": "2024-10-28T22:41:17.931Z"
   },
   {
    "duration": 236,
    "start_time": "2024-10-28T22:43:54.064Z"
   },
   {
    "duration": 184,
    "start_time": "2024-10-28T22:44:12.976Z"
   },
   {
    "duration": 173,
    "start_time": "2024-10-28T22:44:31.227Z"
   },
   {
    "duration": 183,
    "start_time": "2024-10-28T22:45:07.409Z"
   },
   {
    "duration": 176,
    "start_time": "2024-10-28T22:45:23.253Z"
   },
   {
    "duration": 177,
    "start_time": "2024-10-28T22:46:52.482Z"
   },
   {
    "duration": 308,
    "start_time": "2024-10-29T22:28:06.924Z"
   },
   {
    "duration": 1072,
    "start_time": "2024-10-29T22:28:07.234Z"
   },
   {
    "duration": 11,
    "start_time": "2024-10-29T22:28:08.308Z"
   },
   {
    "duration": 9,
    "start_time": "2024-10-29T22:28:08.321Z"
   },
   {
    "duration": 8,
    "start_time": "2024-10-29T22:28:08.332Z"
   },
   {
    "duration": 7,
    "start_time": "2024-10-29T22:28:08.342Z"
   },
   {
    "duration": 7,
    "start_time": "2024-10-29T22:28:08.351Z"
   },
   {
    "duration": 128,
    "start_time": "2024-10-29T22:28:08.359Z"
   },
   {
    "duration": 8,
    "start_time": "2024-10-29T22:28:08.489Z"
   },
   {
    "duration": 4,
    "start_time": "2024-10-29T22:28:08.500Z"
   },
   {
    "duration": 5,
    "start_time": "2024-10-29T22:28:08.506Z"
   },
   {
    "duration": 5,
    "start_time": "2024-10-29T22:28:08.512Z"
   },
   {
    "duration": 13,
    "start_time": "2024-10-29T22:28:08.519Z"
   },
   {
    "duration": 5,
    "start_time": "2024-10-29T22:28:08.534Z"
   },
   {
    "duration": 49,
    "start_time": "2024-10-29T22:28:08.540Z"
   },
   {
    "duration": 4,
    "start_time": "2024-10-29T22:28:08.590Z"
   },
   {
    "duration": 4,
    "start_time": "2024-10-29T22:28:08.596Z"
   },
   {
    "duration": 5,
    "start_time": "2024-10-29T22:28:08.601Z"
   },
   {
    "duration": 4,
    "start_time": "2024-10-29T22:28:08.607Z"
   },
   {
    "duration": 5,
    "start_time": "2024-10-29T22:28:08.613Z"
   },
   {
    "duration": 808,
    "start_time": "2024-10-29T22:28:08.620Z"
   },
   {
    "duration": 323,
    "start_time": "2024-10-29T22:28:09.430Z"
   },
   {
    "duration": 8,
    "start_time": "2024-10-29T22:28:09.755Z"
   },
   {
    "duration": 22,
    "start_time": "2024-10-29T22:28:09.765Z"
   },
   {
    "duration": 7,
    "start_time": "2024-10-29T22:28:09.788Z"
   },
   {
    "duration": 5,
    "start_time": "2024-10-29T22:28:09.798Z"
   },
   {
    "duration": 10,
    "start_time": "2024-10-29T22:28:09.804Z"
   },
   {
    "duration": 7,
    "start_time": "2024-10-29T22:28:09.818Z"
   },
   {
    "duration": 6,
    "start_time": "2024-10-29T22:28:09.827Z"
   },
   {
    "duration": 7,
    "start_time": "2024-10-29T22:28:09.834Z"
   },
   {
    "duration": 72,
    "start_time": "2024-10-29T22:28:09.842Z"
   },
   {
    "duration": 3,
    "start_time": "2024-10-29T22:28:09.916Z"
   },
   {
    "duration": 75,
    "start_time": "2024-10-29T22:28:09.920Z"
   },
   {
    "duration": 91,
    "start_time": "2024-10-29T22:28:09.997Z"
   },
   {
    "duration": 4,
    "start_time": "2024-10-29T22:28:10.090Z"
   },
   {
    "duration": 5,
    "start_time": "2024-10-29T22:28:10.095Z"
   },
   {
    "duration": 2121,
    "start_time": "2024-10-29T22:28:10.101Z"
   },
   {
    "duration": 137,
    "start_time": "2024-10-29T22:28:12.224Z"
   },
   {
    "duration": 185,
    "start_time": "2024-10-29T22:28:12.363Z"
   },
   {
    "duration": 235,
    "start_time": "2024-10-29T22:37:23.881Z"
   },
   {
    "duration": 241,
    "start_time": "2024-10-29T22:38:39.556Z"
   },
   {
    "duration": 235,
    "start_time": "2024-10-29T22:39:00.515Z"
   },
   {
    "duration": 33,
    "start_time": "2024-10-29T22:39:33.168Z"
   },
   {
    "duration": 261,
    "start_time": "2024-10-29T22:39:46.625Z"
   },
   {
    "duration": 294,
    "start_time": "2024-10-29T22:43:13.404Z"
   },
   {
    "duration": 1138,
    "start_time": "2024-10-29T22:46:20.070Z"
   },
   {
    "duration": 262,
    "start_time": "2024-10-29T22:53:26.984Z"
   },
   {
    "duration": 400,
    "start_time": "2024-10-29T22:54:00.650Z"
   },
   {
    "duration": 117,
    "start_time": "2024-10-29T22:59:42.444Z"
   },
   {
    "duration": 398,
    "start_time": "2024-10-29T23:00:23.711Z"
   },
   {
    "duration": 107,
    "start_time": "2024-10-29T23:01:18.697Z"
   },
   {
    "duration": 167,
    "start_time": "2024-10-29T23:01:46.679Z"
   },
   {
    "duration": 112,
    "start_time": "2024-10-29T23:02:15.176Z"
   },
   {
    "duration": 184,
    "start_time": "2024-10-29T23:04:24.839Z"
   },
   {
    "duration": 160,
    "start_time": "2024-10-30T00:18:16.936Z"
   },
   {
    "duration": 11,
    "start_time": "2024-10-30T00:18:17.187Z"
   },
   {
    "duration": 321,
    "start_time": "2024-10-30T00:18:40.401Z"
   },
   {
    "duration": 1056,
    "start_time": "2024-10-30T00:18:42.940Z"
   },
   {
    "duration": 11,
    "start_time": "2024-10-30T00:18:45.813Z"
   },
   {
    "duration": 10,
    "start_time": "2024-10-30T00:18:46.488Z"
   },
   {
    "duration": 7,
    "start_time": "2024-10-30T00:18:46.681Z"
   },
   {
    "duration": 9,
    "start_time": "2024-10-30T00:18:46.849Z"
   },
   {
    "duration": 9,
    "start_time": "2024-10-30T00:18:47.018Z"
   },
   {
    "duration": 106,
    "start_time": "2024-10-30T00:18:48.082Z"
   },
   {
    "duration": 8,
    "start_time": "2024-10-30T00:18:48.440Z"
   },
   {
    "duration": 4,
    "start_time": "2024-10-30T00:18:48.804Z"
   },
   {
    "duration": 5,
    "start_time": "2024-10-30T00:18:48.979Z"
   },
   {
    "duration": 5,
    "start_time": "2024-10-30T00:18:49.164Z"
   },
   {
    "duration": 16,
    "start_time": "2024-10-30T00:18:49.739Z"
   },
   {
    "duration": 6,
    "start_time": "2024-10-30T00:18:49.902Z"
   },
   {
    "duration": 13,
    "start_time": "2024-10-30T00:18:50.085Z"
   },
   {
    "duration": 5,
    "start_time": "2024-10-30T00:18:50.270Z"
   },
   {
    "duration": 5,
    "start_time": "2024-10-30T00:18:50.848Z"
   },
   {
    "duration": 5,
    "start_time": "2024-10-30T00:18:51.028Z"
   },
   {
    "duration": 5,
    "start_time": "2024-10-30T00:18:51.622Z"
   },
   {
    "duration": 4,
    "start_time": "2024-10-30T00:18:51.790Z"
   },
   {
    "duration": 821,
    "start_time": "2024-10-30T00:18:52.381Z"
   },
   {
    "duration": 317,
    "start_time": "2024-10-30T00:18:53.204Z"
   },
   {
    "duration": 8,
    "start_time": "2024-10-30T00:18:53.811Z"
   },
   {
    "duration": 8,
    "start_time": "2024-10-30T00:18:54.983Z"
   },
   {
    "duration": 8,
    "start_time": "2024-10-30T00:18:55.286Z"
   },
   {
    "duration": 6,
    "start_time": "2024-10-30T00:18:55.646Z"
   },
   {
    "duration": 11,
    "start_time": "2024-10-30T00:18:56.053Z"
   },
   {
    "duration": 9,
    "start_time": "2024-10-30T00:18:56.657Z"
   },
   {
    "duration": 8,
    "start_time": "2024-10-30T00:18:56.883Z"
   },
   {
    "duration": 6,
    "start_time": "2024-10-30T00:18:57.705Z"
   },
   {
    "duration": 31,
    "start_time": "2024-10-30T00:18:57.958Z"
   },
   {
    "duration": 2,
    "start_time": "2024-10-30T00:18:58.422Z"
   },
   {
    "duration": 61,
    "start_time": "2024-10-30T00:18:58.662Z"
   },
   {
    "duration": 77,
    "start_time": "2024-10-30T00:19:00.034Z"
   },
   {
    "duration": 4,
    "start_time": "2024-10-30T00:19:02.831Z"
   },
   {
    "duration": 4,
    "start_time": "2024-10-30T00:19:03.071Z"
   },
   {
    "duration": 424,
    "start_time": "2024-10-30T00:19:04.410Z"
   },
   {
    "duration": 121,
    "start_time": "2024-10-30T00:19:06.071Z"
   },
   {
    "duration": 176,
    "start_time": "2024-10-30T00:19:07.172Z"
   },
   {
    "duration": 240,
    "start_time": "2024-10-30T00:19:07.953Z"
   },
   {
    "duration": 208,
    "start_time": "2024-10-30T00:19:09.196Z"
   },
   {
    "duration": 1121,
    "start_time": "2024-10-30T00:19:10.002Z"
   },
   {
    "duration": 89,
    "start_time": "2024-10-30T00:20:42.731Z"
   },
   {
    "duration": 5,
    "start_time": "2024-10-30T00:20:56.331Z"
   },
   {
    "duration": 365,
    "start_time": "2024-10-30T23:37:57.078Z"
   },
   {
    "duration": 1177,
    "start_time": "2024-10-30T23:37:57.445Z"
   },
   {
    "duration": 11,
    "start_time": "2024-10-30T23:37:58.624Z"
   },
   {
    "duration": 10,
    "start_time": "2024-10-30T23:37:58.637Z"
   },
   {
    "duration": 8,
    "start_time": "2024-10-30T23:37:58.648Z"
   },
   {
    "duration": 12,
    "start_time": "2024-10-30T23:37:58.676Z"
   },
   {
    "duration": 10,
    "start_time": "2024-10-30T23:37:58.691Z"
   },
   {
    "duration": 128,
    "start_time": "2024-10-30T23:37:58.702Z"
   },
   {
    "duration": 9,
    "start_time": "2024-10-30T23:37:58.832Z"
   },
   {
    "duration": 4,
    "start_time": "2024-10-30T23:37:58.845Z"
   },
   {
    "duration": 7,
    "start_time": "2024-10-30T23:37:58.851Z"
   },
   {
    "duration": 13,
    "start_time": "2024-10-30T23:37:58.860Z"
   },
   {
    "duration": 24,
    "start_time": "2024-10-30T23:37:58.875Z"
   },
   {
    "duration": 7,
    "start_time": "2024-10-30T23:37:58.901Z"
   },
   {
    "duration": 21,
    "start_time": "2024-10-30T23:37:58.910Z"
   },
   {
    "duration": 4,
    "start_time": "2024-10-30T23:37:58.933Z"
   },
   {
    "duration": 3,
    "start_time": "2024-10-30T23:37:58.940Z"
   },
   {
    "duration": 36,
    "start_time": "2024-10-30T23:37:58.945Z"
   },
   {
    "duration": 7,
    "start_time": "2024-10-30T23:37:58.990Z"
   },
   {
    "duration": 4,
    "start_time": "2024-10-30T23:37:59.000Z"
   },
   {
    "duration": 944,
    "start_time": "2024-10-30T23:37:59.006Z"
   },
   {
    "duration": 375,
    "start_time": "2024-10-30T23:37:59.951Z"
   },
   {
    "duration": 7,
    "start_time": "2024-10-30T23:38:00.328Z"
   },
   {
    "duration": 7,
    "start_time": "2024-10-30T23:38:00.337Z"
   },
   {
    "duration": 28,
    "start_time": "2024-10-30T23:38:00.346Z"
   },
   {
    "duration": 12,
    "start_time": "2024-10-30T23:38:00.375Z"
   },
   {
    "duration": 19,
    "start_time": "2024-10-30T23:38:00.390Z"
   },
   {
    "duration": 7,
    "start_time": "2024-10-30T23:38:00.413Z"
   },
   {
    "duration": 7,
    "start_time": "2024-10-30T23:38:00.422Z"
   },
   {
    "duration": 6,
    "start_time": "2024-10-30T23:38:00.431Z"
   },
   {
    "duration": 73,
    "start_time": "2024-10-30T23:38:00.439Z"
   },
   {
    "duration": 3,
    "start_time": "2024-10-30T23:38:00.514Z"
   },
   {
    "duration": 80,
    "start_time": "2024-10-30T23:38:00.518Z"
   },
   {
    "duration": 98,
    "start_time": "2024-10-30T23:38:00.599Z"
   },
   {
    "duration": 5,
    "start_time": "2024-10-30T23:38:00.699Z"
   },
   {
    "duration": 4,
    "start_time": "2024-10-30T23:38:00.706Z"
   },
   {
    "duration": 2528,
    "start_time": "2024-10-30T23:38:00.712Z"
   },
   {
    "duration": 156,
    "start_time": "2024-10-30T23:38:03.242Z"
   },
   {
    "duration": 210,
    "start_time": "2024-10-30T23:38:03.400Z"
   },
   {
    "duration": 329,
    "start_time": "2024-10-30T23:38:03.612Z"
   },
   {
    "duration": 259,
    "start_time": "2024-10-30T23:38:03.943Z"
   },
   {
    "duration": 1221,
    "start_time": "2024-10-30T23:38:04.204Z"
   },
   {
    "duration": 0,
    "start_time": "2024-10-30T23:38:05.426Z"
   },
   {
    "duration": 0,
    "start_time": "2024-10-30T23:38:05.428Z"
   },
   {
    "duration": 0,
    "start_time": "2024-10-30T23:38:05.429Z"
   },
   {
    "duration": 0,
    "start_time": "2024-10-30T23:38:05.429Z"
   },
   {
    "duration": 0,
    "start_time": "2024-10-30T23:38:05.430Z"
   },
   {
    "duration": 1011,
    "start_time": "2024-10-30T23:39:25.020Z"
   },
   {
    "duration": 1509,
    "start_time": "2024-10-30T23:41:25.859Z"
   },
   {
    "duration": 1358,
    "start_time": "2024-10-30T23:47:12.865Z"
   },
   {
    "duration": 1384,
    "start_time": "2024-10-30T23:49:36.827Z"
   }
  ],
  "colab": {
   "provenance": []
  },
  "kernelspec": {
   "display_name": "base",
   "language": "python",
   "name": "python3"
  },
  "language_info": {
   "codemirror_mode": {
    "name": "ipython",
    "version": 3
   },
   "file_extension": ".py",
   "mimetype": "text/x-python",
   "name": "python",
   "nbconvert_exporter": "python",
   "pygments_lexer": "ipython3",
   "version": "3.12.7"
  },
  "toc": {
   "base_numbering": 1,
   "nav_menu": {},
   "number_sections": true,
   "sideBar": true,
   "skip_h1_title": true,
   "title_cell": "Table of Contents",
   "title_sidebar": "Contents",
   "toc_cell": false,
   "toc_position": {},
   "toc_section_display": true,
   "toc_window_display": false
  }
 },
 "nbformat": 4,
 "nbformat_minor": 5
}
