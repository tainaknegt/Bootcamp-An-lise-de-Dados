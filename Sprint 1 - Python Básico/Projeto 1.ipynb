{
 "cells": [
  {
   "cell_type": "markdown",
   "metadata": {
    "id": "vLW81iYmTMRe"
   },
   "source": [
    "# Descrição do Projeto\n",
    "Uma empresa de comércio eletrônico, Store 1, começou recentemente a coletar dados sobre seus clientes. O objetivo da Store 1 é entender melhor o comportamento dos clientes e tomar decisões baseadas em dados para melhorar experiência online deles.\n",
    "\n",
    "Como parte da equipe analítica, sua primeira tarefa é avaliar a qualidade de uma amostra de dados coletados e preparar elas para análises futuras.\n",
    "\n",
    "A Store 1 visa garantir a consistência na coleta de dados. Como parte desse esforço, a qualidade dos dados coletados sobre os usuários precisa ser avaliada. Foi pedido que você revise os dados coletados e proponha alterações. Abaixo, você verá dados sobre um determinado usuário. Revise os dados e identifique possíveis problemas."
   ]
  },
  {
   "cell_type": "code",
   "execution_count": null,
   "metadata": {
    "id": "i7_O27ZRTMRe",
    "trusted": true
   },
   "outputs": [],
   "source": [
    "user_id = '32415'\n",
    "user_name = ' mike_reed '\n",
    "user_age = 32.0\n",
    "fav_categories = ['ELECTRONICS', 'SPORT', 'BOOKS']"
   ]
  },
  {
   "cell_type": "markdown",
   "metadata": {
    "id": "Dyjbn7MhTMRg"
   },
   "source": [
    "**Opções:**\n",
    "\n",
    "1. O tipo de dados de `user_id` deve ser alterado de string para número inteiro (integer).\n",
    "    \n",
    "2. A variável `user_name` contém uma string com espaçamento desnecessário e um sublinhado entre o nome e o sobrenome.\n",
    "    \n",
    "3. O tipo de dados de `user_age` está incorreto.\n",
    "    \n",
    "4. A lista `fav_categories` contém strings em letras maiúsculas. Em vez disso, devemos converter os valores da lista para letras minúsculas."
   ]
  },
  {
   "cell_type": "markdown",
   "metadata": {
    "id": "AIsnk-vCTMRg"
   },
   "source": [
    "Escreva na célula Markdown abaixo o número de opções que você identificou como problemas. Se você identificou vários problemas, separe o número por vírgulas. Por exemplo, se você acha que os números 1 e 3 estão incorretos, escreva 1, 3, e explique o motivo."
   ]
  },
  {
   "cell_type": "markdown",
   "metadata": {
    "id": "70wSe_MjTMRh"
   },
   "source": [
    "**Escreva sua resposta e explique seu raciocínio:**\n"
   ]
  },
  {
   "cell_type": "markdown",
   "metadata": {
    "id": "IH19D6NiTMRh"
   },
   "source": [
    "# Tarefa 1\n",
    "\n",
    "Vamos implementar as mudanças que identificamos. Primeiro, queremos corrigir os problemas com a variável `user_name`. Como verificamos, ela possui espaços desnecessários e um sublinhado como separador entre o nome e o sobrenome. Seu objetivo é remover os espaços e depois substituir o sublinhado por espaço."
   ]
  },
  {
   "cell_type": "code",
   "execution_count": null,
   "metadata": {
    "trusted": true
   },
   "outputs": [
    {
     "name": "stdout",
     "output_type": "stream",
     "text": [
      "mike reed\n"
     ]
    }
   ],
   "source": [
    "user_name = ' mike_reed '\n",
    "user_name = user_name.strip() # remova os espaços na string original\n",
    "user_name = user_name.replace('_', ' ') # substitua o sublinhado por espaço\n",
    "\n",
    "print(user_name)"
   ]
  },
  {
   "cell_type": "markdown",
   "metadata": {
    "id": "LYGHRijzTMRi"
   },
   "source": [
    "# Tarefa 2\n",
    "\n",
    "Em seguida, precisamos dividir o `user_name` atualizado em duas substrings para obter uma lista que contém dois valores: a string para o nome e a string para o sobrenome."
   ]
  },
  {
   "cell_type": "code",
   "execution_count": null,
   "metadata": {
    "id": "NOErvTX0TMRi",
    "trusted": true
   },
   "outputs": [
    {
     "name": "stdout",
     "output_type": "stream",
     "text": [
      "['mike', 'reed']\n"
     ]
    }
   ],
   "source": [
    "user_name = 'mike reed'\n",
    "name_split = user_name.split(' ') # divida a string user_name aqui\n",
    "\n",
    "print(name_split)"
   ]
  },
  {
   "cell_type": "markdown",
   "metadata": {
    "id": "9uRRxzLlTMRj"
   },
   "source": [
    "# Tarefa 3\n",
    "\n",
    "Ótimo! Agora queremos trabalhar com a variável `user_age`. Como mencionamos antes, ela possui um tipo de dados incorretos. Vamos corrigir esse problema transformando o tipo de dados e imprimindo o resultado final."
   ]
  },
  {
   "cell_type": "code",
   "execution_count": null,
   "metadata": {
    "id": "j9TH2Z4dTMRk",
    "trusted": true
   },
   "outputs": [
    {
     "name": "stdout",
     "output_type": "stream",
     "text": [
      "32\n"
     ]
    }
   ],
   "source": [
    "user_age = 32.0\n",
    "user_age = int(user_age) # altere o tipo de dados da idade de um usuário\n",
    "\n",
    "print(user_age)"
   ]
  },
  {
   "cell_type": "markdown",
   "metadata": {
    "id": "pAjBZI5_TMRk"
   },
   "source": [
    "# Tarefa 4\n",
    "\n",
    "Como sabemos, os dados nem sempre são perfeitos. Temos que considerar cenários em que o valor de `user_age` não pode ser convertido em um número inteiro. Para evitar que nosso sistema falhe, devemos tomar medidas com antecedência.\n",
    "\n",
    "Escreva um código que tenta converter a variável `user_age` em um número inteiro e atribua o valor transformado a `user_age_int`. Se a tentativa falhar, vamos exibir uma mensagem solicitando que o usuário forneça sua idade como um valor numérico com a mensagem: `Forneça sua idade como um valor numérico.`"
   ]
  },
  {
   "cell_type": "code",
   "execution_count": null,
   "metadata": {
    "id": "rB6ggdMXTMRl",
    "trusted": true
   },
   "outputs": [
    {
     "name": "stdout",
     "output_type": "stream",
     "text": [
      "Forneça sua idade como um valor numérico.\n"
     ]
    }
   ],
   "source": [
    "user_age = 'thirty two' #esta é a variável que armazena a idade como uma string.\n",
    "\n",
    "#escreva um código que vai tentar transformar user_age em um número inteiro e, se falhar, vai imprimir a mensagem especificada\n",
    "\n",
    "try:\n",
    "    user_age_int = int(user_age)\n",
    "    \n",
    "except:\n",
    "    print('Forneça sua idade como um valor numérico.')"
   ]
  },
  {
   "cell_type": "markdown",
   "metadata": {
    "id": "mRiGSPmOTMRl"
   },
   "source": [
    "# Tarefa 5\n",
    "\n",
    "Por fim, observe que todas as categorias de favoritos são armazenadas em letras maiúsculas. Para preencher uma nova lista chamada `fav_categories_low` com as mesmas categorias, mas em letras minúsculas, repita os valores na lista `fav_categories`, os modifique e anexe os novos valores à lista `fav_categories_low`. Como sempre, imprima o resultado final."
   ]
  },
  {
   "cell_type": "code",
   "execution_count": null,
   "metadata": {
    "id": "WpeCezPvTMRl",
    "trusted": true
   },
   "outputs": [
    {
     "name": "stdout",
     "output_type": "stream",
     "text": [
      "['electronics', 'sport', 'books']\n"
     ]
    }
   ],
   "source": [
    "fav_categories = ['ELECTRONICS', 'SPORT', 'BOOKS']\n",
    "fav_categories_low = []\n",
    "\n",
    "for category in fav_categories:\n",
    "    fav_categories_low.append(category.lower())\n",
    "\n",
    "# não remova a instrução de impressão abaixo\n",
    "print(fav_categories_low)"
   ]
  },
  {
   "cell_type": "code",
   "execution_count": null,
   "metadata": {
    "trusted": true
   },
   "outputs": [
    {
     "name": "stdout",
     "output_type": "stream",
     "text": [
      "apple\n",
      "banana\n",
      "cherry\n"
     ]
    }
   ],
   "source": [
    "#Exemplo gerado pela revisora \n",
    "\n",
    "fruits = ['apple', 'banana', 'cherry']\n",
    "\n",
    "for fruit in fruits:\n",
    "    print(fruit)\n"
   ]
  },
  {
   "cell_type": "markdown",
   "metadata": {
    "id": "wtdhH2U3TMRm"
   },
   "source": [
    "# Tarefa 6\n",
    "\n",
    "Conseguimos informações adicionais sobre os hábitos de consumo de nossos usuários, incluindo o valor gasto em cada uma de suas categorias favoritas. A administração está interessada nas seguintes métricas:\n",
    "\n",
    "- Valor total gasto pelo usuário\n",
    "- Valor mínimo gasto\n",
    "- Valor máximo gasto\n",
    "\n",
    "Vamos calcular e imprimir esses valores:"
   ]
  },
  {
   "cell_type": "code",
   "execution_count": null,
   "metadata": {
    "id": "FJrkCnPTTMRm",
    "trusted": true
   },
   "outputs": [
    {
     "name": "stdout",
     "output_type": "stream",
     "text": [
      "1280\n",
      "894\n",
      "173\n"
     ]
    }
   ],
   "source": [
    "fav_categories_low = ['electronics', 'sport', 'books']\n",
    "spendings_per_category = [894, 213, 173]\n",
    "\n",
    "total_amount = sum(spendings_per_category) # escreva seu código aqui\n",
    "max_amount = max(spendings_per_category) # escreva seu código aqui\n",
    "min_amount = min(spendings_per_category) # escreva seu código aqui\n",
    "\n",
    "# não remova a instrução de impressão abaixo\n",
    "print(total_amount)\n",
    "print(max_amount)\n",
    "print(min_amount)"
   ]
  },
  {
   "cell_type": "markdown",
   "metadata": {
    "id": "teiKWjy4TMRn"
   },
   "source": [
    "# Tarefa 7\n",
    "\n",
    "A empresa quer oferecer descontos aos seus clientes fiéis. Clientes que fizerem compras totalizando mais de $1.500 são considerados fiéis e vão receber um desconto.\n",
    "\n",
    "Nosso objetivo é criar um ciclo `while` que verifique o valor total gasto e pare quando ele for atingido. Para simular novas compras, a variável `new_purchase` gera um número entre 30 e 80 em cada ciclo. Isso representa a quantidade de dinheiro gasto em uma nova compra, e é o que você precisa adicionar ao total.\n",
    "\n",
    "Assim que o valor alvo for atingido e o ciclo `while` for encerrado, o valor final será impresso."
   ]
  },
  {
   "cell_type": "code",
   "execution_count": null,
   "metadata": {
    "id": "HPvkbyzATMRn",
    "trusted": true
   },
   "outputs": [
    {
     "name": "stdout",
     "output_type": "stream",
     "text": [
      "1517\n"
     ]
    }
   ],
   "source": [
    "from random import randint\n",
    "\n",
    "total_amount_spent = 1280\n",
    "target_amount = 1500\n",
    "\n",
    "while total_amount_spent <= target_amount: #escreva seu código aqui\n",
    "\tnew_purchase = randint(30, 80) #geramos um número aleatório de 30 a 80\n",
    "\ttotal_amount_spent += new_purchase #escreva seu código aqui\n",
    "\n",
    "print(total_amount_spent)"
   ]
  },
  {
   "cell_type": "markdown",
   "metadata": {
    "id": "jwzs5Ad2TMRn"
   },
   "source": [
    "# Tarefa 8\n",
    "\n",
    "Agora temos todas as informações sobre um cliente da maneira que queremos. A administração de uma empresa nos pediu para encontrar uma maneira de resumir toda a informação sobre um usuário. Seu objetivo é criar uma string formatada que usa informações das variáveis ​​`user_id`, `user_name` e `user_age`.\n",
    "\n",
    "Aqui está a string final que queremos criar: `Usuário 32415 chama-se mike e tem 32 anos.`"
   ]
  },
  {
   "cell_type": "code",
   "execution_count": null,
   "metadata": {
    "id": "Da4RJ_gLTMRo",
    "trusted": true
   },
   "outputs": [
    {
     "name": "stdout",
     "output_type": "stream",
     "text": [
      "Usuário 32415 chama-se mike e tem 32.\n"
     ]
    }
   ],
   "source": [
    "user_id = '32415'\n",
    "user_name = ['mike', 'reed']\n",
    "user_age = 32\n",
    "\n",
    "#escreva seu código aqui\n",
    "\n",
    "user_info = \"Usuário {} chama-se {} e tem {}.\".format(user_id, user_name[0], user_age) \n",
    "\n",
    "# não remova a instrução de impressão abaixo\n",
    "print(user_info)\n",
    "\n"
   ]
  },
  {
   "cell_type": "markdown",
   "metadata": {
    "id": "DAfqUxKhTMRo"
   },
   "source": [
    "Como você já deve saber, as empresas coletam e armazenam dados de uma maneira específica. A Store 1 deseja armazenar todas as informações sobre seus clientes em uma tabela.\n",
    "\n",
    "| user_id | user_name | user_age | purchase_category | spending_per_category |\n",
    "| --- | --- | --- | --- | --- |\n",
    "| '32415' | 'mike', 'reed' | 32 | 'electronics', 'sport', 'books' | 894, 213, 173 |\n",
    "| '31980' | 'kate', 'morgan' | 24 | 'clothes', 'shoes' | 439, 390 |\n",
    "\n",
    "Em termos técnicos, uma tabela é simplesmente uma lista aninhada que possui uma sublista para cada usuário.\n",
    "\n",
    "A Store 1 criou essa tabela para seus usuários. Ela está armazenada na variável `users`. Cada sublista contém o ID do usuário, nome e sobrenome, idade, categorias favoritas e o valor gasto em cada categoria."
   ]
  },
  {
   "cell_type": "markdown",
   "metadata": {
    "id": "ZAN1CrBGTMRp"
   },
   "source": [
    "# Tarefa 9\n",
    "\n",
    "Para calcular a receita da empresa, siga estas etapas:\n",
    "\n",
    "1. Use um ciclo `for` para iterar na lista `users`.\n",
    "2. Extraia a lista de gastos de cada usuário e some os valores.\n",
    "3. Atualize o valor da receita com o total de cada usuário.\n",
    "\n",
    "Isso vai fornecer a receita total da empresa, que você vai imprimir no final."
   ]
  },
  {
   "cell_type": "code",
   "execution_count": null,
   "metadata": {
    "id": "ehCh9ub0TMRp",
    "trusted": true
   },
   "outputs": [
    {
     "name": "stdout",
     "output_type": "stream",
     "text": [
      "2109\n"
     ]
    }
   ],
   "source": [
    "users = [\n",
    "\t  # este é o começo da primeira sublista\n",
    "    ['32415', ['mike', 'reed'], 32, ['electronics', 'sport', 'books'],\n",
    "        [894, 213, 173]\n",
    "    ], # este é o fim da primeira sublista\n",
    "\n",
    "    # este é o começo da segunda sublista\n",
    "    ['31980', ['kate', 'morgan'], 24, ['clothes', 'shoes'],\n",
    "        [439, 390]\n",
    "    ] # este é o fim da segunda sublista\n",
    "]\n",
    "\n",
    "revenue = 0\n",
    "\n",
    "for user in users:\n",
    "\tspendings_list = user[4] #extraia a lista de gastos para cada usuário e some os valores\n",
    "\ttotal_spendings = sum(user[4]) # some os gastos em todas as categorias para obter um total para um usuário específico\n",
    "\trevenue += total_spendings # atualize a receita\n",
    "\n",
    "# não remova a instrução de impressão abaixo\n",
    "print(revenue)"
   ]
  },
  {
   "cell_type": "markdown",
   "metadata": {
    "id": "sWwO-Qa1TMRp"
   },
   "source": [
    "# Tarefa 10\n",
    "\n",
    "Use um ciclo for para percorrer a lista de usuários que fornecemos e imprima os nomes dos clientes com menos de 30 anos."
   ]
  },
  {
   "cell_type": "code",
   "execution_count": null,
   "metadata": {
    "id": "dRl-c6NvTMRq",
    "trusted": true
   },
   "outputs": [
    {
     "name": "stdout",
     "output_type": "stream",
     "text": [
      "['kate', 'morgan']\n",
      "['samantha', 'smith']\n",
      "['emily', 'brown']\n",
      "['jose', 'martinez']\n",
      "['james', 'lee']\n"
     ]
    }
   ],
   "source": [
    "users = [\n",
    "    ['32415', ['mike', 'reed'], 32, ['electronics', 'sport', 'books'],\n",
    "     [894, 213, 173]],\n",
    "    ['31980', ['kate', 'morgan'], 24, ['clothes', 'books'], [439,\n",
    "     390]],\n",
    "    ['32156', ['john', 'doe'], 37, ['electronics', 'home', 'food'],\n",
    "     [459, 120, 99]],\n",
    "    ['32761', ['samantha', 'smith'], 29, ['clothes', 'electronics',\n",
    "     'beauty'], [299, 679, 85]],\n",
    "    ['32984', ['david', 'white'], 41, ['books', 'home', 'sport'], [234,\n",
    "     329, 243]],\n",
    "    ['33001', ['emily', 'brown'], 26, ['beauty', 'home', 'food'], [213,\n",
    "     659, 79]],\n",
    "    ['33767', ['maria', 'garcia'], 33, ['clothes', 'food', 'beauty'],\n",
    "     [499, 189, 63]],\n",
    "    ['33912', ['jose', 'martinez'], 22, ['sport', 'electronics', 'home'\n",
    "     ], [259, 549, 109]],\n",
    "    ['34009', ['lisa', 'wilson'], 35, ['home', 'books', 'clothes'],\n",
    "     [329, 189, 329]],\n",
    "    ['34278', ['james', 'lee'], 28, ['beauty', 'clothes', 'electronics'\n",
    "     ], [189, 299, 579]],\n",
    "    ]\n",
    "\n",
    "# escreva seu código aqui\n",
    "\n",
    "for user in users:\n",
    "    if user[2]<=30:\n",
    "        print(user[1])"
   ]
  },
  {
   "cell_type": "markdown",
   "metadata": {
    "id": "zicEj6hhTMRq"
   },
   "source": [
    "# Tarefa 11\n",
    "\n",
    "Vamos juntar as tarefas 9 e 10 e imprimir os nomes de usuários com menos de 30 anos com gastos totais acima de 1.000 dólares."
   ]
  },
  {
   "cell_type": "code",
   "execution_count": null,
   "metadata": {
    "id": "ubyQ0OzeTMRq",
    "trusted": true
   },
   "outputs": [
    {
     "name": "stdout",
     "output_type": "stream",
     "text": [
      "['samantha', 'smith']\n",
      "['james', 'lee']\n"
     ]
    }
   ],
   "source": [
    "users = [\n",
    "    ['32415', ['mike', 'reed'], 32, ['electronics', 'sport', 'books'],\n",
    "     [894, 213, 173]],\n",
    "    ['31980', ['kate', 'morgan'], 24, ['clothes', 'books'], [439,\n",
    "     390]],\n",
    "    ['32156', ['john', 'doe'], 37, ['electronics', 'home', 'food'],\n",
    "     [459, 120, 99]],\n",
    "    ['32761', ['samantha', 'smith'], 29, ['clothes', 'electronics',\n",
    "     'beauty'], [299, 679, 85]],\n",
    "    ['32984', ['david', 'white'], 41, ['books', 'home', 'sport'], [234,\n",
    "     329, 243]],\n",
    "    ['33001', ['emily', 'brown'], 26, ['beauty', 'home', 'food'], [213,\n",
    "     659, 79]],\n",
    "    ['33767', ['maria', 'garcia'], 33, ['clothes', 'food', 'beauty'],\n",
    "     [499, 189, 63]],\n",
    "    ['33912', ['jose', 'martinez'], 22, ['sport', 'electronics', 'home'\n",
    "     ], [259, 549, 109]],\n",
    "    ['34009', ['lisa', 'wilson'], 35, ['home', 'books', 'clothes'],\n",
    "     [329, 189, 329]],\n",
    "    ['34278', ['james', 'lee'], 28, ['beauty', 'clothes', 'electronics'\n",
    "     ], [189, 299, 579]],\n",
    "    ]\n",
    "\n",
    "\n",
    "    \n",
    "for user in users:\n",
    "    if user[2] <= 30 and sum(user[4]) > 999:\n",
    "        print(user[1])\n",
    "        \n",
    "    \n",
    "   "
   ]
  },
  {
   "cell_type": "markdown",
   "metadata": {
    "id": "kQX82mWVTMRr"
   },
   "source": [
    "# Tarefa 12\n",
    "\n",
    "Agora vamos imprimir o nome e a idade de todos os usuários que compraram roupas (clothes). Imprima o nome e a idade na mesma instrução de impressão."
   ]
  },
  {
   "cell_type": "code",
   "execution_count": null,
   "metadata": {
    "id": "obZTnKq2TMRr",
    "trusted": true
   },
   "outputs": [
    {
     "name": "stdout",
     "output_type": "stream",
     "text": [
      "kate 24\n",
      "samantha 29\n",
      "maria 33\n",
      "lisa 35\n",
      "james 28\n"
     ]
    }
   ],
   "source": [
    "users = [\n",
    "    ['32415', ['mike', 'reed'], 32, ['electronics', 'sport', 'books'],\n",
    "     [894, 213, 173]],\n",
    "    ['31980', ['kate', 'morgan'], 24, ['clothes', 'books'], [439,\n",
    "     390]],\n",
    "    ['32156', ['john', 'doe'], 37, ['electronics', 'home', 'food'],\n",
    "     [459, 120, 99]],\n",
    "    ['32761', ['samantha', 'smith'], 29, ['clothes', 'electronics',\n",
    "     'beauty'], [299, 679, 85]],\n",
    "    ['32984', ['david', 'white'], 41, ['books', 'home', 'sport'], [234,\n",
    "     329, 243]],\n",
    "    ['33001', ['emily', 'brown'], 26, ['beauty', 'home', 'food'], [213,\n",
    "     659, 79]],\n",
    "    ['33767', ['maria', 'garcia'], 33, ['clothes', 'food', 'beauty'],\n",
    "     [499, 189, 63]],\n",
    "    ['33912', ['jose', 'martinez'], 22, ['sport', 'electronics', 'home'\n",
    "     ], [259, 549, 109]],\n",
    "    ['34009', ['lisa', 'wilson'], 35, ['home', 'books', 'clothes'],\n",
    "     [329, 189, 329]],\n",
    "    ['34278', ['james', 'lee'], 28, ['beauty', 'clothes', 'electronics'\n",
    "     ], [189, 299, 579]],\n",
    "    ]\n",
    "\n",
    "#escreva seu código aqui\n",
    "\n",
    "for user in users:\n",
    "    if 'clothes' in user[3]:\n",
    "        print(user[1][0], user[2])\n",
    "        "
   ]
  }
 ],
 "metadata": {
  "ExecuteTimeLog": [
   {
    "duration": 5,
    "start_time": "2024-09-11T23:11:06.492Z"
   },
   {
    "duration": 4,
    "start_time": "2024-09-11T23:13:47.292Z"
   },
   {
    "duration": 13,
    "start_time": "2024-09-11T23:14:03.219Z"
   },
   {
    "duration": 4,
    "start_time": "2024-09-11T23:17:07.292Z"
   },
   {
    "duration": 191,
    "start_time": "2024-09-11T23:17:17.748Z"
   },
   {
    "duration": 4,
    "start_time": "2024-09-11T23:17:30.529Z"
   },
   {
    "duration": 3,
    "start_time": "2024-09-11T23:18:39.574Z"
   },
   {
    "duration": 12,
    "start_time": "2024-09-11T23:22:38.646Z"
   },
   {
    "duration": 21,
    "start_time": "2024-09-11T23:23:00.022Z"
   },
   {
    "duration": 29,
    "start_time": "2024-09-11T23:23:39.401Z"
   },
   {
    "duration": 11,
    "start_time": "2024-09-11T23:32:05.151Z"
   },
   {
    "duration": 12,
    "start_time": "2024-09-11T23:33:10.665Z"
   },
   {
    "duration": 12,
    "start_time": "2024-09-11T23:33:19.690Z"
   },
   {
    "duration": 32,
    "start_time": "2024-09-11T23:33:32.025Z"
   },
   {
    "duration": 32,
    "start_time": "2024-09-11T23:34:08.802Z"
   },
   {
    "duration": 20,
    "start_time": "2024-09-11T23:34:36.117Z"
   },
   {
    "duration": 12,
    "start_time": "2024-09-11T23:34:50.971Z"
   },
   {
    "duration": 11,
    "start_time": "2024-09-11T23:44:32.382Z"
   },
   {
    "duration": 21,
    "start_time": "2024-09-11T23:45:15.217Z"
   },
   {
    "duration": 5,
    "start_time": "2024-09-11T23:47:48.575Z"
   },
   {
    "duration": 3,
    "start_time": "2024-09-11T23:49:48.571Z"
   },
   {
    "duration": 4,
    "start_time": "2024-09-11T23:50:05.837Z"
   },
   {
    "duration": 4,
    "start_time": "2024-09-11T23:50:37.534Z"
   },
   {
    "duration": 5,
    "start_time": "2024-09-11T23:52:24.439Z"
   },
   {
    "duration": 3,
    "start_time": "2024-09-11T23:52:29.926Z"
   },
   {
    "duration": 3,
    "start_time": "2024-09-11T23:53:09.437Z"
   },
   {
    "duration": 3,
    "start_time": "2024-09-11T23:55:37.725Z"
   },
   {
    "duration": 4,
    "start_time": "2024-09-11T23:56:13.529Z"
   },
   {
    "duration": 5,
    "start_time": "2024-09-11T23:56:33.600Z"
   },
   {
    "duration": 4,
    "start_time": "2024-09-11T23:57:02.727Z"
   },
   {
    "duration": 6,
    "start_time": "2024-09-11T23:57:22.795Z"
   },
   {
    "duration": 3,
    "start_time": "2024-09-11T23:57:39.050Z"
   },
   {
    "duration": 4,
    "start_time": "2024-09-11T23:58:03.072Z"
   },
   {
    "duration": 5,
    "start_time": "2024-09-11T23:58:11.184Z"
   },
   {
    "duration": 9,
    "start_time": "2024-09-12T00:08:06.915Z"
   },
   {
    "duration": 168,
    "start_time": "2024-09-12T00:12:58.033Z"
   },
   {
    "duration": 5,
    "start_time": "2024-09-12T00:13:16.770Z"
   },
   {
    "duration": 14,
    "start_time": "2024-09-12T00:13:30.734Z"
   },
   {
    "duration": 4,
    "start_time": "2024-09-12T00:17:18.209Z"
   },
   {
    "duration": 15,
    "start_time": "2024-09-12T00:17:40.808Z"
   },
   {
    "duration": 21,
    "start_time": "2024-09-12T00:29:22.146Z"
   },
   {
    "duration": 20,
    "start_time": "2024-09-12T00:30:53.069Z"
   },
   {
    "duration": 15,
    "start_time": "2024-09-12T00:31:14.052Z"
   },
   {
    "duration": 25,
    "start_time": "2024-09-12T00:35:24.402Z"
   },
   {
    "duration": 4,
    "start_time": "2024-09-12T00:38:28.453Z"
   },
   {
    "duration": 5,
    "start_time": "2024-09-12T00:46:41.042Z"
   },
   {
    "duration": 9,
    "start_time": "2024-09-12T00:46:59.825Z"
   },
   {
    "duration": 4,
    "start_time": "2024-09-12T00:47:26.085Z"
   },
   {
    "duration": 4,
    "start_time": "2024-09-12T00:48:17.844Z"
   },
   {
    "duration": 3,
    "start_time": "2024-09-12T00:50:20.471Z"
   },
   {
    "duration": 3,
    "start_time": "2024-09-12T00:50:45.330Z"
   },
   {
    "duration": 3,
    "start_time": "2024-09-12T00:51:27.455Z"
   },
   {
    "duration": 3,
    "start_time": "2024-09-12T00:51:39.612Z"
   },
   {
    "duration": 4,
    "start_time": "2024-09-12T00:55:31.178Z"
   },
   {
    "duration": 4,
    "start_time": "2024-09-12T00:55:52.071Z"
   },
   {
    "duration": 15,
    "start_time": "2024-09-12T00:56:29.733Z"
   },
   {
    "duration": 31,
    "start_time": "2024-09-12T00:59:37.458Z"
   },
   {
    "duration": 15,
    "start_time": "2024-09-12T01:02:58.070Z"
   },
   {
    "duration": 13,
    "start_time": "2024-09-12T01:08:01.487Z"
   },
   {
    "duration": 14,
    "start_time": "2024-09-12T01:15:33.567Z"
   },
   {
    "duration": 15,
    "start_time": "2024-09-12T01:16:17.852Z"
   },
   {
    "duration": 3,
    "start_time": "2024-09-12T01:17:37.940Z"
   },
   {
    "duration": 6,
    "start_time": "2024-09-12T01:21:45.965Z"
   },
   {
    "duration": 5,
    "start_time": "2024-09-12T01:22:07.799Z"
   },
   {
    "duration": 6,
    "start_time": "2024-09-12T01:22:34.823Z"
   },
   {
    "duration": 6,
    "start_time": "2024-09-12T01:25:07.839Z"
   },
   {
    "duration": 7,
    "start_time": "2024-09-12T01:25:16.950Z"
   },
   {
    "duration": 7,
    "start_time": "2024-09-12T01:25:31.962Z"
   },
   {
    "duration": 8,
    "start_time": "2024-09-12T01:25:48.340Z"
   },
   {
    "duration": 19,
    "start_time": "2024-09-12T01:26:17.058Z"
   },
   {
    "duration": 5,
    "start_time": "2024-09-12T01:26:46.690Z"
   },
   {
    "duration": 9,
    "start_time": "2024-09-12T01:28:21.969Z"
   },
   {
    "duration": 27,
    "start_time": "2024-09-12T01:28:32.301Z"
   },
   {
    "duration": 7,
    "start_time": "2024-09-12T01:28:35.475Z"
   },
   {
    "duration": 6,
    "start_time": "2024-09-12T01:29:25.075Z"
   },
   {
    "duration": 7,
    "start_time": "2024-09-12T01:29:51.586Z"
   },
   {
    "duration": 6,
    "start_time": "2024-09-12T01:30:17.690Z"
   },
   {
    "duration": 7,
    "start_time": "2024-09-12T01:30:29.945Z"
   },
   {
    "duration": 9,
    "start_time": "2024-09-12T01:32:02.399Z"
   },
   {
    "duration": 6,
    "start_time": "2024-09-12T01:34:20.973Z"
   },
   {
    "duration": 9,
    "start_time": "2024-09-12T01:34:37.825Z"
   },
   {
    "duration": 11,
    "start_time": "2024-09-12T01:35:09.217Z"
   },
   {
    "duration": 6,
    "start_time": "2024-09-12T15:41:42.263Z"
   },
   {
    "duration": 3,
    "start_time": "2024-09-12T15:41:44.798Z"
   },
   {
    "duration": 3,
    "start_time": "2024-09-12T15:41:53.758Z"
   },
   {
    "duration": 2,
    "start_time": "2024-09-12T15:41:56.450Z"
   },
   {
    "duration": 3,
    "start_time": "2024-09-12T15:41:57.733Z"
   },
   {
    "duration": 159,
    "start_time": "2024-09-12T15:41:58.858Z"
   },
   {
    "duration": 7,
    "start_time": "2024-09-12T15:42:05.726Z"
   },
   {
    "duration": 3,
    "start_time": "2024-09-12T15:44:56.709Z"
   },
   {
    "duration": 3,
    "start_time": "2024-09-12T15:45:07.771Z"
   },
   {
    "duration": 5,
    "start_time": "2024-09-12T15:54:34.415Z"
   },
   {
    "duration": 3,
    "start_time": "2024-09-12T15:57:07.715Z"
   },
   {
    "duration": 3,
    "start_time": "2024-09-12T15:58:52.704Z"
   },
   {
    "duration": 3,
    "start_time": "2024-09-12T16:00:23.987Z"
   },
   {
    "duration": 5,
    "start_time": "2024-09-12T16:02:06.572Z"
   },
   {
    "duration": 18,
    "start_time": "2024-09-12T16:02:19.764Z"
   },
   {
    "duration": 2,
    "start_time": "2024-09-12T16:06:08.722Z"
   },
   {
    "duration": 5,
    "start_time": "2024-09-12T16:07:45.470Z"
   },
   {
    "duration": 4,
    "start_time": "2024-09-12T16:10:47.600Z"
   },
   {
    "duration": 3,
    "start_time": "2024-09-12T16:10:48.048Z"
   },
   {
    "duration": 3,
    "start_time": "2024-09-12T16:10:49.101Z"
   },
   {
    "duration": 11,
    "start_time": "2024-09-12T16:10:49.467Z"
   },
   {
    "duration": 3,
    "start_time": "2024-09-12T16:10:50.462Z"
   },
   {
    "duration": 3,
    "start_time": "2024-09-12T16:10:50.861Z"
   },
   {
    "duration": 4,
    "start_time": "2024-09-12T16:10:51.942Z"
   },
   {
    "duration": 4,
    "start_time": "2024-09-12T16:10:52.916Z"
   },
   {
    "duration": 12,
    "start_time": "2024-09-12T16:10:53.369Z"
   },
   {
    "duration": 3,
    "start_time": "2024-09-12T16:10:54.368Z"
   },
   {
    "duration": 11,
    "start_time": "2024-09-12T16:10:54.964Z"
   },
   {
    "duration": 5,
    "start_time": "2024-09-12T16:10:55.400Z"
   },
   {
    "duration": 6,
    "start_time": "2024-09-12T16:10:56.075Z"
   },
   {
    "duration": 5,
    "start_time": "2024-09-12T16:10:57.090Z"
   },
   {
    "duration": 6,
    "start_time": "2024-09-12T20:23:47.114Z"
   },
   {
    "duration": 3,
    "start_time": "2024-09-12T20:24:29.689Z"
   },
   {
    "duration": 157,
    "start_time": "2024-09-12T20:34:28.799Z"
   },
   {
    "duration": 3,
    "start_time": "2024-09-12T20:35:03.740Z"
   },
   {
    "duration": 3,
    "start_time": "2024-09-12T20:38:00.584Z"
   },
   {
    "duration": 14,
    "start_time": "2024-09-12T20:39:37.839Z"
   },
   {
    "duration": 14,
    "start_time": "2024-09-12T20:40:36.237Z"
   },
   {
    "duration": 3,
    "start_time": "2024-09-12T20:42:34.418Z"
   },
   {
    "duration": 3,
    "start_time": "2024-09-12T20:43:13.976Z"
   },
   {
    "duration": 3,
    "start_time": "2024-09-12T20:43:34.427Z"
   },
   {
    "duration": 4,
    "start_time": "2024-09-12T20:44:06.664Z"
   },
   {
    "duration": 3,
    "start_time": "2024-09-12T20:44:19.678Z"
   },
   {
    "duration": 5,
    "start_time": "2024-09-12T20:48:51.404Z"
   },
   {
    "duration": 5,
    "start_time": "2024-09-12T20:48:54.582Z"
   },
   {
    "duration": 5,
    "start_time": "2024-09-12T20:49:38.606Z"
   },
   {
    "duration": 5,
    "start_time": "2024-09-12T20:49:46.665Z"
   },
   {
    "duration": 5,
    "start_time": "2024-09-12T20:50:07.354Z"
   },
   {
    "duration": 6,
    "start_time": "2024-09-12T20:50:19.391Z"
   },
   {
    "duration": 5,
    "start_time": "2024-09-12T20:50:31.111Z"
   },
   {
    "duration": 8,
    "start_time": "2024-09-13T00:53:12.770Z"
   },
   {
    "duration": 5,
    "start_time": "2024-09-13T00:54:10.352Z"
   },
   {
    "duration": 5,
    "start_time": "2024-09-13T00:54:15.366Z"
   },
   {
    "duration": 5,
    "start_time": "2024-09-13T00:54:33.870Z"
   },
   {
    "duration": 6,
    "start_time": "2024-09-13T13:50:21.292Z"
   },
   {
    "duration": 3,
    "start_time": "2024-09-13T13:51:42.378Z"
   },
   {
    "duration": 5,
    "start_time": "2024-09-13T13:55:51.739Z"
   },
   {
    "duration": 7,
    "start_time": "2024-09-13T13:56:27.277Z"
   },
   {
    "duration": 8,
    "start_time": "2024-09-13T14:46:57.810Z"
   }
  ],
  "colab": {
   "provenance": []
  },
  "kernelspec": {
   "display_name": "Python 3 (ipykernel)",
   "language": "python",
   "name": "python3"
  },
  "language_info": {
   "codemirror_mode": {
    "name": "ipython",
    "version": 3
   },
   "file_extension": ".py",
   "mimetype": "text/x-python",
   "name": "python",
   "nbconvert_exporter": "python",
   "pygments_lexer": "ipython3",
   "version": "3.9.19"
  },
  "toc": {
   "base_numbering": 1,
   "nav_menu": {},
   "number_sections": true,
   "sideBar": true,
   "skip_h1_title": true,
   "title_cell": "Table of Contents",
   "title_sidebar": "Contents",
   "toc_cell": false,
   "toc_position": {},
   "toc_section_display": true,
   "toc_window_display": false
  }
 },
 "nbformat": 4,
 "nbformat_minor": 1
}
