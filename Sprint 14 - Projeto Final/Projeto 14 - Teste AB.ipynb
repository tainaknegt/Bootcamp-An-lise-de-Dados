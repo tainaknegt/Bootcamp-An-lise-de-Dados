{
 "cells": [
  {
   "cell_type": "markdown",
   "metadata": {},
   "source": [
    "\n",
    "\n",
    "Olá estudante!\n",
    "\n",
    "Me chamo Rafael Meirelles e irei revisar o seu projeto hoje e em eventuais futuras submissões até que ele cumpra todos os requisitos para o aceite.\n",
    "Conte comigo nessa jornada e não se preocupe se precisar ajustar alguns detalhes, é parte do processo e fundamental para que você exercite os conceitos que vem aprendendo e assim melhore a qualidade dos seus códigos e análises.\n",
    "\n",
    "**Peço que mantenha e não altereos comentários que eu fizer por aqui para que possamos nos localizar posteriormente, ok?**\n",
    "\n",
    "Mais uma coisa, vamos utilizar um código de cores para você entender os meus feedbacks no seu notebook. Funciona assim:\n",
    "\n",
    "\n",
    "<div class=\"alert alert-danger\">\n",
    "<strong>Vermelho</strong>\n",
    "\n",
    "Erro que precisa ser consertado, caso contrário, seu projeto não pode ser aceito\n",
    "\n",
    "</div>\n",
    "\n",
    "<div class=\"alert alert-warning\">\n",
    "<strong>Amarelo</strong>\n",
    "\n",
    "Alerta de um erro não crítco, mas que pode ser corrigido para melhoria geral no seu código/análise\n",
    "\n",
    "</div>\n",
    "\n",
    "<div class=\"alert alert-success\">\n",
    "<strong>Verde</strong>\n",
    "\n",
    "Elogios\n",
    "</div>\n",
    "\n",
    "<div class=\"alert alert-info\">\n",
    "<strong>Comentário do estudante</strong>\n",
    "\n",
    "Use uma caixa azul como essa para eventuais comentários que você gostaria de fazer para mim.\n",
    "</div>\n",
    "\n",
    "\n",
    "\n",
    "\n",
    "\n",
    "\n"
   ]
  },
  {
   "cell_type": "markdown",
   "metadata": {},
   "source": [
    "\n",
    "<div class=\"alert alert-danger\">\n",
    "<strong>Comentário do revisor v1</strong>\n",
    "\n",
    "Estamos no caminho certo com essa versão, mas retocar os pontos indicados abaixo nos fará chegar em um resultado ainda mais incrível.\n",
    "    \n",
    "Conte comigo para ajudá-lo (a) em qualquer questão que possa vir a ter! Lembre-se de usar as caixas azuis para se comunicar comigo.\n",
    "    \n",
    "Até breve.\n",
    "</div>\n"
   ]
  },
  {
   "cell_type": "markdown",
   "metadata": {},
   "source": [
    "<div class=\"alert alert-danger\">\n",
    "<strong>Comentário do revisor v2</strong>\n",
    "\n",
    "Perfeito, Taina! O estudo dos eventos ao longo do tempo, do funil de conversão e das características e volumetrias dos grupos foi conduzido adequadamente! Estamos prontos para o teste A/B.\n",
    "</div>\n"
   ]
  },
  {
   "cell_type": "markdown",
   "metadata": {},
   "source": [
    "\n",
    "\n",
    "\n",
    "<div class=\"alert alert-danger\">\n",
    "<strong>Comentário do revisor v3</strong>\n",
    "\n",
    "Avançamos bastante com os ajustes, mas ainda temos alguns pontos pendentes. Procure por 'v3' para encontrá-los com mais facilidade.\n",
    "\n",
    "Estamos quase lá! Vamos juntos até o fim.\n",
    "</div>\n",
    "\n"
   ]
  },
  {
   "cell_type": "markdown",
   "metadata": {},
   "source": [
    "O objetivo principal do projeto é avaliar como um novo sistema de recomendação impacta no funil de compras da loja online. \n",
    "\n",
    "Para isso, iremos:\n",
    "\n",
    "1) Dividir os usuarios em dois grupos, sendo grupo A (controle) e B (teste), e comparar o comportamento dos usuários no funil de acordo com os 3 parâmetros abaixo:\n",
    "\n",
    "-Compras realizadas (purchase)\n",
    "\n",
    "-Visualizações de página de produto (product_page)\n",
    "\n",
    "-Adições ao carrinho (product_cart)\n",
    "\n",
    "2) Determinar a conversão nas etapas do funil (de product_page para product_cart e para purchase) no prazo de 14 dias após o cadastro.\n",
    "\n",
    "3) Validar se houve um aumento de pelo menos 10% em cada etapa do funil no grupo B comparado ao grupo A, conforme esperado.\n",
    "\n",
    "\n",
    "🚩 OBSERVAÇÃO:\n",
    "\n",
    "Para tratar os dados, inicialmente vamos garantir que as colunas event_dt, start_dt, finish_dt, first_date são tipo datetime.\n",
    "\n",
    "As demais colunas (user_id, event_name, region, device, ab_test, group, etc.) devem ser strings/categorias e inteiros.\n",
    "\n",
    "Além disso, devemos tratar os valores ausentes/duplicados. Para esse tipo de análise, não é interessante que os dados tenham datas nulas e/ou usuários duplicados.\n",
    "\n",
    "Como realizaremos um teste A/B, é importante verificar também se nenhum usuário esta em mais de um grupo.\n"
   ]
  },
  {
   "cell_type": "code",
   "execution_count": 1,
   "metadata": {},
   "outputs": [],
   "source": [
    "#Importando as bibliotecas\n",
    "\n",
    "import pandas as pd\n",
    "import seaborn as sns\n",
    "import matplotlib.pyplot as plt\n",
    "from statsmodels.stats.proportion import proportions_ztest"
   ]
  },
  {
   "cell_type": "code",
   "execution_count": 2,
   "metadata": {},
   "outputs": [],
   "source": [
    "#Leitura dos dados\n",
    "\n",
    "df_marketing_events = pd.read_csv('/datasets/ab_project_marketing_events_us.csv')\n",
    "df_new_users = pd.read_csv('/datasets/final_ab_new_users_upd_us.csv')\n",
    "df_events = pd.read_csv('/datasets/final_ab_events_upd_us.csv')\n",
    "df_participants = pd.read_csv('/datasets/final_ab_participants_upd_us.csv')\n"
   ]
  },
  {
   "cell_type": "code",
   "execution_count": 3,
   "metadata": {},
   "outputs": [
    {
     "name": "stdout",
     "output_type": "stream",
     "text": [
      "<class 'pandas.core.frame.DataFrame'>\n",
      "RangeIndex: 14 entries, 0 to 13\n",
      "Data columns (total 4 columns):\n",
      " #   Column     Non-Null Count  Dtype \n",
      "---  ------     --------------  ----- \n",
      " 0   name       14 non-null     object\n",
      " 1   regions    14 non-null     object\n",
      " 2   start_dt   14 non-null     object\n",
      " 3   finish_dt  14 non-null     object\n",
      "dtypes: object(4)\n",
      "memory usage: 576.0+ bytes\n"
     ]
    }
   ],
   "source": [
    "df_marketing_events.info()"
   ]
  },
  {
   "cell_type": "code",
   "execution_count": 4,
   "metadata": {},
   "outputs": [
    {
     "data": {
      "text/plain": [
       "name         0\n",
       "regions      0\n",
       "start_dt     0\n",
       "finish_dt    0\n",
       "dtype: int64"
      ]
     },
     "execution_count": 4,
     "metadata": {},
     "output_type": "execute_result"
    }
   ],
   "source": [
    "#Verificando Valores ausentes no df_marketing_events :\n",
    "df_marketing_events.isnull().sum()"
   ]
  },
  {
   "cell_type": "code",
   "execution_count": 5,
   "metadata": {},
   "outputs": [
    {
     "data": {
      "text/html": [
       "<div>\n",
       "<style scoped>\n",
       "    .dataframe tbody tr th:only-of-type {\n",
       "        vertical-align: middle;\n",
       "    }\n",
       "\n",
       "    .dataframe tbody tr th {\n",
       "        vertical-align: top;\n",
       "    }\n",
       "\n",
       "    .dataframe thead th {\n",
       "        text-align: right;\n",
       "    }\n",
       "</style>\n",
       "<table border=\"1\" class=\"dataframe\">\n",
       "  <thead>\n",
       "    <tr style=\"text-align: right;\">\n",
       "      <th></th>\n",
       "      <th>name</th>\n",
       "      <th>regions</th>\n",
       "      <th>start_dt</th>\n",
       "      <th>finish_dt</th>\n",
       "    </tr>\n",
       "  </thead>\n",
       "  <tbody>\n",
       "    <tr>\n",
       "      <th>0</th>\n",
       "      <td>Christmas&amp;New Year Promo</td>\n",
       "      <td>EU, N.America</td>\n",
       "      <td>2020-12-25</td>\n",
       "      <td>2021-01-03</td>\n",
       "    </tr>\n",
       "    <tr>\n",
       "      <th>1</th>\n",
       "      <td>St. Valentine's Day Giveaway</td>\n",
       "      <td>EU, CIS, APAC, N.America</td>\n",
       "      <td>2020-02-14</td>\n",
       "      <td>2020-02-16</td>\n",
       "    </tr>\n",
       "    <tr>\n",
       "      <th>2</th>\n",
       "      <td>St. Patric's Day Promo</td>\n",
       "      <td>EU, N.America</td>\n",
       "      <td>2020-03-17</td>\n",
       "      <td>2020-03-19</td>\n",
       "    </tr>\n",
       "    <tr>\n",
       "      <th>3</th>\n",
       "      <td>Easter Promo</td>\n",
       "      <td>EU, CIS, APAC, N.America</td>\n",
       "      <td>2020-04-12</td>\n",
       "      <td>2020-04-19</td>\n",
       "    </tr>\n",
       "    <tr>\n",
       "      <th>4</th>\n",
       "      <td>4th of July Promo</td>\n",
       "      <td>N.America</td>\n",
       "      <td>2020-07-04</td>\n",
       "      <td>2020-07-11</td>\n",
       "    </tr>\n",
       "  </tbody>\n",
       "</table>\n",
       "</div>"
      ],
      "text/plain": [
       "                           name                   regions    start_dt  \\\n",
       "0      Christmas&New Year Promo             EU, N.America  2020-12-25   \n",
       "1  St. Valentine's Day Giveaway  EU, CIS, APAC, N.America  2020-02-14   \n",
       "2        St. Patric's Day Promo             EU, N.America  2020-03-17   \n",
       "3                  Easter Promo  EU, CIS, APAC, N.America  2020-04-12   \n",
       "4             4th of July Promo                 N.America  2020-07-04   \n",
       "\n",
       "    finish_dt  \n",
       "0  2021-01-03  \n",
       "1  2020-02-16  \n",
       "2  2020-03-19  \n",
       "3  2020-04-19  \n",
       "4  2020-07-11  "
      ]
     },
     "execution_count": 5,
     "metadata": {},
     "output_type": "execute_result"
    }
   ],
   "source": [
    "df_marketing_events.head()"
   ]
  },
  {
   "cell_type": "markdown",
   "metadata": {},
   "source": [
    "Após verificar as informações sobre o calendário de eventos de marketing para 2020, precisamos de:\n",
    "\n",
    "-Converter as datas para o tipo datetime\n",
    "\n",
    "-Verificiar valores unicos na coluna regions\n",
    "\n",
    "-Calcular a duração de cada evento (data final - data inicial)\n"
   ]
  },
  {
   "cell_type": "code",
   "execution_count": 6,
   "metadata": {},
   "outputs": [],
   "source": [
    "#Convertendo datas para o tipo datetime:\n",
    "\n",
    "df_marketing_events['start_dt'] = pd.to_datetime(df_marketing_events['start_dt'])\n",
    "df_marketing_events['finish_dt'] = pd.to_datetime(df_marketing_events['finish_dt'])"
   ]
  },
  {
   "cell_type": "code",
   "execution_count": 7,
   "metadata": {},
   "outputs": [
    {
     "data": {
      "text/plain": [
       "array(['EU, N.America', 'EU, CIS, APAC, N.America', 'N.America', 'APAC',\n",
       "       'EU, CIS, APAC', 'CIS'], dtype=object)"
      ]
     },
     "execution_count": 7,
     "metadata": {},
     "output_type": "execute_result"
    }
   ],
   "source": [
    "#Verificando valores unicos em regions:\n",
    "\n",
    "df_marketing_events['regions'].unique()"
   ]
  },
  {
   "cell_type": "code",
   "execution_count": 8,
   "metadata": {},
   "outputs": [],
   "source": [
    "#Calculando a duração dos eventos:\n",
    "\n",
    "df_marketing_events['duration_days'] = (df_marketing_events['finish_dt'] - df_marketing_events['start_dt']).dt.days"
   ]
  },
  {
   "cell_type": "code",
   "execution_count": 9,
   "metadata": {},
   "outputs": [],
   "source": [
    "#Separando as regiões em linhas diferentes:\n",
    "\n",
    "df_marketing_events['regions'] = df_marketing_events['regions'].str.split(', ')\n",
    "\n",
    "df_marketing_events = df_marketing_events.explode('regions').reset_index(drop=True)"
   ]
  },
  {
   "cell_type": "code",
   "execution_count": 10,
   "metadata": {},
   "outputs": [],
   "source": [
    "df_marketing_events = df_marketing_events.rename(columns={\"regions\": \"region\"})"
   ]
  },
  {
   "cell_type": "code",
   "execution_count": 11,
   "metadata": {},
   "outputs": [
    {
     "data": {
      "text/html": [
       "<div>\n",
       "<style scoped>\n",
       "    .dataframe tbody tr th:only-of-type {\n",
       "        vertical-align: middle;\n",
       "    }\n",
       "\n",
       "    .dataframe tbody tr th {\n",
       "        vertical-align: top;\n",
       "    }\n",
       "\n",
       "    .dataframe thead th {\n",
       "        text-align: right;\n",
       "    }\n",
       "</style>\n",
       "<table border=\"1\" class=\"dataframe\">\n",
       "  <thead>\n",
       "    <tr style=\"text-align: right;\">\n",
       "      <th></th>\n",
       "      <th>name</th>\n",
       "      <th>region</th>\n",
       "      <th>start_dt</th>\n",
       "      <th>finish_dt</th>\n",
       "      <th>duration_days</th>\n",
       "    </tr>\n",
       "  </thead>\n",
       "  <tbody>\n",
       "    <tr>\n",
       "      <th>0</th>\n",
       "      <td>Christmas&amp;New Year Promo</td>\n",
       "      <td>EU</td>\n",
       "      <td>2020-12-25</td>\n",
       "      <td>2021-01-03</td>\n",
       "      <td>9</td>\n",
       "    </tr>\n",
       "    <tr>\n",
       "      <th>1</th>\n",
       "      <td>Christmas&amp;New Year Promo</td>\n",
       "      <td>N.America</td>\n",
       "      <td>2020-12-25</td>\n",
       "      <td>2021-01-03</td>\n",
       "      <td>9</td>\n",
       "    </tr>\n",
       "    <tr>\n",
       "      <th>2</th>\n",
       "      <td>St. Valentine's Day Giveaway</td>\n",
       "      <td>EU</td>\n",
       "      <td>2020-02-14</td>\n",
       "      <td>2020-02-16</td>\n",
       "      <td>2</td>\n",
       "    </tr>\n",
       "    <tr>\n",
       "      <th>3</th>\n",
       "      <td>St. Valentine's Day Giveaway</td>\n",
       "      <td>CIS</td>\n",
       "      <td>2020-02-14</td>\n",
       "      <td>2020-02-16</td>\n",
       "      <td>2</td>\n",
       "    </tr>\n",
       "    <tr>\n",
       "      <th>4</th>\n",
       "      <td>St. Valentine's Day Giveaway</td>\n",
       "      <td>APAC</td>\n",
       "      <td>2020-02-14</td>\n",
       "      <td>2020-02-16</td>\n",
       "      <td>2</td>\n",
       "    </tr>\n",
       "  </tbody>\n",
       "</table>\n",
       "</div>"
      ],
      "text/plain": [
       "                           name     region   start_dt  finish_dt  \\\n",
       "0      Christmas&New Year Promo         EU 2020-12-25 2021-01-03   \n",
       "1      Christmas&New Year Promo  N.America 2020-12-25 2021-01-03   \n",
       "2  St. Valentine's Day Giveaway         EU 2020-02-14 2020-02-16   \n",
       "3  St. Valentine's Day Giveaway        CIS 2020-02-14 2020-02-16   \n",
       "4  St. Valentine's Day Giveaway       APAC 2020-02-14 2020-02-16   \n",
       "\n",
       "   duration_days  \n",
       "0              9  \n",
       "1              9  \n",
       "2              2  \n",
       "3              2  \n",
       "4              2  "
      ]
     },
     "execution_count": 11,
     "metadata": {},
     "output_type": "execute_result"
    }
   ],
   "source": [
    "df_marketing_events.head()"
   ]
  },
  {
   "cell_type": "code",
   "execution_count": 12,
   "metadata": {},
   "outputs": [
    {
     "name": "stdout",
     "output_type": "stream",
     "text": [
      "<class 'pandas.core.frame.DataFrame'>\n",
      "RangeIndex: 58703 entries, 0 to 58702\n",
      "Data columns (total 4 columns):\n",
      " #   Column      Non-Null Count  Dtype \n",
      "---  ------      --------------  ----- \n",
      " 0   user_id     58703 non-null  object\n",
      " 1   first_date  58703 non-null  object\n",
      " 2   region      58703 non-null  object\n",
      " 3   device      58703 non-null  object\n",
      "dtypes: object(4)\n",
      "memory usage: 1.8+ MB\n"
     ]
    }
   ],
   "source": [
    "df_new_users.info()"
   ]
  },
  {
   "cell_type": "code",
   "execution_count": 13,
   "metadata": {},
   "outputs": [
    {
     "data": {
      "text/plain": [
       "user_id       0\n",
       "first_date    0\n",
       "region        0\n",
       "device        0\n",
       "dtype: int64"
      ]
     },
     "execution_count": 13,
     "metadata": {},
     "output_type": "execute_result"
    }
   ],
   "source": [
    "#Verificando Valores ausentes no df_new_users :\n",
    "\n",
    "df_new_users.isnull().sum()"
   ]
  },
  {
   "cell_type": "code",
   "execution_count": 14,
   "metadata": {},
   "outputs": [
    {
     "data": {
      "text/plain": [
       "0"
      ]
     },
     "execution_count": 14,
     "metadata": {},
     "output_type": "execute_result"
    }
   ],
   "source": [
    "#Verificando Valores duplicados no df_new_users :\n",
    "\n",
    "df_new_users['user_id'].duplicated().sum()"
   ]
  },
  {
   "cell_type": "code",
   "execution_count": 15,
   "metadata": {},
   "outputs": [
    {
     "data": {
      "text/html": [
       "<div>\n",
       "<style scoped>\n",
       "    .dataframe tbody tr th:only-of-type {\n",
       "        vertical-align: middle;\n",
       "    }\n",
       "\n",
       "    .dataframe tbody tr th {\n",
       "        vertical-align: top;\n",
       "    }\n",
       "\n",
       "    .dataframe thead th {\n",
       "        text-align: right;\n",
       "    }\n",
       "</style>\n",
       "<table border=\"1\" class=\"dataframe\">\n",
       "  <thead>\n",
       "    <tr style=\"text-align: right;\">\n",
       "      <th></th>\n",
       "      <th>user_id</th>\n",
       "      <th>first_date</th>\n",
       "      <th>region</th>\n",
       "      <th>device</th>\n",
       "    </tr>\n",
       "  </thead>\n",
       "  <tbody>\n",
       "    <tr>\n",
       "      <th>0</th>\n",
       "      <td>D72A72121175D8BE</td>\n",
       "      <td>2020-12-07</td>\n",
       "      <td>EU</td>\n",
       "      <td>PC</td>\n",
       "    </tr>\n",
       "    <tr>\n",
       "      <th>1</th>\n",
       "      <td>F1C668619DFE6E65</td>\n",
       "      <td>2020-12-07</td>\n",
       "      <td>N.America</td>\n",
       "      <td>Android</td>\n",
       "    </tr>\n",
       "    <tr>\n",
       "      <th>2</th>\n",
       "      <td>2E1BF1D4C37EA01F</td>\n",
       "      <td>2020-12-07</td>\n",
       "      <td>EU</td>\n",
       "      <td>PC</td>\n",
       "    </tr>\n",
       "    <tr>\n",
       "      <th>3</th>\n",
       "      <td>50734A22C0C63768</td>\n",
       "      <td>2020-12-07</td>\n",
       "      <td>EU</td>\n",
       "      <td>iPhone</td>\n",
       "    </tr>\n",
       "    <tr>\n",
       "      <th>4</th>\n",
       "      <td>E1BDDCE0DAFA2679</td>\n",
       "      <td>2020-12-07</td>\n",
       "      <td>N.America</td>\n",
       "      <td>iPhone</td>\n",
       "    </tr>\n",
       "  </tbody>\n",
       "</table>\n",
       "</div>"
      ],
      "text/plain": [
       "            user_id  first_date     region   device\n",
       "0  D72A72121175D8BE  2020-12-07         EU       PC\n",
       "1  F1C668619DFE6E65  2020-12-07  N.America  Android\n",
       "2  2E1BF1D4C37EA01F  2020-12-07         EU       PC\n",
       "3  50734A22C0C63768  2020-12-07         EU   iPhone\n",
       "4  E1BDDCE0DAFA2679  2020-12-07  N.America   iPhone"
      ]
     },
     "execution_count": 15,
     "metadata": {},
     "output_type": "execute_result"
    }
   ],
   "source": [
    "df_new_users.head()"
   ]
  },
  {
   "cell_type": "code",
   "execution_count": 16,
   "metadata": {},
   "outputs": [],
   "source": [
    "#Convertendo first_date de object para datetime\n",
    "\n",
    "df_new_users['first_date'] = pd.to_datetime(df_new_users['first_date'])"
   ]
  },
  {
   "cell_type": "code",
   "execution_count": 17,
   "metadata": {},
   "outputs": [
    {
     "name": "stdout",
     "output_type": "stream",
     "text": [
      "<class 'pandas.core.frame.DataFrame'>\n",
      "RangeIndex: 58703 entries, 0 to 58702\n",
      "Data columns (total 4 columns):\n",
      " #   Column      Non-Null Count  Dtype         \n",
      "---  ------      --------------  -----         \n",
      " 0   user_id     58703 non-null  object        \n",
      " 1   first_date  58703 non-null  datetime64[ns]\n",
      " 2   region      58703 non-null  object        \n",
      " 3   device      58703 non-null  object        \n",
      "dtypes: datetime64[ns](1), object(3)\n",
      "memory usage: 1.8+ MB\n"
     ]
    }
   ],
   "source": [
    "df_new_users.info()"
   ]
  },
  {
   "cell_type": "code",
   "execution_count": 18,
   "metadata": {},
   "outputs": [
    {
     "name": "stdout",
     "output_type": "stream",
     "text": [
      "<class 'pandas.core.frame.DataFrame'>\n",
      "RangeIndex: 423761 entries, 0 to 423760\n",
      "Data columns (total 4 columns):\n",
      " #   Column      Non-Null Count   Dtype  \n",
      "---  ------      --------------   -----  \n",
      " 0   user_id     423761 non-null  object \n",
      " 1   event_dt    423761 non-null  object \n",
      " 2   event_name  423761 non-null  object \n",
      " 3   details     60314 non-null   float64\n",
      "dtypes: float64(1), object(3)\n",
      "memory usage: 12.9+ MB\n"
     ]
    }
   ],
   "source": [
    "df_events.info()"
   ]
  },
  {
   "cell_type": "code",
   "execution_count": 19,
   "metadata": {},
   "outputs": [
    {
     "data": {
      "text/plain": [
       "user_id            0\n",
       "event_dt           0\n",
       "event_name         0\n",
       "details       363447\n",
       "dtype: int64"
      ]
     },
     "execution_count": 19,
     "metadata": {},
     "output_type": "execute_result"
    }
   ],
   "source": [
    "#Verificando Valores ausentes no df_events :\n",
    "\n",
    "df_events.isnull().sum()"
   ]
  },
  {
   "cell_type": "code",
   "execution_count": 20,
   "metadata": {},
   "outputs": [
    {
     "data": {
      "text/html": [
       "<div>\n",
       "<style scoped>\n",
       "    .dataframe tbody tr th:only-of-type {\n",
       "        vertical-align: middle;\n",
       "    }\n",
       "\n",
       "    .dataframe tbody tr th {\n",
       "        vertical-align: top;\n",
       "    }\n",
       "\n",
       "    .dataframe thead th {\n",
       "        text-align: right;\n",
       "    }\n",
       "</style>\n",
       "<table border=\"1\" class=\"dataframe\">\n",
       "  <thead>\n",
       "    <tr style=\"text-align: right;\">\n",
       "      <th></th>\n",
       "      <th>user_id</th>\n",
       "      <th>event_dt</th>\n",
       "      <th>event_name</th>\n",
       "      <th>details</th>\n",
       "    </tr>\n",
       "  </thead>\n",
       "  <tbody>\n",
       "    <tr>\n",
       "      <th>0</th>\n",
       "      <td>E1BDDCE0DAFA2679</td>\n",
       "      <td>2020-12-07 20:22:03</td>\n",
       "      <td>purchase</td>\n",
       "      <td>99.99</td>\n",
       "    </tr>\n",
       "    <tr>\n",
       "      <th>1</th>\n",
       "      <td>7B6452F081F49504</td>\n",
       "      <td>2020-12-07 09:22:53</td>\n",
       "      <td>purchase</td>\n",
       "      <td>9.99</td>\n",
       "    </tr>\n",
       "    <tr>\n",
       "      <th>2</th>\n",
       "      <td>9CD9F34546DF254C</td>\n",
       "      <td>2020-12-07 12:59:29</td>\n",
       "      <td>purchase</td>\n",
       "      <td>4.99</td>\n",
       "    </tr>\n",
       "    <tr>\n",
       "      <th>3</th>\n",
       "      <td>96F27A054B191457</td>\n",
       "      <td>2020-12-07 04:02:40</td>\n",
       "      <td>purchase</td>\n",
       "      <td>4.99</td>\n",
       "    </tr>\n",
       "    <tr>\n",
       "      <th>4</th>\n",
       "      <td>1FD7660FDF94CA1F</td>\n",
       "      <td>2020-12-07 10:15:09</td>\n",
       "      <td>purchase</td>\n",
       "      <td>4.99</td>\n",
       "    </tr>\n",
       "  </tbody>\n",
       "</table>\n",
       "</div>"
      ],
      "text/plain": [
       "            user_id             event_dt event_name  details\n",
       "0  E1BDDCE0DAFA2679  2020-12-07 20:22:03   purchase    99.99\n",
       "1  7B6452F081F49504  2020-12-07 09:22:53   purchase     9.99\n",
       "2  9CD9F34546DF254C  2020-12-07 12:59:29   purchase     4.99\n",
       "3  96F27A054B191457  2020-12-07 04:02:40   purchase     4.99\n",
       "4  1FD7660FDF94CA1F  2020-12-07 10:15:09   purchase     4.99"
      ]
     },
     "execution_count": 20,
     "metadata": {},
     "output_type": "execute_result"
    }
   ],
   "source": [
    "df_events.head()"
   ]
  },
  {
   "cell_type": "code",
   "execution_count": 21,
   "metadata": {},
   "outputs": [],
   "source": [
    "# Transformando em datetime a coluna event_dt:\n",
    "\n",
    "df_events['event_dt'] = pd.to_datetime(df_events['event_dt'])"
   ]
  },
  {
   "cell_type": "markdown",
   "metadata": {},
   "source": [
    "\n",
    "<div class=\"alert alert-success\">\n",
    "<strong>Comentário do revisor v1</strong>\n",
    "\n",
    "Excelente trabalho checando a consistência dos dados.\n",
    "\n",
    "Sempre importante para garantir uma análise robusta!\n",
    "</div>\n",
    "\n"
   ]
  },
  {
   "cell_type": "code",
   "execution_count": 22,
   "metadata": {},
   "outputs": [
    {
     "data": {
      "text/html": [
       "<div>\n",
       "<style scoped>\n",
       "    .dataframe tbody tr th:only-of-type {\n",
       "        vertical-align: middle;\n",
       "    }\n",
       "\n",
       "    .dataframe tbody tr th {\n",
       "        vertical-align: top;\n",
       "    }\n",
       "\n",
       "    .dataframe thead th {\n",
       "        text-align: right;\n",
       "    }\n",
       "</style>\n",
       "<table border=\"1\" class=\"dataframe\">\n",
       "  <thead>\n",
       "    <tr style=\"text-align: right;\">\n",
       "      <th></th>\n",
       "      <th>user_id</th>\n",
       "      <th>group</th>\n",
       "      <th>ab_test</th>\n",
       "    </tr>\n",
       "  </thead>\n",
       "  <tbody>\n",
       "    <tr>\n",
       "      <th>0</th>\n",
       "      <td>D1ABA3E2887B6A73</td>\n",
       "      <td>A</td>\n",
       "      <td>recommender_system_test</td>\n",
       "    </tr>\n",
       "    <tr>\n",
       "      <th>1</th>\n",
       "      <td>A7A3664BD6242119</td>\n",
       "      <td>A</td>\n",
       "      <td>recommender_system_test</td>\n",
       "    </tr>\n",
       "    <tr>\n",
       "      <th>2</th>\n",
       "      <td>DABC14FDDFADD29E</td>\n",
       "      <td>A</td>\n",
       "      <td>recommender_system_test</td>\n",
       "    </tr>\n",
       "    <tr>\n",
       "      <th>3</th>\n",
       "      <td>04988C5DF189632E</td>\n",
       "      <td>A</td>\n",
       "      <td>recommender_system_test</td>\n",
       "    </tr>\n",
       "    <tr>\n",
       "      <th>4</th>\n",
       "      <td>4FF2998A348C484F</td>\n",
       "      <td>A</td>\n",
       "      <td>recommender_system_test</td>\n",
       "    </tr>\n",
       "  </tbody>\n",
       "</table>\n",
       "</div>"
      ],
      "text/plain": [
       "            user_id group                  ab_test\n",
       "0  D1ABA3E2887B6A73     A  recommender_system_test\n",
       "1  A7A3664BD6242119     A  recommender_system_test\n",
       "2  DABC14FDDFADD29E     A  recommender_system_test\n",
       "3  04988C5DF189632E     A  recommender_system_test\n",
       "4  4FF2998A348C484F     A  recommender_system_test"
      ]
     },
     "execution_count": 22,
     "metadata": {},
     "output_type": "execute_result"
    }
   ],
   "source": [
    "df_participants.head()"
   ]
  },
  {
   "cell_type": "code",
   "execution_count": 23,
   "metadata": {},
   "outputs": [
    {
     "data": {
      "text/plain": [
       "5B57E88DFE82FAD6    2\n",
       "FA8706D1E274805E    2\n",
       "E02247CEF572ACCA    2\n",
       "E7CC63BF20618321    2\n",
       "891458DEF142C0A3    2\n",
       "                   ..\n",
       "F3F863075CD18AD4    1\n",
       "8979D2EA0F10098F    1\n",
       "00807760AE4F0504    1\n",
       "B59C75441B3C12A4    1\n",
       "C33BE2AF4F19085A    1\n",
       "Name: user_id, Length: 13638, dtype: int64"
      ]
     },
     "execution_count": 23,
     "metadata": {},
     "output_type": "execute_result"
    }
   ],
   "source": [
    "df_participants.user_id.value_counts()"
   ]
  },
  {
   "cell_type": "code",
   "execution_count": 24,
   "metadata": {},
   "outputs": [
    {
     "name": "stdout",
     "output_type": "stream",
     "text": [
      "<class 'pandas.core.frame.DataFrame'>\n",
      "RangeIndex: 14525 entries, 0 to 14524\n",
      "Data columns (total 3 columns):\n",
      " #   Column   Non-Null Count  Dtype \n",
      "---  ------   --------------  ----- \n",
      " 0   user_id  14525 non-null  object\n",
      " 1   group    14525 non-null  object\n",
      " 2   ab_test  14525 non-null  object\n",
      "dtypes: object(3)\n",
      "memory usage: 340.6+ KB\n"
     ]
    }
   ],
   "source": [
    "df_participants.info()"
   ]
  },
  {
   "cell_type": "code",
   "execution_count": 25,
   "metadata": {},
   "outputs": [
    {
     "data": {
      "text/plain": [
       "1    446\n",
       "2    441\n",
       "Name: group, dtype: int64"
      ]
     },
     "execution_count": 25,
     "metadata": {},
     "output_type": "execute_result"
    }
   ],
   "source": [
    "df_participants[df_participants.duplicated('user_id', keep=False)].groupby('user_id')['group'].nunique().value_counts()"
   ]
  },
  {
   "cell_type": "markdown",
   "metadata": {},
   "source": [
    "O resultado acima mostra que 446 usuários aparecem em exatamente 1 grupo (ou seja, grupo A ou grupo B, mesmo que duplicados no mesmo grupo) e 441 usuários aparecem em 2 grupos diferentes — isso é um problema grave para um teste A/B, pois esses usuários foram atribuídos aos dois grupos, o que viola o princípio de randomização.\n",
    "\n",
    "Portanto, é necessário manter os usuários que aparecem apenas em um grupo e exclui os outros do teste."
   ]
  },
  {
   "cell_type": "code",
   "execution_count": 26,
   "metadata": {},
   "outputs": [],
   "source": [
    "#Deixando usuarios em apenas 1 grupo:\n",
    "\n",
    "# Identifica os usuários válidos (que aparecem em apenas um grupo)\n",
    "user_group_counts = df_participants.groupby('user_id')['group'].nunique()\n",
    "valid_users = user_group_counts[user_group_counts == 1].index\n",
    "\n",
    "# Filtra o dataframe original\n",
    "df_participants_clean = df_participants[df_participants['user_id'].isin(valid_users)]"
   ]
  },
  {
   "cell_type": "markdown",
   "metadata": {},
   "source": [
    "\n",
    "<div class=\"alert alert-success\">\n",
    "<strong>Comentário do revisor v1</strong>\n",
    "\n",
    "Beleza, o filtro dos usuários foi realizado adequadamente. Só é importante ficar claro que o volume de usuários analisado por você está bem menor pois você focou nos ids duplicados (que de fato são os que podem gerar problemas). O volume de usuários total é obviamente bem maior que isso.\n",
    "</div>\n",
    "\n"
   ]
  },
  {
   "cell_type": "code",
   "execution_count": 27,
   "metadata": {
    "scrolled": true
   },
   "outputs": [
    {
     "name": "stdout",
     "output_type": "stream",
     "text": [
      "<class 'pandas.core.frame.DataFrame'>\n",
      "Int64Index: 13643 entries, 0 to 14524\n",
      "Data columns (total 3 columns):\n",
      " #   Column   Non-Null Count  Dtype \n",
      "---  ------   --------------  ----- \n",
      " 0   user_id  13643 non-null  object\n",
      " 1   group    13643 non-null  object\n",
      " 2   ab_test  13643 non-null  object\n",
      "dtypes: object(3)\n",
      "memory usage: 426.3+ KB\n"
     ]
    }
   ],
   "source": [
    "df_participants_clean.info()"
   ]
  },
  {
   "cell_type": "code",
   "execution_count": 28,
   "metadata": {},
   "outputs": [],
   "source": [
    "# Unindo os dfs df_new_users e df_purchases através da coluna user_id:\n",
    "\n",
    "df_merged_1 = pd.merge(df_events, df_new_users, on='user_id', how='left')"
   ]
  },
  {
   "cell_type": "code",
   "execution_count": 29,
   "metadata": {},
   "outputs": [
    {
     "data": {
      "text/html": [
       "<div>\n",
       "<style scoped>\n",
       "    .dataframe tbody tr th:only-of-type {\n",
       "        vertical-align: middle;\n",
       "    }\n",
       "\n",
       "    .dataframe tbody tr th {\n",
       "        vertical-align: top;\n",
       "    }\n",
       "\n",
       "    .dataframe thead th {\n",
       "        text-align: right;\n",
       "    }\n",
       "</style>\n",
       "<table border=\"1\" class=\"dataframe\">\n",
       "  <thead>\n",
       "    <tr style=\"text-align: right;\">\n",
       "      <th></th>\n",
       "      <th>user_id</th>\n",
       "      <th>event_dt</th>\n",
       "      <th>event_name</th>\n",
       "      <th>details</th>\n",
       "      <th>first_date</th>\n",
       "      <th>region</th>\n",
       "      <th>device</th>\n",
       "    </tr>\n",
       "  </thead>\n",
       "  <tbody>\n",
       "    <tr>\n",
       "      <th>0</th>\n",
       "      <td>E1BDDCE0DAFA2679</td>\n",
       "      <td>2020-12-07 20:22:03</td>\n",
       "      <td>purchase</td>\n",
       "      <td>99.99</td>\n",
       "      <td>2020-12-07</td>\n",
       "      <td>N.America</td>\n",
       "      <td>iPhone</td>\n",
       "    </tr>\n",
       "    <tr>\n",
       "      <th>1</th>\n",
       "      <td>7B6452F081F49504</td>\n",
       "      <td>2020-12-07 09:22:53</td>\n",
       "      <td>purchase</td>\n",
       "      <td>9.99</td>\n",
       "      <td>2020-12-07</td>\n",
       "      <td>EU</td>\n",
       "      <td>iPhone</td>\n",
       "    </tr>\n",
       "    <tr>\n",
       "      <th>2</th>\n",
       "      <td>9CD9F34546DF254C</td>\n",
       "      <td>2020-12-07 12:59:29</td>\n",
       "      <td>purchase</td>\n",
       "      <td>4.99</td>\n",
       "      <td>2020-12-07</td>\n",
       "      <td>N.America</td>\n",
       "      <td>iPhone</td>\n",
       "    </tr>\n",
       "    <tr>\n",
       "      <th>3</th>\n",
       "      <td>96F27A054B191457</td>\n",
       "      <td>2020-12-07 04:02:40</td>\n",
       "      <td>purchase</td>\n",
       "      <td>4.99</td>\n",
       "      <td>2020-12-07</td>\n",
       "      <td>EU</td>\n",
       "      <td>iPhone</td>\n",
       "    </tr>\n",
       "    <tr>\n",
       "      <th>4</th>\n",
       "      <td>1FD7660FDF94CA1F</td>\n",
       "      <td>2020-12-07 10:15:09</td>\n",
       "      <td>purchase</td>\n",
       "      <td>4.99</td>\n",
       "      <td>2020-12-07</td>\n",
       "      <td>EU</td>\n",
       "      <td>Android</td>\n",
       "    </tr>\n",
       "  </tbody>\n",
       "</table>\n",
       "</div>"
      ],
      "text/plain": [
       "            user_id            event_dt event_name  details first_date  \\\n",
       "0  E1BDDCE0DAFA2679 2020-12-07 20:22:03   purchase    99.99 2020-12-07   \n",
       "1  7B6452F081F49504 2020-12-07 09:22:53   purchase     9.99 2020-12-07   \n",
       "2  9CD9F34546DF254C 2020-12-07 12:59:29   purchase     4.99 2020-12-07   \n",
       "3  96F27A054B191457 2020-12-07 04:02:40   purchase     4.99 2020-12-07   \n",
       "4  1FD7660FDF94CA1F 2020-12-07 10:15:09   purchase     4.99 2020-12-07   \n",
       "\n",
       "      region   device  \n",
       "0  N.America   iPhone  \n",
       "1         EU   iPhone  \n",
       "2  N.America   iPhone  \n",
       "3         EU   iPhone  \n",
       "4         EU  Android  "
      ]
     },
     "execution_count": 29,
     "metadata": {},
     "output_type": "execute_result"
    }
   ],
   "source": [
    "df_merged_1.head()"
   ]
  },
  {
   "cell_type": "code",
   "execution_count": 30,
   "metadata": {},
   "outputs": [],
   "source": [
    "# Unindo os dfs df_merged_1 e df_participants_clean através da coluna user_id:\n",
    "\n",
    "df_merged_2 = pd.merge(df_merged_1, df_participants_clean, on='user_id', how='left')"
   ]
  },
  {
   "cell_type": "code",
   "execution_count": 31,
   "metadata": {},
   "outputs": [
    {
     "data": {
      "text/html": [
       "<div>\n",
       "<style scoped>\n",
       "    .dataframe tbody tr th:only-of-type {\n",
       "        vertical-align: middle;\n",
       "    }\n",
       "\n",
       "    .dataframe tbody tr th {\n",
       "        vertical-align: top;\n",
       "    }\n",
       "\n",
       "    .dataframe thead th {\n",
       "        text-align: right;\n",
       "    }\n",
       "</style>\n",
       "<table border=\"1\" class=\"dataframe\">\n",
       "  <thead>\n",
       "    <tr style=\"text-align: right;\">\n",
       "      <th></th>\n",
       "      <th>user_id</th>\n",
       "      <th>event_dt</th>\n",
       "      <th>event_name</th>\n",
       "      <th>details</th>\n",
       "      <th>first_date</th>\n",
       "      <th>region</th>\n",
       "      <th>device</th>\n",
       "      <th>group</th>\n",
       "      <th>ab_test</th>\n",
       "    </tr>\n",
       "  </thead>\n",
       "  <tbody>\n",
       "    <tr>\n",
       "      <th>0</th>\n",
       "      <td>E1BDDCE0DAFA2679</td>\n",
       "      <td>2020-12-07 20:22:03</td>\n",
       "      <td>purchase</td>\n",
       "      <td>99.99</td>\n",
       "      <td>2020-12-07</td>\n",
       "      <td>N.America</td>\n",
       "      <td>iPhone</td>\n",
       "      <td>NaN</td>\n",
       "      <td>NaN</td>\n",
       "    </tr>\n",
       "    <tr>\n",
       "      <th>1</th>\n",
       "      <td>7B6452F081F49504</td>\n",
       "      <td>2020-12-07 09:22:53</td>\n",
       "      <td>purchase</td>\n",
       "      <td>9.99</td>\n",
       "      <td>2020-12-07</td>\n",
       "      <td>EU</td>\n",
       "      <td>iPhone</td>\n",
       "      <td>NaN</td>\n",
       "      <td>NaN</td>\n",
       "    </tr>\n",
       "    <tr>\n",
       "      <th>2</th>\n",
       "      <td>9CD9F34546DF254C</td>\n",
       "      <td>2020-12-07 12:59:29</td>\n",
       "      <td>purchase</td>\n",
       "      <td>4.99</td>\n",
       "      <td>2020-12-07</td>\n",
       "      <td>N.America</td>\n",
       "      <td>iPhone</td>\n",
       "      <td>NaN</td>\n",
       "      <td>NaN</td>\n",
       "    </tr>\n",
       "    <tr>\n",
       "      <th>3</th>\n",
       "      <td>96F27A054B191457</td>\n",
       "      <td>2020-12-07 04:02:40</td>\n",
       "      <td>purchase</td>\n",
       "      <td>4.99</td>\n",
       "      <td>2020-12-07</td>\n",
       "      <td>EU</td>\n",
       "      <td>iPhone</td>\n",
       "      <td>B</td>\n",
       "      <td>interface_eu_test</td>\n",
       "    </tr>\n",
       "    <tr>\n",
       "      <th>4</th>\n",
       "      <td>1FD7660FDF94CA1F</td>\n",
       "      <td>2020-12-07 10:15:09</td>\n",
       "      <td>purchase</td>\n",
       "      <td>4.99</td>\n",
       "      <td>2020-12-07</td>\n",
       "      <td>EU</td>\n",
       "      <td>Android</td>\n",
       "      <td>NaN</td>\n",
       "      <td>NaN</td>\n",
       "    </tr>\n",
       "  </tbody>\n",
       "</table>\n",
       "</div>"
      ],
      "text/plain": [
       "            user_id            event_dt event_name  details first_date  \\\n",
       "0  E1BDDCE0DAFA2679 2020-12-07 20:22:03   purchase    99.99 2020-12-07   \n",
       "1  7B6452F081F49504 2020-12-07 09:22:53   purchase     9.99 2020-12-07   \n",
       "2  9CD9F34546DF254C 2020-12-07 12:59:29   purchase     4.99 2020-12-07   \n",
       "3  96F27A054B191457 2020-12-07 04:02:40   purchase     4.99 2020-12-07   \n",
       "4  1FD7660FDF94CA1F 2020-12-07 10:15:09   purchase     4.99 2020-12-07   \n",
       "\n",
       "      region   device group            ab_test  \n",
       "0  N.America   iPhone   NaN                NaN  \n",
       "1         EU   iPhone   NaN                NaN  \n",
       "2  N.America   iPhone   NaN                NaN  \n",
       "3         EU   iPhone     B  interface_eu_test  \n",
       "4         EU  Android   NaN                NaN  "
      ]
     },
     "execution_count": 31,
     "metadata": {},
     "output_type": "execute_result"
    }
   ],
   "source": [
    "df_merged_2.head()"
   ]
  },
  {
   "cell_type": "code",
   "execution_count": 32,
   "metadata": {},
   "outputs": [
    {
     "name": "stdout",
     "output_type": "stream",
     "text": [
      "<class 'pandas.core.frame.DataFrame'>\n",
      "Int64Index: 426785 entries, 0 to 426784\n",
      "Data columns (total 9 columns):\n",
      " #   Column      Non-Null Count   Dtype         \n",
      "---  ------      --------------   -----         \n",
      " 0   user_id     426785 non-null  object        \n",
      " 1   event_dt    426785 non-null  datetime64[ns]\n",
      " 2   event_name  426785 non-null  object        \n",
      " 3   details     60783 non-null   float64       \n",
      " 4   first_date  426785 non-null  datetime64[ns]\n",
      " 5   region      426785 non-null  object        \n",
      " 6   device      426785 non-null  object        \n",
      " 7   group       97456 non-null   object        \n",
      " 8   ab_test     97456 non-null   object        \n",
      "dtypes: datetime64[ns](2), float64(1), object(6)\n",
      "memory usage: 32.6+ MB\n"
     ]
    }
   ],
   "source": [
    "df_merged_2.info()"
   ]
  },
  {
   "cell_type": "code",
   "execution_count": 33,
   "metadata": {},
   "outputs": [],
   "source": [
    "# Unindo os dfs df_merged_2 e df_marketing_events através da coluna region:\n",
    "\n",
    "df_merged_final = pd.merge(df_merged_2, df_marketing_events, on='region', how='left')"
   ]
  },
  {
   "cell_type": "code",
   "execution_count": 34,
   "metadata": {},
   "outputs": [
    {
     "data": {
      "text/html": [
       "<div>\n",
       "<style scoped>\n",
       "    .dataframe tbody tr th:only-of-type {\n",
       "        vertical-align: middle;\n",
       "    }\n",
       "\n",
       "    .dataframe tbody tr th {\n",
       "        vertical-align: top;\n",
       "    }\n",
       "\n",
       "    .dataframe thead th {\n",
       "        text-align: right;\n",
       "    }\n",
       "</style>\n",
       "<table border=\"1\" class=\"dataframe\">\n",
       "  <thead>\n",
       "    <tr style=\"text-align: right;\">\n",
       "      <th></th>\n",
       "      <th>user_id</th>\n",
       "      <th>event_dt</th>\n",
       "      <th>event_name</th>\n",
       "      <th>details</th>\n",
       "      <th>first_date</th>\n",
       "      <th>region</th>\n",
       "      <th>device</th>\n",
       "      <th>group</th>\n",
       "      <th>ab_test</th>\n",
       "      <th>name</th>\n",
       "      <th>start_dt</th>\n",
       "      <th>finish_dt</th>\n",
       "      <th>duration_days</th>\n",
       "    </tr>\n",
       "  </thead>\n",
       "  <tbody>\n",
       "    <tr>\n",
       "      <th>0</th>\n",
       "      <td>E1BDDCE0DAFA2679</td>\n",
       "      <td>2020-12-07 20:22:03</td>\n",
       "      <td>purchase</td>\n",
       "      <td>99.99</td>\n",
       "      <td>2020-12-07</td>\n",
       "      <td>N.America</td>\n",
       "      <td>iPhone</td>\n",
       "      <td>NaN</td>\n",
       "      <td>NaN</td>\n",
       "      <td>Christmas&amp;New Year Promo</td>\n",
       "      <td>2020-12-25</td>\n",
       "      <td>2021-01-03</td>\n",
       "      <td>9</td>\n",
       "    </tr>\n",
       "    <tr>\n",
       "      <th>1</th>\n",
       "      <td>E1BDDCE0DAFA2679</td>\n",
       "      <td>2020-12-07 20:22:03</td>\n",
       "      <td>purchase</td>\n",
       "      <td>99.99</td>\n",
       "      <td>2020-12-07</td>\n",
       "      <td>N.America</td>\n",
       "      <td>iPhone</td>\n",
       "      <td>NaN</td>\n",
       "      <td>NaN</td>\n",
       "      <td>St. Valentine's Day Giveaway</td>\n",
       "      <td>2020-02-14</td>\n",
       "      <td>2020-02-16</td>\n",
       "      <td>2</td>\n",
       "    </tr>\n",
       "    <tr>\n",
       "      <th>2</th>\n",
       "      <td>E1BDDCE0DAFA2679</td>\n",
       "      <td>2020-12-07 20:22:03</td>\n",
       "      <td>purchase</td>\n",
       "      <td>99.99</td>\n",
       "      <td>2020-12-07</td>\n",
       "      <td>N.America</td>\n",
       "      <td>iPhone</td>\n",
       "      <td>NaN</td>\n",
       "      <td>NaN</td>\n",
       "      <td>St. Patric's Day Promo</td>\n",
       "      <td>2020-03-17</td>\n",
       "      <td>2020-03-19</td>\n",
       "      <td>2</td>\n",
       "    </tr>\n",
       "    <tr>\n",
       "      <th>3</th>\n",
       "      <td>E1BDDCE0DAFA2679</td>\n",
       "      <td>2020-12-07 20:22:03</td>\n",
       "      <td>purchase</td>\n",
       "      <td>99.99</td>\n",
       "      <td>2020-12-07</td>\n",
       "      <td>N.America</td>\n",
       "      <td>iPhone</td>\n",
       "      <td>NaN</td>\n",
       "      <td>NaN</td>\n",
       "      <td>Easter Promo</td>\n",
       "      <td>2020-04-12</td>\n",
       "      <td>2020-04-19</td>\n",
       "      <td>7</td>\n",
       "    </tr>\n",
       "    <tr>\n",
       "      <th>4</th>\n",
       "      <td>E1BDDCE0DAFA2679</td>\n",
       "      <td>2020-12-07 20:22:03</td>\n",
       "      <td>purchase</td>\n",
       "      <td>99.99</td>\n",
       "      <td>2020-12-07</td>\n",
       "      <td>N.America</td>\n",
       "      <td>iPhone</td>\n",
       "      <td>NaN</td>\n",
       "      <td>NaN</td>\n",
       "      <td>4th of July Promo</td>\n",
       "      <td>2020-07-04</td>\n",
       "      <td>2020-07-11</td>\n",
       "      <td>7</td>\n",
       "    </tr>\n",
       "  </tbody>\n",
       "</table>\n",
       "</div>"
      ],
      "text/plain": [
       "            user_id            event_dt event_name  details first_date  \\\n",
       "0  E1BDDCE0DAFA2679 2020-12-07 20:22:03   purchase    99.99 2020-12-07   \n",
       "1  E1BDDCE0DAFA2679 2020-12-07 20:22:03   purchase    99.99 2020-12-07   \n",
       "2  E1BDDCE0DAFA2679 2020-12-07 20:22:03   purchase    99.99 2020-12-07   \n",
       "3  E1BDDCE0DAFA2679 2020-12-07 20:22:03   purchase    99.99 2020-12-07   \n",
       "4  E1BDDCE0DAFA2679 2020-12-07 20:22:03   purchase    99.99 2020-12-07   \n",
       "\n",
       "      region  device group ab_test                          name   start_dt  \\\n",
       "0  N.America  iPhone   NaN     NaN      Christmas&New Year Promo 2020-12-25   \n",
       "1  N.America  iPhone   NaN     NaN  St. Valentine's Day Giveaway 2020-02-14   \n",
       "2  N.America  iPhone   NaN     NaN        St. Patric's Day Promo 2020-03-17   \n",
       "3  N.America  iPhone   NaN     NaN                  Easter Promo 2020-04-12   \n",
       "4  N.America  iPhone   NaN     NaN             4th of July Promo 2020-07-04   \n",
       "\n",
       "   finish_dt  duration_days  \n",
       "0 2021-01-03              9  \n",
       "1 2020-02-16              2  \n",
       "2 2020-03-19              2  \n",
       "3 2020-04-19              7  \n",
       "4 2020-07-11              7  "
      ]
     },
     "execution_count": 34,
     "metadata": {},
     "output_type": "execute_result"
    }
   ],
   "source": [
    "df_merged_final.head()"
   ]
  },
  {
   "cell_type": "code",
   "execution_count": 35,
   "metadata": {},
   "outputs": [
    {
     "name": "stdout",
     "output_type": "stream",
     "text": [
      "<class 'pandas.core.frame.DataFrame'>\n",
      "Int64Index: 2962452 entries, 0 to 2962451\n",
      "Data columns (total 13 columns):\n",
      " #   Column         Dtype         \n",
      "---  ------         -----         \n",
      " 0   user_id        object        \n",
      " 1   event_dt       datetime64[ns]\n",
      " 2   event_name     object        \n",
      " 3   details        float64       \n",
      " 4   first_date     datetime64[ns]\n",
      " 5   region         object        \n",
      " 6   device         object        \n",
      " 7   group          object        \n",
      " 8   ab_test        object        \n",
      " 9   name           object        \n",
      " 10  start_dt       datetime64[ns]\n",
      " 11  finish_dt      datetime64[ns]\n",
      " 12  duration_days  int64         \n",
      "dtypes: datetime64[ns](4), float64(1), int64(1), object(7)\n",
      "memory usage: 316.4+ MB\n"
     ]
    }
   ],
   "source": [
    "df_merged_final.info()"
   ]
  },
  {
   "cell_type": "code",
   "execution_count": 36,
   "metadata": {},
   "outputs": [
    {
     "name": "stdout",
     "output_type": "stream",
     "text": [
      "Usuários únicos por etapa:\n",
      "event_name\n",
      "product_page    38929\n",
      "product_cart    19284\n",
      "purchase        19568\n",
      "Name: user_id, dtype: int64\n",
      "\n",
      "Taxa de conversão de product_page → product_cart: 0.495\n",
      "Taxa de conversão de product_cart → purchase: 1.015\n",
      "Conversão total de product_page → purchase: 0.503\n"
     ]
    }
   ],
   "source": [
    "# Etapas do funil:\n",
    "\n",
    "etapas = ['product_page', 'product_cart', 'purchase']\n",
    "\n",
    "# Filtrar o DataFrame para as etapas:\n",
    "\n",
    "df_funil = df_merged_final[df_merged_final['event_name'].isin(etapas)]\n",
    "\n",
    "# Número de usuários únicos em cada etapa:\n",
    "\n",
    "usuarios_por_etapa = df_funil.groupby('event_name')['user_id'].nunique().reindex(etapas)\n",
    "\n",
    "# Calcular taxas de conversão entre as etapas:\n",
    "\n",
    "conversion_to_cart = usuarios_por_etapa['product_cart'] / usuarios_por_etapa['product_page']\n",
    "conversion_to_purchase = usuarios_por_etapa['purchase'] / usuarios_por_etapa['product_cart']\n",
    "total_conversion = usuarios_por_etapa['purchase'] / usuarios_por_etapa['product_page']\n",
    "\n",
    "# Exibir resultados:\n",
    "\n",
    "print(\"Usuários únicos por etapa:\")\n",
    "print(usuarios_por_etapa)\n",
    "print(\"\\nTaxa de conversão de product_page → product_cart:\", round(conversion_to_cart, 3))\n",
    "print(\"Taxa de conversão de product_cart → purchase:\", round(conversion_to_purchase, 3))\n",
    "print(\"Conversão total de product_page → purchase:\", round(total_conversion, 3))"
   ]
  },
  {
   "cell_type": "code",
   "execution_count": 37,
   "metadata": {},
   "outputs": [
    {
     "data": {
      "image/png": "[encoded data removed]",
      "text/plain": [
       "<Figure size 640x480 with 1 Axes>"
      ]
     },
     "metadata": {},
     "output_type": "display_data"
    }
   ],
   "source": [
    "# Plotar o funil:\n",
    "\n",
    "usuarios_por_etapa.plot(kind='bar', color='skyblue')\n",
    "plt.title('Funil de conversão geral')\n",
    "plt.xlabel('Etapa')\n",
    "plt.ylabel('Usuários únicos')\n",
    "plt.xticks(rotation=0)\n",
    "plt.grid(axis='y')\n",
    "plt.tight_layout()\n",
    "plt.show()"
   ]
  },
  {
   "cell_type": "markdown",
   "metadata": {},
   "source": [
    "A conversão de 101,5% entre product_cart e purchase indica que há mais usuários comprando do que adicionando ao carrinho. \n",
    "Isso pode ocorrer por alguns motivos, alguns deles são:\n",
    "Usuários que compram sem passar pela etapa de adicionar ao carrinho, Recompra de um item já salvo.\n",
    "Eventos de product_cart não sendo registrados corretamente ou eventos de purchase sendo duplicados ou mais amplamente capturados."
   ]
  },
  {
   "cell_type": "code",
   "execution_count": 38,
   "metadata": {},
   "outputs": [
    {
     "data": {
      "image/png": "[encoded data removed]",
      "text/plain": [
       "<Figure size 640x480 with 1 Axes>"
      ]
     },
     "metadata": {},
     "output_type": "display_data"
    }
   ],
   "source": [
    "# Contar o número de eventos por usuário em cada grupo:\n",
    "\n",
    "eventos_por_usuario = df_merged_final[df_merged_final['event_name'].isin(etapas)].groupby(['group', 'user_id'])['event_name'].count().reset_index(name='n_eventos')\n",
    "\n",
    "# Visualizar a distribuição do número de eventos por usuário:\n",
    "\n",
    "sns.boxplot(data=eventos_por_usuario, x='group', y='n_eventos')\n",
    "plt.title('Distribuição do número de eventos por usuário em cada grupo')\n",
    "plt.show()"
   ]
  },
  {
   "cell_type": "code",
   "execution_count": 39,
   "metadata": {},
   "outputs": [
    {
     "name": "stdout",
     "output_type": "stream",
     "text": [
      "group\n",
      "A    7433\n",
      "B    5764\n",
      "dtype: int64\n",
      "Usuários em mais de um grupo: 0\n"
     ]
    }
   ],
   "source": [
    "# Verificar o número de usuários únicos por grupo:\n",
    "\n",
    "usuarios_por_grupo = df_merged_final[['user_id', 'group']].drop_duplicates().groupby('group').size()\n",
    "print(usuarios_por_grupo)\n",
    "\n",
    "# Verificar usuários que estão em mais de um grupo (não deveria ocorrer em um teste A/B):\n",
    "\n",
    "usuarios_por_grupo_multiple = df_merged_final.groupby('user_id')['group'].nunique()\n",
    "usuarios_multiplos_grupos = usuarios_por_grupo_multiple[usuarios_por_grupo_multiple > 1]\n",
    "print(f\"Usuários em mais de um grupo: {len(usuarios_multiplos_grupos)}\")"
   ]
  },
  {
   "cell_type": "code",
   "execution_count": 40,
   "metadata": {},
   "outputs": [
    {
     "data": {
      "image/png": "[encoded data removed]",
      "text/plain": [
       "<Figure size 640x480 with 1 Axes>"
      ]
     },
     "metadata": {},
     "output_type": "display_data"
    }
   ],
   "source": [
    "#Distribuição do numero de eventos por dia:\n",
    "\n",
    "# Extrair a data dos eventos\n",
    "df_merged_final['event_date'] = pd.to_datetime(df_merged_final['event_dt']).dt.date\n",
    "\n",
    "# Agrupar por data e grupo para contar o número de eventos\n",
    "eventos_por_dia = df_merged_final[df_merged_final['event_name'].isin(etapas)].groupby(['event_date', 'group'])['user_id'].count().reset_index(name='n_eventos')\n",
    "\n",
    "# Visualizar os eventos ao longo dos dias\n",
    "sns.lineplot(data=eventos_por_dia, x='event_date', y='n_eventos', hue='group')\n",
    "plt.title('Distribuição de eventos por dia em cada grupo')\n",
    "plt.ylabel('Número de eventos')\n",
    "plt.xlabel('Data')\n",
    "plt.xticks(rotation=45)\n",
    "plt.show()"
   ]
  },
  {
   "cell_type": "markdown",
   "metadata": {},
   "source": [
    "<div class=\"alert alert-success\">\n",
    "<strong>Comentário do revisor v2</strong>\n",
    "\n",
    "Perfeito, Taina! O estudo dos eventos ao longo do tempo, do funil de conversão e das características e volumetrias dos grupos foi conduzido adequadamente! Estamos prontos para o teste A/B.\n",
    "</div>\n"
   ]
  },
  {
   "cell_type": "code",
   "execution_count": 41,
   "metadata": {},
   "outputs": [
    {
     "name": "stdout",
     "output_type": "stream",
     "text": [
      "  group  conversion_rate\n",
      "0     A         0.517521\n",
      "1     B         0.506326\n"
     ]
    }
   ],
   "source": [
    "# Conversão por grupo\n",
    "conversion_by_group = df_merged_final[df_merged_final['event_name'] == 'purchase'].groupby('group')['user_id'].nunique()\n",
    "users_by_group = df_merged_final[df_merged_final['event_name'] == 'product_page'].groupby('group')['user_id'].nunique()\n",
    "\n",
    "conversion_rate = (conversion_by_group / users_by_group).reset_index()\n",
    "conversion_rate.columns = ['group', 'conversion_rate']\n",
    "print(conversion_rate)"
   ]
  },
  {
   "cell_type": "markdown",
   "metadata": {},
   "source": [
    "📌Grupos de Teste:\n",
    "    \n",
    "Grupo A: controle (experiência atual)\n",
    "\n",
    "Grupo B: teste (nova experiência)\n",
    "\n",
    "📌 Hipóteses para o teste A/B\n",
    "\n",
    "Hipótese Nula (H₀):\n",
    "A taxa de conversão do grupo B é igual à do grupo A.\n",
    "\n",
    "Hipótese Alternativa (H₁):\n",
    "A taxa de conversão do grupo B é diferente da do grupo A.\n",
    "\n",
    "📌 Interpretação do resultado:\n",
    "\n",
    "Se p-valor < 0.05 → Rejeitamos H₀.\n",
    "\n",
    "Se p-valor ≥ 0.05 → Não rejeitamos H₀."
   ]
  },
  {
   "cell_type": "code",
   "execution_count": 42,
   "metadata": {},
   "outputs": [
    {
     "name": "stdout",
     "output_type": "stream",
     "text": [
      "Estatística z: 1.031\n",
      "Valor-p: 0.302\n",
      "Não há diferença estatisticamente significativa.\n"
     ]
    }
   ],
   "source": [
    "#Calculando o número de compras e de visitantes por grupo:\n",
    "\n",
    "successes = conversion_by_group.values  \n",
    "n_obs = users_by_group.values  \n",
    "\n",
    "# Teste z\n",
    "z_stat, p_value = proportions_ztest(successes, n_obs)\n",
    "\n",
    "print(f'Estatística z: {z_stat:.3f}')\n",
    "print(f'Valor-p: {p_value:.3f}')\n",
    "if p_value < 0.05:\n",
    "    print('Diferença estatisticamente significativa entre os grupos.')\n",
    "else:\n",
    "    print('Não há diferença estatisticamente significativa.')"
   ]
  },
  {
   "cell_type": "markdown",
   "metadata": {},
   "source": [
    "📌Conclusão do Teste AB para Conversão:\n",
    "\n",
    "\n",
    "O teste A/B realizado para comparar a taxa de conversão entre os grupos A (controle) e B (teste) não identificou diferença estatisticamente significativa entre as versões testadas. A estatística Z foi de 1.031, com um valor-p de 0.302, indicando que a variação observada pode ter ocorrido por acaso. Dessa forma, não há evidências suficientes para afirmar que a nova experiência (grupo B) impacta positivamente a conversão de usuários em comparação à versão atual. Com base nesse resultado, recomenda-se manter a versão existente e explorar outras hipóteses ou segmentos de usuários onde melhorias mais significativas possam ser observadas."
   ]
  },
  {
   "cell_type": "markdown",
   "metadata": {},
   "source": [
    "\n",
    "<div class=\"alert alert-danger\">\n",
    "<strong>Comentário do revisor v3</strong>\n",
    "\n",
    "O teste foi implementado e analisado corretamente, mas seria importante formular as hipóteses sendo testadas para garantimos a clareza do teste que iremos executar.\n",
    "</div>\n",
    "\n"
   ]
  },
  {
   "cell_type": "markdown",
   "metadata": {},
   "source": [
    "\n",
    "<div class=\"alert alert-danger\">\n",
    "<strong>Comentário do revisor v3</strong>\n",
    "\n",
    "Lembre-se de formular uma conclusão detalhada com tudo que descobriu ao longo do projeto.\n",
    "</div>\n",
    "\n"
   ]
  },
  {
   "cell_type": "code",
   "execution_count": 43,
   "metadata": {},
   "outputs": [
    {
     "data": {
      "image/png": "[encoded data removed]",
      "text/plain": [
       "<Figure size 640x480 with 1 Axes>"
      ]
     },
     "metadata": {},
     "output_type": "display_data"
    }
   ],
   "source": [
    "#Taxa de conversão por grupo:\n",
    "\n",
    "sns.barplot(data=conversion_rate, x='group', y='conversion_rate')\n",
    "plt.title('Taxa de conversão por grupo')\n",
    "plt.ylabel('Taxa de conversão')\n",
    "plt.show()"
   ]
  },
  {
   "cell_type": "code",
   "execution_count": 44,
   "metadata": {},
   "outputs": [
    {
     "name": "stdout",
     "output_type": "stream",
     "text": [
      "event_name  product_cart  product_page  purchase  cart_rate  purchase_rate  \\\n",
      "group                                                                        \n",
      "A                   2357          4937      2555   0.477415       1.084005   \n",
      "B                   1911          3715      1881   0.514401       0.984301   \n",
      "\n",
      "event_name  total_conversion  \n",
      "group                         \n",
      "A                   0.517521  \n",
      "B                   0.506326  \n"
     ]
    }
   ],
   "source": [
    "#Funil por grupo:\n",
    "funil_por_grupo = df_funil.groupby(['group', 'event_name'])['user_id'].nunique().unstack().fillna(0)\n",
    "funil_por_grupo['cart_rate'] = funil_por_grupo['product_cart'] / funil_por_grupo['product_page']\n",
    "funil_por_grupo['purchase_rate'] = funil_por_grupo['purchase'] / funil_por_grupo['product_cart']\n",
    "funil_por_grupo['total_conversion'] = funil_por_grupo['purchase'] / funil_por_grupo['product_page']\n",
    "print(funil_por_grupo)"
   ]
  },
  {
   "cell_type": "code",
   "execution_count": 45,
   "metadata": {},
   "outputs": [
    {
     "data": {
      "image/png": "[encoded data removed]",
      "text/plain": [
       "<Figure size 640x480 with 1 Axes>"
      ]
     },
     "metadata": {},
     "output_type": "display_data"
    }
   ],
   "source": [
    "#Análise da receita total por grupo:\n",
    "\n",
    "# Filtrar apenas os eventos de compra com valor de receita\n",
    "df_receita = df_merged_final[(df_merged_final['event_name'] == 'purchase') & (df_merged_final['details'].notna())]\n",
    "\n",
    "# Receita total por grupo\n",
    "receita_por_grupo = df_receita.groupby('group')['details'].sum().reset_index()\n",
    "\n",
    "# Visualizar\n",
    "sns.barplot(data=receita_por_grupo, x='group', y='details')\n",
    "plt.title('Receita total por grupo')\n",
    "plt.ylabel('Receita')\n",
    "plt.show()"
   ]
  },
  {
   "cell_type": "code",
   "execution_count": 46,
   "metadata": {},
   "outputs": [
    {
     "data": {
      "image/png": "[encoded data removed]",
      "text/plain": [
       "<Figure size 1200x500 with 1 Axes>"
      ]
     },
     "metadata": {},
     "output_type": "display_data"
    }
   ],
   "source": [
    "#Analisando eventos por dia em cada grupo:\n",
    "\n",
    "# Filtrar apenas os eventos do funil\n",
    "df_eventos_funil = df_merged_final[df_merged_final['event_name'].isin(etapas)]\n",
    "\n",
    "# Contar número de eventos por dia e por grupo\n",
    "eventos_por_dia = (\n",
    "    df_eventos_funil\n",
    "    .groupby(['event_date', 'group'])['user_id']\n",
    "    .count()\n",
    "    .reset_index(name='n_eventos')\n",
    ")\n",
    "\n",
    "# Visualizar linha do tempo de eventos\n",
    "plt.figure(figsize=(12, 5))\n",
    "sns.lineplot(data=eventos_por_dia, x='event_date', y='n_eventos', hue='group')\n",
    "plt.title('Número de eventos por dia em cada grupo')\n",
    "plt.ylabel('Número de eventos')\n",
    "plt.xlabel('Data')\n",
    "plt.xticks(rotation=45)\n",
    "plt.tight_layout()\n",
    "plt.show()"
   ]
  },
  {
   "cell_type": "code",
   "execution_count": 48,
   "metadata": {},
   "outputs": [
    {
     "name": "stdout",
     "output_type": "stream",
     "text": [
      "  group  ticket_medio\n",
      "0     A     23.848542\n",
      "1     B     23.374942\n"
     ]
    },
    {
     "data": {
      "image/png": "[encoded data removed]",
      "text/plain": [
       "<Figure size 640x480 with 1 Axes>"
      ]
     },
     "metadata": {},
     "output_type": "display_data"
    }
   ],
   "source": [
    "#Ticket médio por grupo:\n",
    "\n",
    "# Filtrar eventos de compra com receita válida\n",
    "df_compras = df_merged_final[(df_merged_final['event_name'] == 'purchase') & (df_merged_final['details'].notna())].copy()\n",
    "\n",
    "# Converter a coluna 'details' para numérico de forma segura\n",
    "df_compras['details'] = pd.to_numeric(df_compras['details'], errors='coerce')\n",
    "\n",
    "# Calcular o ticket médio por grupo\n",
    "ticket_medio_por_grupo = df_compras.groupby('group')['details'].mean().reset_index()\n",
    "ticket_medio_por_grupo.columns = ['group', 'ticket_medio']\n",
    "\n",
    "# Exibir resultado\n",
    "print(ticket_medio_por_grupo)\n",
    "\n",
    "# Visualizar\n",
    "sns.barplot(data=ticket_medio_por_grupo, x='group', y='ticket_medio')\n",
    "plt.title('Ticket médio por grupo')\n",
    "plt.ylabel('Ticket médio (receita média por compra)')\n",
    "plt.show()\n",
    "\n"
   ]
  },
  {
   "cell_type": "markdown",
   "metadata": {},
   "source": [
    "📌 Conclusões Gerais:\n",
    "\n",
    "\n",
    "- O grupo A possui receita maior de ticket médio que o grupo B. \n",
    "- O grupo A possui maior número de eventos por dia que o grupo B.\n",
    "\n",
    "O teste A/B mostrou que o grupo A teve uma receita média por compra superior (1,4 vs. 1,0) e um maior número de eventos por dia, indicando melhor desempenho em termos de valor gerado e engajamento dos usuários.\n",
    "\n",
    "Apesar disso, a taxa de conversão entre os grupos não apresentou diferença estatisticamente significativa, o que indica que a nova experiência testada no grupo B não trouxe ganhos claros. Diante desses resultados, a recomendação é manter a versão atual (grupo A) e buscar novas hipóteses para melhorar a performance."
   ]
  }
 ],
 "metadata": {
  "ExecuteTimeLog": [
   {
    "duration": 281,
    "start_time": "2025-05-09T14:06:25.608Z"
   },
   {
    "duration": 535,
    "start_time": "2025-05-09T14:07:59.637Z"
   },
   {
    "duration": 10,
    "start_time": "2025-05-09T14:08:22.453Z"
   },
   {
    "duration": 127,
    "start_time": "2025-05-09T14:12:25.314Z"
   },
   {
    "duration": 377,
    "start_time": "2025-05-09T14:12:41.412Z"
   },
   {
    "duration": 10,
    "start_time": "2025-05-09T14:45:11.576Z"
   },
   {
    "duration": 11,
    "start_time": "2025-05-09T14:45:37.696Z"
   },
   {
    "duration": 4,
    "start_time": "2025-05-09T14:51:11.528Z"
   },
   {
    "duration": 4,
    "start_time": "2025-05-09T14:51:51.456Z"
   },
   {
    "duration": 184,
    "start_time": "2025-05-09T15:41:48.812Z"
   },
   {
    "duration": 12,
    "start_time": "2025-05-09T15:42:02.146Z"
   },
   {
    "duration": 12,
    "start_time": "2025-05-09T15:43:09.603Z"
   },
   {
    "duration": 321,
    "start_time": "2025-05-09T15:43:12.018Z"
   },
   {
    "duration": 475,
    "start_time": "2025-05-09T15:43:14.035Z"
   },
   {
    "duration": 9,
    "start_time": "2025-05-09T15:43:16.937Z"
   },
   {
    "duration": 11,
    "start_time": "2025-05-09T15:43:19.803Z"
   },
   {
    "duration": 4,
    "start_time": "2025-05-09T15:43:26.131Z"
   },
   {
    "duration": 36,
    "start_time": "2025-05-09T15:43:32.397Z"
   },
   {
    "duration": 7,
    "start_time": "2025-05-09T15:43:51.949Z"
   },
   {
    "duration": 8,
    "start_time": "2025-05-09T15:44:05.819Z"
   },
   {
    "duration": 15,
    "start_time": "2025-05-09T15:44:22.410Z"
   },
   {
    "duration": 13,
    "start_time": "2025-05-09T15:44:43.947Z"
   },
   {
    "duration": 4,
    "start_time": "2025-05-09T15:44:49.202Z"
   },
   {
    "duration": 14,
    "start_time": "2025-05-09T15:52:24.924Z"
   },
   {
    "duration": 19,
    "start_time": "2025-05-09T15:52:37.167Z"
   },
   {
    "duration": 13,
    "start_time": "2025-05-09T15:57:12.160Z"
   },
   {
    "duration": 12,
    "start_time": "2025-05-09T15:57:23.036Z"
   },
   {
    "duration": 55,
    "start_time": "2025-05-09T15:58:45.771Z"
   },
   {
    "duration": 7,
    "start_time": "2025-05-09T15:59:03.254Z"
   },
   {
    "duration": 61,
    "start_time": "2025-05-09T16:00:32.593Z"
   },
   {
    "duration": 33,
    "start_time": "2025-05-09T16:04:35.563Z"
   },
   {
    "duration": 22,
    "start_time": "2025-05-09T16:04:49.670Z"
   },
   {
    "duration": 15,
    "start_time": "2025-05-09T16:05:05.295Z"
   },
   {
    "duration": 33,
    "start_time": "2025-05-09T16:05:15.491Z"
   },
   {
    "duration": 13,
    "start_time": "2025-05-09T16:05:42.151Z"
   },
   {
    "duration": 8,
    "start_time": "2025-05-09T16:06:28.560Z"
   },
   {
    "duration": 9,
    "start_time": "2025-05-09T16:06:36.600Z"
   },
   {
    "duration": 17,
    "start_time": "2025-05-09T16:07:13.787Z"
   },
   {
    "duration": 7,
    "start_time": "2025-05-09T16:07:27.535Z"
   },
   {
    "duration": 10,
    "start_time": "2025-05-09T16:19:58.091Z"
   },
   {
    "duration": 6,
    "start_time": "2025-05-09T16:20:57.243Z"
   },
   {
    "duration": 116,
    "start_time": "2025-05-09T16:25:53.324Z"
   },
   {
    "duration": 109,
    "start_time": "2025-05-09T16:26:09.653Z"
   },
   {
    "duration": 13,
    "start_time": "2025-05-09T16:26:12.636Z"
   },
   {
    "duration": 8,
    "start_time": "2025-05-09T16:26:24.621Z"
   },
   {
    "duration": 5,
    "start_time": "2025-05-09T16:26:27.551Z"
   },
   {
    "duration": 10,
    "start_time": "2025-05-09T16:27:26.627Z"
   },
   {
    "duration": 13,
    "start_time": "2025-05-09T16:27:34.399Z"
   },
   {
    "duration": 19,
    "start_time": "2025-05-09T16:27:54.371Z"
   },
   {
    "duration": 341,
    "start_time": "2025-05-09T19:16:18.623Z"
   },
   {
    "duration": 417,
    "start_time": "2025-05-09T19:16:18.966Z"
   },
   {
    "duration": 11,
    "start_time": "2025-05-09T19:16:19.385Z"
   },
   {
    "duration": 13,
    "start_time": "2025-05-09T19:16:19.399Z"
   },
   {
    "duration": 4,
    "start_time": "2025-05-09T19:16:19.415Z"
   },
   {
    "duration": 7,
    "start_time": "2025-05-09T19:16:19.421Z"
   },
   {
    "duration": 4,
    "start_time": "2025-05-09T19:16:19.430Z"
   },
   {
    "duration": 8,
    "start_time": "2025-05-09T19:16:19.436Z"
   },
   {
    "duration": 19,
    "start_time": "2025-05-09T19:16:19.446Z"
   },
   {
    "duration": 41,
    "start_time": "2025-05-09T19:16:19.468Z"
   },
   {
    "duration": 13,
    "start_time": "2025-05-09T19:16:19.511Z"
   },
   {
    "duration": 18,
    "start_time": "2025-05-09T19:16:19.526Z"
   },
   {
    "duration": 72,
    "start_time": "2025-05-09T19:16:19.546Z"
   },
   {
    "duration": 10,
    "start_time": "2025-05-09T19:16:19.619Z"
   },
   {
    "duration": 110,
    "start_time": "2025-05-09T19:16:19.630Z"
   },
   {
    "duration": 32,
    "start_time": "2025-05-09T19:16:19.742Z"
   },
   {
    "duration": 32,
    "start_time": "2025-05-09T19:16:19.777Z"
   },
   {
    "duration": 12,
    "start_time": "2025-05-09T19:16:19.811Z"
   },
   {
    "duration": 7,
    "start_time": "2025-05-09T19:16:19.825Z"
   },
   {
    "duration": 184,
    "start_time": "2025-05-09T19:16:19.835Z"
   },
   {
    "duration": 18,
    "start_time": "2025-05-09T19:16:20.021Z"
   },
   {
    "duration": 7,
    "start_time": "2025-05-09T19:16:20.040Z"
   },
   {
    "duration": 11,
    "start_time": "2025-05-09T19:16:20.049Z"
   },
   {
    "duration": 16,
    "start_time": "2025-05-09T19:16:20.062Z"
   },
   {
    "duration": 5,
    "start_time": "2025-05-09T19:18:35.073Z"
   },
   {
    "duration": 3,
    "start_time": "2025-05-09T19:18:52.553Z"
   },
   {
    "duration": 8,
    "start_time": "2025-05-09T19:18:55.922Z"
   },
   {
    "duration": 8,
    "start_time": "2025-05-09T19:19:12.284Z"
   },
   {
    "duration": 2,
    "start_time": "2025-05-09T19:19:21.393Z"
   },
   {
    "duration": 329,
    "start_time": "2025-05-09T19:19:22.424Z"
   },
   {
    "duration": 8,
    "start_time": "2025-05-09T19:19:25.911Z"
   },
   {
    "duration": 9,
    "start_time": "2025-05-09T19:19:27.626Z"
   },
   {
    "duration": 7,
    "start_time": "2025-05-09T19:19:51.986Z"
   },
   {
    "duration": 7,
    "start_time": "2025-05-09T19:19:53.354Z"
   },
   {
    "duration": 3,
    "start_time": "2025-05-09T19:19:58.163Z"
   },
   {
    "duration": 8,
    "start_time": "2025-05-09T19:20:00.051Z"
   },
   {
    "duration": 13,
    "start_time": "2025-05-09T19:21:51.282Z"
   },
   {
    "duration": 9,
    "start_time": "2025-05-09T19:21:59.458Z"
   },
   {
    "duration": 7,
    "start_time": "2025-05-09T19:22:13.964Z"
   },
   {
    "duration": 12,
    "start_time": "2025-05-09T19:24:24.946Z"
   },
   {
    "duration": 9,
    "start_time": "2025-05-09T19:26:58.960Z"
   },
   {
    "duration": 43,
    "start_time": "2025-05-09T19:28:13.371Z"
   },
   {
    "duration": 26,
    "start_time": "2025-05-09T19:29:03.900Z"
   },
   {
    "duration": 32,
    "start_time": "2025-05-09T19:29:42.563Z"
   },
   {
    "duration": 40,
    "start_time": "2025-05-09T19:33:24.933Z"
   },
   {
    "duration": 43,
    "start_time": "2025-05-09T19:33:42.484Z"
   },
   {
    "duration": 7,
    "start_time": "2025-05-09T19:33:49.588Z"
   },
   {
    "duration": 6,
    "start_time": "2025-05-09T19:38:01.441Z"
   },
   {
    "duration": 9,
    "start_time": "2025-05-09T19:40:32.330Z"
   },
   {
    "duration": 16,
    "start_time": "2025-05-09T19:46:39.527Z"
   },
   {
    "duration": 9,
    "start_time": "2025-05-09T19:46:49.239Z"
   },
   {
    "duration": 6,
    "start_time": "2025-05-09T19:47:03.458Z"
   },
   {
    "duration": 5,
    "start_time": "2025-05-09T19:47:29.363Z"
   },
   {
    "duration": 9,
    "start_time": "2025-05-09T19:48:21.612Z"
   },
   {
    "duration": 5,
    "start_time": "2025-05-09T19:48:26.658Z"
   },
   {
    "duration": 10,
    "start_time": "2025-05-09T19:48:29.696Z"
   },
   {
    "duration": 17,
    "start_time": "2025-05-09T19:48:34.849Z"
   },
   {
    "duration": 9,
    "start_time": "2025-05-09T19:48:42.773Z"
   },
   {
    "duration": 5,
    "start_time": "2025-05-09T19:48:50.220Z"
   },
   {
    "duration": 157,
    "start_time": "2025-05-09T20:00:54.188Z"
   },
   {
    "duration": 118,
    "start_time": "2025-05-09T20:01:44.075Z"
   },
   {
    "duration": 9,
    "start_time": "2025-05-09T20:02:08.414Z"
   },
   {
    "duration": 38,
    "start_time": "2025-05-09T20:10:57.784Z"
   },
   {
    "duration": 26,
    "start_time": "2025-05-09T20:11:25.161Z"
   },
   {
    "duration": 9,
    "start_time": "2025-05-09T20:11:28.963Z"
   },
   {
    "duration": 87,
    "start_time": "2025-05-09T20:14:40.953Z"
   },
   {
    "duration": 7,
    "start_time": "2025-05-09T20:14:56.960Z"
   },
   {
    "duration": 2256,
    "start_time": "2025-05-09T20:27:30.398Z"
   },
   {
    "duration": 225,
    "start_time": "2025-05-09T20:27:57.554Z"
   },
   {
    "duration": 609,
    "start_time": "2025-05-09T20:29:03.502Z"
   },
   {
    "duration": 43,
    "start_time": "2025-05-09T20:29:20.598Z"
   },
   {
    "duration": 2611,
    "start_time": "2025-05-10T11:10:50.094Z"
   },
   {
    "duration": 408,
    "start_time": "2025-05-10T11:10:52.708Z"
   },
   {
    "duration": 10,
    "start_time": "2025-05-10T11:10:53.118Z"
   },
   {
    "duration": 5,
    "start_time": "2025-05-10T11:10:53.130Z"
   },
   {
    "duration": 7,
    "start_time": "2025-05-10T11:10:53.138Z"
   },
   {
    "duration": 4,
    "start_time": "2025-05-10T11:10:53.147Z"
   },
   {
    "duration": 3,
    "start_time": "2025-05-10T11:10:53.153Z"
   },
   {
    "duration": 4,
    "start_time": "2025-05-10T11:10:53.159Z"
   },
   {
    "duration": 8,
    "start_time": "2025-05-10T11:10:53.164Z"
   },
   {
    "duration": 51,
    "start_time": "2025-05-10T11:10:53.173Z"
   },
   {
    "duration": 10,
    "start_time": "2025-05-10T11:10:53.226Z"
   },
   {
    "duration": 9,
    "start_time": "2025-05-10T11:10:53.238Z"
   },
   {
    "duration": 7,
    "start_time": "2025-05-10T11:10:53.249Z"
   },
   {
    "duration": 7,
    "start_time": "2025-05-10T11:10:53.259Z"
   },
   {
    "duration": 12,
    "start_time": "2025-05-10T11:10:53.268Z"
   },
   {
    "duration": 78,
    "start_time": "2025-05-10T11:10:53.282Z"
   },
   {
    "duration": 38,
    "start_time": "2025-05-10T11:10:53.362Z"
   },
   {
    "duration": 22,
    "start_time": "2025-05-10T11:10:53.402Z"
   },
   {
    "duration": 59,
    "start_time": "2025-05-10T11:10:53.426Z"
   },
   {
    "duration": 20,
    "start_time": "2025-05-10T11:10:53.486Z"
   },
   {
    "duration": 31,
    "start_time": "2025-05-10T11:10:53.508Z"
   },
   {
    "duration": 6,
    "start_time": "2025-05-10T11:10:53.541Z"
   },
   {
    "duration": 214,
    "start_time": "2025-05-10T11:11:31.991Z"
   },
   {
    "duration": 6,
    "start_time": "2025-05-10T11:11:39.410Z"
   },
   {
    "duration": 11,
    "start_time": "2025-05-10T11:12:20.624Z"
   },
   {
    "duration": 4,
    "start_time": "2025-05-10T11:13:16.749Z"
   },
   {
    "duration": 19,
    "start_time": "2025-05-10T11:13:23.041Z"
   },
   {
    "duration": 16,
    "start_time": "2025-05-10T11:13:45.921Z"
   },
   {
    "duration": 3,
    "start_time": "2025-05-10T11:18:28.607Z"
   },
   {
    "duration": 340,
    "start_time": "2025-05-10T11:18:28.612Z"
   },
   {
    "duration": 9,
    "start_time": "2025-05-10T11:18:28.953Z"
   },
   {
    "duration": 7,
    "start_time": "2025-05-10T11:18:28.963Z"
   },
   {
    "duration": 6,
    "start_time": "2025-05-10T11:18:28.973Z"
   },
   {
    "duration": 4,
    "start_time": "2025-05-10T11:18:28.981Z"
   },
   {
    "duration": 4,
    "start_time": "2025-05-10T11:18:28.987Z"
   },
   {
    "duration": 31,
    "start_time": "2025-05-10T11:18:28.993Z"
   },
   {
    "duration": 7,
    "start_time": "2025-05-10T11:18:29.027Z"
   },
   {
    "duration": 13,
    "start_time": "2025-05-10T11:18:29.035Z"
   },
   {
    "duration": 10,
    "start_time": "2025-05-10T11:18:29.049Z"
   },
   {
    "duration": 8,
    "start_time": "2025-05-10T11:18:29.060Z"
   },
   {
    "duration": 7,
    "start_time": "2025-05-10T11:18:29.070Z"
   },
   {
    "duration": 7,
    "start_time": "2025-05-10T11:18:29.081Z"
   },
   {
    "duration": 14,
    "start_time": "2025-05-10T11:18:29.124Z"
   },
   {
    "duration": 40,
    "start_time": "2025-05-10T11:18:29.140Z"
   },
   {
    "duration": 51,
    "start_time": "2025-05-10T11:18:29.182Z"
   },
   {
    "duration": 7,
    "start_time": "2025-05-10T11:18:29.236Z"
   },
   {
    "duration": 59,
    "start_time": "2025-05-10T11:18:29.245Z"
   },
   {
    "duration": 35,
    "start_time": "2025-05-10T11:18:29.306Z"
   },
   {
    "duration": 11,
    "start_time": "2025-05-10T11:18:29.342Z"
   },
   {
    "duration": 7,
    "start_time": "2025-05-10T11:18:29.354Z"
   },
   {
    "duration": 9,
    "start_time": "2025-05-10T11:18:29.363Z"
   },
   {
    "duration": 9,
    "start_time": "2025-05-10T11:18:29.373Z"
   },
   {
    "duration": 44,
    "start_time": "2025-05-10T11:18:29.384Z"
   },
   {
    "duration": 131,
    "start_time": "2025-05-10T11:18:29.430Z"
   },
   {
    "duration": 8,
    "start_time": "2025-05-10T11:18:29.563Z"
   },
   {
    "duration": 93,
    "start_time": "2025-05-10T11:18:29.573Z"
   },
   {
    "duration": 17,
    "start_time": "2025-05-10T11:18:29.668Z"
   },
   {
    "duration": 0,
    "start_time": "2025-05-10T11:18:29.686Z"
   },
   {
    "duration": 0,
    "start_time": "2025-05-10T11:18:29.687Z"
   }
  ],
  "kernelspec": {
   "display_name": "Python 3 (ipykernel)",
   "language": "python",
   "name": "python3"
  },
  "language_info": {
   "codemirror_mode": {
    "name": "ipython",
    "version": 3
   },
   "file_extension": ".py",
   "mimetype": "text/x-python",
   "name": "python",
   "nbconvert_exporter": "python",
   "pygments_lexer": "ipython3",
   "version": "3.9.22"
  },
  "toc": {
   "base_numbering": 1,
   "nav_menu": {},
   "number_sections": true,
   "sideBar": true,
   "skip_h1_title": true,
   "title_cell": "Table of Contents",
   "title_sidebar": "Contents",
   "toc_cell": false,
   "toc_position": {},
   "toc_section_display": true,
   "toc_window_display": false
  }
 },
 "nbformat": 4,
 "nbformat_minor": 4
}
