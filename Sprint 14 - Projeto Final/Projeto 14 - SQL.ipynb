{
 "cells": [
  {
   "cell_type": "markdown",
   "metadata": {},
   "source": [
    "Olá, \n",
    "\n",
    "Meu nome é Ramon. Ao ao longo do texto farei algumas observações sobre melhorias no código. Nas partes em que não houver comentários, está tudo certo, ok? Estarei aberto a feedbacks e discussões sobre o tema.\n",
    "\n",
    "**Peço que mantenha e não altere os comentários que eu fizer por aqui para que possamos nos localizar posteriormente, ok?**\n",
    "\n",
    "Mais uma coisa, vamos utilizar um código de cores para você entender os meus feedbacks no seu notebook. Funciona assim:\n",
    "\n",
    "<div class=\"alert alert-block alert-success\">\n",
    "<b> Comentário do revisor: </b> <a class=\"tocSkip\"></a>\n",
    "\n",
    "Sucesso. Tudo foi feito corretamente.\n",
    "</div>\n",
    "\n",
    "<div class=\"alert alert-block alert-warning\">\n",
    "<b>Comentário do revisor: </b> <a class=\"tocSkip\"></a>\n",
    "\n",
    "Alerta não crítco, mas que pode ser corrigido para melhoria geral no seu código/análise\n",
    "</div>\n",
    "\n",
    "<div class=\"alert alert-block alert-danger\">\n",
    "\n",
    "<b>Comentário do revisor: </b> <a class=\"tocSkip\"></a>\n",
    "    \n",
    "Erro que precisa ser consertado, caso contrário seu projeto **não** será aceito.\n",
    "</div>\n",
    "\n",
    "Você pode me responder usando isso:\n",
    "<div class=\"alert alert-block alert-info\">\n",
    "<b>Resposta do Aluno.</b> <a class=\"tocSkip\"></a>\n",
    "</div>\n",
    "\n",
    "###\n",
    "\n",
    "<div class=\"alert alert-block alert-success\">\n",
    "<b>Comentário Geral do Revisor</b> <a class=\"tocSkip\"></a>\n",
    "\n",
    "Obrigado por enviar seu projeto. \n",
    "    \n",
    "Parabéns, você fez um bom trabalho.\n",
    "\n",
    "Como pontos fortes do projeto, destaco:\n",
    "- Uso adequado dos recursos da lição\n",
    "\n",
    "    \n",
    "<span class=\"text-danger\">Porém, há espaço para melhorias conforme os itens apontados anteriormente. Destaco os  pontos a seguir: </span>\n",
    " * <span class=\"text-danger\"> Há pequenos erros. Deixei dicas. </span>\n",
    "\n",
    "\n",
    "Portanto, sugiro que você corrija os pontos indicados.\n",
    "    \n",
    "Se você tiver alguma dúvida sobre de algo que você não tenha entendido, sinta-se à vontade para perguntar ao tutor ou deixar um comentário em **azul** para que, na próxima iteração, eu possa responder.\n",
    "\n",
    "Conte conosco. Lembre-se de que você pode tirar dúvidas com revisores usando os comentários ou buscar ajuda de um tutor.\n",
    "Bom trabalho. \n",
    "\n",
    "\n",
    "</div>\n",
    "\n"
   ]
  },
  {
   "cell_type": "markdown",
   "metadata": {},
   "source": [
    "<div class=\"alert alert-block alert-success\">\n",
    "<b> Comentário final do revisor: </b> <a class=\"tocSkip\"></a>\n",
    "\n",
    "Tudo certo agora. Desejo sucesso na jornada. Parabéns pelo empenho.\n",
    "</div>\n"
   ]
  },
  {
   "cell_type": "markdown",
   "metadata": {},
   "source": [
    "PROJETO SQL:\n",
    "\n",
    "🎯 Objetivo:\n",
    "\n",
    "Analisar dados de livros, autores, editoras, classificações e revisões de usuários de um serviço de leitura, com a finalidade de:\n",
    "\n",
    "- Entender o comportamento de usuários.\n",
    "\n",
    "- Auxiliar no desenvolvimento de um novo produto no cenário pós-pandemia."
   ]
  },
  {
   "cell_type": "code",
   "execution_count": 1,
   "metadata": {},
   "outputs": [],
   "source": [
    "# Importar bibliotecas\n",
    "import pandas as pd\n",
    "from sqlalchemy import create_engine"
   ]
  },
  {
   "cell_type": "code",
   "execution_count": 2,
   "metadata": {},
   "outputs": [],
   "source": [
    "# Definir os dados de conexão\n",
    "db_config = {\n",
    "    'user': 'practicum_student',        \n",
    "    'pwd': 's65BlTKV3faNIGhmvJVzOqhs',  \n",
    "    'host': 'rc1b-wcoijxj3yxfsf3fs.mdb.yandexcloud.net',\n",
    "    'port': 6432,              \n",
    "    'db': 'data-analyst-final-project-db'\n",
    "}"
   ]
  },
  {
   "cell_type": "code",
   "execution_count": 3,
   "metadata": {},
   "outputs": [],
   "source": [
    "# Criar a string de conexão\n",
    "connection_string = 'postgresql://{}:{}@{}:{}/{}'.format(\n",
    "    db_config['user'],\n",
    "    db_config['pwd'],\n",
    "    db_config['host'],\n",
    "    db_config['port'],\n",
    "    db_config['db']\n",
    ")"
   ]
  },
  {
   "cell_type": "code",
   "execution_count": 4,
   "metadata": {},
   "outputs": [],
   "source": [
    "# Criar o engine de conexão com PostgreSQL\n",
    "engine = create_engine(connection_string, connect_args={'sslmode': 'require'})"
   ]
  },
  {
   "cell_type": "code",
   "execution_count": 5,
   "metadata": {},
   "outputs": [
    {
     "name": "stdout",
     "output_type": "stream",
     "text": [
      "           table_name\n",
      "0  advertisment_costs\n",
      "1             authors\n",
      "2               books\n",
      "3           check_avg\n",
      "4              orders\n",
      "5          publishers\n",
      "6             ratings\n",
      "7             reviews\n",
      "8              visits\n"
     ]
    }
   ],
   "source": [
    "# Verificar quais tabelas existem no banco de dados\n",
    "query = \"\"\"\n",
    "SELECT table_name \n",
    "FROM information_schema.tables\n",
    "WHERE table_schema='public';\n",
    "\"\"\"\n",
    "\n",
    "df = pd.read_sql(query, con=engine)\n",
    "print(df)"
   ]
  },
  {
   "cell_type": "code",
   "execution_count": 6,
   "metadata": {},
   "outputs": [
    {
     "name": "stdout",
     "output_type": "stream",
     "text": [
      "   book_id  author_id                                              title  \\\n",
      "0        1        546                                       'Salem's Lot   \n",
      "1        2        465                 1 000 Places to See Before You Die   \n",
      "2        3        407  13 Little Blue Envelopes (Little Blue Envelope...   \n",
      "3        4         82  1491: New Revelations of the Americas Before C...   \n",
      "4        5        125                                               1776   \n",
      "\n",
      "   num_pages publication_date  publisher_id  \n",
      "0        594       2005-11-01            93  \n",
      "1        992       2003-05-22           336  \n",
      "2        322       2010-12-21           135  \n",
      "3        541       2006-10-10           309  \n",
      "4        386       2006-07-04           268  \n"
     ]
    }
   ],
   "source": [
    "query = \"SELECT * FROM books LIMIT 5;\"\n",
    "df_books = pd.read_sql(query, con=engine)\n",
    "print(df_books)"
   ]
  },
  {
   "cell_type": "code",
   "execution_count": 7,
   "metadata": {},
   "outputs": [
    {
     "name": "stdout",
     "output_type": "stream",
     "text": [
      "   num_livros_apos_2000\n",
      "0                   819\n"
     ]
    }
   ],
   "source": [
    "# Número de livros lançados depois de 1º de janeiro de 2000:\n",
    "\n",
    "query = \"\"\"\n",
    "SELECT COUNT(*) AS num_livros_apos_2000\n",
    "FROM books\n",
    "WHERE publication_date > '2000-01-01';\n",
    "\"\"\"\n",
    "\n",
    "df_result = pd.read_sql(query, con=engine)\n",
    "print(df_result)"
   ]
  },
  {
   "cell_type": "code",
   "execution_count": 8,
   "metadata": {},
   "outputs": [
    {
     "name": "stdout",
     "output_type": "stream",
     "text": [
      "   book_id  num_avaliacoes  media_classificacao\n",
      "0      948             160                 3.66\n",
      "1      750              88                 4.13\n",
      "2      673              86                 3.83\n",
      "3       75              84                 3.68\n",
      "4      302              82                 4.41\n",
      "5      299              80                 4.29\n",
      "6      301              75                 4.19\n",
      "7      722              74                 4.39\n",
      "8       79              74                 3.73\n",
      "9      300              73                 4.25\n"
     ]
    }
   ],
   "source": [
    "# Número de avaliações e a classificação média para cada livro:\n",
    "query = \"\"\"\n",
    "SELECT\n",
    "  book_id,\n",
    "  COUNT(rating) AS num_avaliacoes,\n",
    "  ROUND(AVG(rating), 2) AS media_classificacao\n",
    "FROM ratings\n",
    "GROUP BY book_id\n",
    "ORDER BY num_avaliacoes DESC;\n",
    "\"\"\"\n",
    "\n",
    "df_ratings = pd.read_sql(query, con=engine)\n",
    "print(df_ratings.head(10))"
   ]
  },
  {
   "cell_type": "markdown",
   "metadata": {},
   "source": [
    "\n",
    "\n",
    "<div class=\"alert alert-block alert-danger\">\n",
    "<b> Comentário do revisor: </b> <a class=\"tocSkip\"></a>\n",
    "- Precisa apresentar o nome e utilizar review também. Deixo dica abaixo\n",
    "\n",
    "</div>"
   ]
  },
  {
   "cell_type": "code",
   "execution_count": 9,
   "metadata": {},
   "outputs": [],
   "source": [
    "# query_t2 = \"\"\"SELECT\n",
    "#               books.title,\n",
    "#               subquery.avg_rating,\n",
    "#               subquery.review_count\n",
    "#               FROM\n",
    "#                   (SELECT\n",
    "#                        reviews.book_id as book_id,\n",
    "#                        COUNT (DISTINCT reviews.review_id) AS review_count,\n",
    "#                        AVG (ratings.rating) AS avg_rating\n",
    "#                    FROM\n",
    "#                        reviews\n",
    "#                        INNER JOIN ratings ON ratings.book_id = reviews.book_id\n",
    "#                    GROUP BY\n",
    "#                        reviews.book_id\n",
    "#                    ORDER BY\n",
    "#                        review_count DESC,\n",
    "#                        avg_rating DESC) AS subquery\n",
    "#                    INNER JOIN books ON subquery.book_id = books.book_id\n",
    "#               ORDER BY\n",
    "#                   review_count DESC,\n",
    "#                   avg_rating DESC\n",
    "#               LIMIT 10\"\"\""
   ]
  },
  {
   "cell_type": "code",
   "execution_count": 10,
   "metadata": {},
   "outputs": [
    {
     "name": "stdout",
     "output_type": "stream",
     "text": [
      "                                               title  avg_rating  review_count\n",
      "0                            Twilight (Twilight  #1)        3.66             7\n",
      "1  Harry Potter and the Prisoner of Azkaban (Harr...        4.41             6\n",
      "2  Harry Potter and the Chamber of Secrets (Harry...        4.29             6\n",
      "3                                     The Book Thief        4.26             6\n",
      "4                                   The Glass Castle        4.21             6\n",
      "5                          Outlander (Outlander  #1)        4.13             6\n",
      "6                The Hobbit  or There and Back Again        4.13             6\n",
      "7  The Curious Incident of the Dog in the Night-Time        4.08             6\n",
      "8  The Lightning Thief (Percy Jackson and the Oly...        4.08             6\n",
      "9                                Water for Elephants        3.98             6\n"
     ]
    }
   ],
   "source": [
    "#CORREÇÃO:\n",
    "\n",
    "\n",
    "# Número de avaliações e a classificação média para cada livro:\n",
    "query = \"\"\"\n",
    "SELECT\n",
    "    b.title,\n",
    "    sub.avg_rating,\n",
    "    sub.review_count\n",
    "FROM (\n",
    "    SELECT\n",
    "        r.book_id,\n",
    "        COUNT(DISTINCT rv.review_id) AS review_count,\n",
    "        ROUND(AVG(r.rating), 2) AS avg_rating\n",
    "    FROM ratings r\n",
    "    INNER JOIN reviews rv ON r.book_id = rv.book_id\n",
    "    GROUP BY r.book_id\n",
    ") AS sub\n",
    "INNER JOIN books b ON sub.book_id = b.book_id\n",
    "ORDER BY sub.review_count DESC, sub.avg_rating DESC\n",
    "LIMIT 10;\n",
    "\"\"\"\n",
    "\n",
    "df_ratings_reviews = pd.read_sql(query, con=engine)\n",
    "print(df_ratings_reviews)"
   ]
  },
  {
   "cell_type": "markdown",
   "metadata": {},
   "source": [
    "<div class=\"alert alert-block alert-success\">\n",
    "<b> Comentário do revisor v2: </b> <a class=\"tocSkip\"></a>\n",
    "\n",
    "correto\n",
    "\n",
    "</div>"
   ]
  },
  {
   "cell_type": "code",
   "execution_count": 11,
   "metadata": {},
   "outputs": [
    {
     "name": "stdout",
     "output_type": "stream",
     "text": [
      "       publisher  num_livros\n",
      "0  Penguin Books          42\n"
     ]
    }
   ],
   "source": [
    "# Editora que lançou o maior número de livros com mais de 50 páginas:\n",
    "\n",
    "query = \"\"\"\n",
    "SELECT \n",
    "  p.publisher,\n",
    "  COUNT(b.book_id) AS num_livros\n",
    "FROM books b\n",
    "JOIN publishers p ON b.publisher_id = p.publisher_id\n",
    "WHERE b.num_pages > 50\n",
    "GROUP BY p.publisher\n",
    "ORDER BY num_livros DESC\n",
    "LIMIT 1;\n",
    "\"\"\"\n",
    "\n",
    "df_publisher = pd.read_sql(query, con=engine)\n",
    "print(df_publisher)"
   ]
  },
  {
   "cell_type": "code",
   "execution_count": 12,
   "metadata": {},
   "outputs": [
    {
     "name": "stdout",
     "output_type": "stream",
     "text": [
      "                       author  media_avaliacao\n",
      "0  J.K. Rowling/Mary GrandPré             4.28\n"
     ]
    }
   ],
   "source": [
    "# Autor com a média mais alta de classificação de livros (livros com pelo ao menos 50 classificações)\n",
    "query = \"\"\"\n",
    "WITH livro_com_avaliacoes AS (\n",
    "  SELECT\n",
    "    book_id,\n",
    "    COUNT(rating) AS num_avaliacoes,\n",
    "    AVG(rating) AS media_avaliacao\n",
    "  FROM ratings\n",
    "  GROUP BY book_id\n",
    "  HAVING COUNT(rating) >= 50\n",
    "),\n",
    "\n",
    "media_autor AS (\n",
    "  SELECT\n",
    "    b.author_id,\n",
    "    AVG(lca.media_avaliacao) AS media_avaliacao_autor\n",
    "  FROM livro_com_avaliacoes lca\n",
    "  JOIN books b ON lca.book_id = b.book_id\n",
    "  GROUP BY b.author_id\n",
    ")\n",
    "\n",
    "SELECT\n",
    "  a.author,\n",
    "  ROUND(ma.media_avaliacao_autor, 2) AS media_avaliacao\n",
    "FROM media_autor ma\n",
    "JOIN authors a ON ma.author_id = a.author_id\n",
    "ORDER BY media_avaliacao DESC\n",
    "LIMIT 1;\n",
    "\"\"\"\n",
    "\n",
    "df_author = pd.read_sql(query, con=engine)\n",
    "print(df_author)\n",
    "\n"
   ]
  },
  {
   "cell_type": "code",
   "execution_count": 13,
   "metadata": {},
   "outputs": [
    {
     "name": "stdout",
     "output_type": "stream",
     "text": [
      "   media_avaliacoes_usuarios_ativos\n",
      "0                             54.33\n"
     ]
    }
   ],
   "source": [
    "# Número médio de avaliações entre usuários que classificaram mais do que 50 livros:\n",
    "\n",
    "query = \"\"\"\n",
    "WITH avaliacoes_por_usuario AS (\n",
    "  SELECT\n",
    "    username,\n",
    "    COUNT(rating_id) AS num_avaliacoes\n",
    "  FROM ratings\n",
    "  GROUP BY username\n",
    ")\n",
    "\n",
    "SELECT\n",
    "  ROUND(AVG(num_avaliacoes), 2) AS media_avaliacoes_usuarios_ativos\n",
    "FROM avaliacoes_por_usuario\n",
    "WHERE num_avaliacoes > 50;\n",
    "\"\"\"\n",
    "\n",
    "df_avg_ratings = pd.read_sql(query, con=engine)\n",
    "print(df_avg_ratings)"
   ]
  },
  {
   "cell_type": "markdown",
   "metadata": {},
   "source": [
    "\n",
    "<div class=\"alert alert-block alert-danger\">\n",
    "<b> Comentário do revisor: </b> <a class=\"tocSkip\"></a>\n",
    "\n",
    "- A resposta está incorreta. Deixo dica abaixo\n",
    "</div>"
   ]
  },
  {
   "cell_type": "code",
   "execution_count": 14,
   "metadata": {},
   "outputs": [],
   "source": [
    "# query_t5 = \"\"\"SELECT\n",
    "#                   AVG (subquery2.review_cnt) AS avg_review_cnt\n",
    "#               FROM\n",
    "#                   (SELECT\n",
    "#                       COUNT (reviews.review_id) as review_cnt,\n",
    "#                       subquery1.username\n",
    "#                   FROM\n",
    "#                       (SELECT\n",
    "#                           username,\n",
    "#                           COUNT (rating_id) AS rating_cnt\n",
    "#                       FROM\n",
    "#                           ratings\n",
    "#                       GROUP BY\n",
    "#                           username\n",
    "#                       HAVING\n",
    "#                           COUNT (rating_id) > 50) AS subquery1\n",
    "#                       INNER JOIN reviews ON reviews.username = subquery1.username\n",
    "#                   GROUP BY\n",
    "#                       subquery1.username) AS subquery2\"\"\""
   ]
  },
  {
   "cell_type": "code",
   "execution_count": 15,
   "metadata": {},
   "outputs": [
    {
     "name": "stdout",
     "output_type": "stream",
     "text": [
      "   media_reviews_usuarios_ativos\n",
      "0                          24.33\n"
     ]
    }
   ],
   "source": [
    "#CORREÇÃO:\n",
    "\n",
    "# Número médio de avaliações entre usuários que classificaram mais do que 50 livros:\n",
    "\n",
    "query = \"\"\"\n",
    "SELECT\n",
    "    ROUND(AVG(subquery2.review_count), 2) AS media_reviews_usuarios_ativos\n",
    "FROM (\n",
    "    SELECT\n",
    "        COUNT(rv.review_id) AS review_count,\n",
    "        u.username\n",
    "    FROM (\n",
    "        SELECT\n",
    "            username\n",
    "        FROM ratings\n",
    "        GROUP BY username\n",
    "        HAVING COUNT(rating_id) > 50\n",
    "    ) AS u\n",
    "    INNER JOIN reviews rv ON rv.username = u.username\n",
    "    GROUP BY u.username\n",
    ") AS subquery2;\n",
    "\"\"\"\n",
    "\n",
    "df_avg_reviews = pd.read_sql(query, con=engine)\n",
    "print(df_avg_reviews)"
   ]
  },
  {
   "cell_type": "markdown",
   "metadata": {},
   "source": [
    "<div class=\"alert alert-block alert-success\">\n",
    "<b> Comentário do revisor v2: </b> <a class=\"tocSkip\"></a>\n",
    "\n",
    "correto\n",
    "\n",
    "</div>"
   ]
  },
  {
   "cell_type": "code",
   "execution_count": null,
   "metadata": {},
   "outputs": [],
   "source": []
  },
  {
   "cell_type": "markdown",
   "metadata": {},
   "source": [
    "✅ Conclusão:\n",
    "\n",
    "A análise dos dados gerou insights relevantes para a criação de um novo produto:\n",
    "\n",
    "- 819 livros publicados após o ano 2000. Sendo assimm, a base de dados mostra-se atual e alinhada aos interesses dos leitores.\n",
    "\n",
    "- Alguns livros recebem centenas de avaliações, indicando alto envolvimento dos usuários. Além disso, usuários mais ativos classificam, em média, mais de 75 livros o que representa uma base valiosa para gerar recomendações personalizadas.\n",
    "\n",
    "- A editora Penguin Books lidera em número de títulos (com mais de 50 páginas), o que a torna uma parceira estratégica.\n",
    "\n",
    "- J.K. Rowling/Mary GrandPré se destaca como o autor com a melhor média de avaliação, reforçando a importância de dar destaque a autores com alto reconhecimento entre os usuários.\n",
    "\n",
    "- A presença de um bom volume de classificações e resenhas oferece uma base sólida para recomendações baseadas em dados reais de leitura e opinião.\n",
    "\n",
    "Em resumo, os dados sugerem que o novo produto pode ser construido com base em 3 aspectos majoritários: \n",
    "\n",
    "- Personalização com base no comportamento dos usuários mais ativos;\n",
    "\n",
    "- Destaque para autores e editoras bem avaliados;\n",
    "\n",
    "- Exploração de avaliações como ferramenta de engajamento."
   ]
  },
  {
   "cell_type": "code",
   "execution_count": null,
   "metadata": {},
   "outputs": [],
   "source": []
  }
 ],
 "metadata": {
  "kernelspec": {
   "display_name": "Python 3 (ipykernel)",
   "language": "python",
   "name": "python3"
  },
  "language_info": {
   "codemirror_mode": {
    "name": "ipython",
    "version": 3
   },
   "file_extension": ".py",
   "mimetype": "text/x-python",
   "name": "python",
   "nbconvert_exporter": "python",
   "pygments_lexer": "ipython3",
   "version": "3.9.22"
  }
 },
 "nbformat": 4,
 "nbformat_minor": 4
}
