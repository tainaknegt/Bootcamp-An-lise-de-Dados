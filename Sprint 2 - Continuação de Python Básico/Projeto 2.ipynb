{
 "cells": [
  {
   "cell_type": "markdown",
   "metadata": {
    "id": "fhq_eyov_Zcs"
   },
   "source": [
    "# Conteúdo <a id='back'></a>\n",
    "\n",
    "* [Introdução](#intro)\n",
    "* [Etapa 1. Visão geral dos dados](#data_review)\n",
    "    * [Conclusões](#data_review_conclusions)\n",
    "* [Etapa 2. Pré-processamento de dados](#data_preprocessing)\n",
    "    * [2.1 Estilo do cabeçalho](#header_style)\n",
    "    * [2.2 Valores ausentes](#missing_values)\n",
    "    * [2.3 Duplicados](#duplicates)\n",
    "    * [2.4 Conclusões](#data_preprocessing_conclusions)\n",
    "* [Etapa 3. Teste da hipótese](#hypothesis)\n",
    "    * [3.1 Hipótese 1: atividade dos usuários nas duas cidades](#activity)\n",
    "* [Conclusões](#end)"
   ]
  },
  {
   "cell_type": "markdown",
   "metadata": {
    "id": "VUC88oWjTJw2"
   },
   "source": [
    "## Introdução <a id='intro'></a>\n",
    "O trabalho de um analista é analisar dados para obter percepções valiosas dos dados e tomar decisões fundamentadas neles. Esse processo consiste em várias etapas, como visão geral dos dados, pré-processamento dos dados e testes de hipóteses.\n",
    "\n",
    "Sempre que fazemos uma pesquisa, precisamos formular uma hipótese que depois poderemos testar. Às vezes nós aceitamos essas hipóteses; outras vezes, nós as rejeitamos. Para fazer as escolhas certas, um negócio deve ser capaz de entender se está fazendo as suposições certas ou não.\n",
    "\n",
    "Neste projeto, você vai comparar as preferências musicais dos habitantes de Springfild e Shelbyville. Você vai estudar os dados de um serviço de streaming de música online para testar a hipótese apresentada abaixo e comparar o comportamento dos usuários dessas duas cidades.\n",
    "\n",
    "### Objetivo:\n",
    "Teste a hipótese:\n",
    "1. A atividade dos usuários é diferente dependendo do dia da semana e da cidade.\n",
    "\n",
    "\n",
    "### Etapas\n",
    "Os dados sobre o comportamento do usuário são armazenados no arquivo `/datasets/music_project_en.csv`. Não há informações sobre a qualidade dos dados, então será necessário examiná-los antes de testar a hipótese.\n",
    "\n",
    "Primeiro, você avaliará a qualidade dos dados e verá se seus problemas são significativos. Depois, durante o pré-processamento dos dados, você tentará tratar dos problemas mais críticos.\n",
    "\n",
    "O seu projeto consistirá em três etapas:\n",
    " 1. Visão geral dos dados\n",
    " 2. Pré-processamento de dados\n",
    " 3. Teste da hipótese\n",
    "\n",
    "\n",
    "\n",
    "\n",
    "\n",
    "\n"
   ]
  },
  {
   "cell_type": "markdown",
   "metadata": {
    "id": "hDt6pg-Rw-1U"
   },
   "source": [
    "[Voltar ao Índice](#back)"
   ]
  },
  {
   "cell_type": "markdown",
   "metadata": {
    "id": "Ml1hmfXC_Zcs"
   },
   "source": [
    "## Etapa 1. Visão geral dos dados <a id='data_review'></a>\n",
    "\n",
    "Abra os dados e examine-os."
   ]
  },
  {
   "cell_type": "markdown",
   "metadata": {
    "id": "57eAOGIz_Zcs"
   },
   "source": [
    "Você precisará da `pandas`, então, importe-a."
   ]
  },
  {
   "cell_type": "code",
   "execution_count": 30,
   "metadata": {
    "id": "AXN7PHPN_Zcs",
    "trusted": true
   },
   "outputs": [],
   "source": [
    "# importando pandas\n",
    "import pandas as pd"
   ]
  },
  {
   "cell_type": "markdown",
   "metadata": {
    "id": "SG23P8tt_Zcs"
   },
   "source": [
    "Leia o arquivo `music_project_en.csv` da pasta `/datasets/` e salve-o na variável `df`:"
   ]
  },
  {
   "cell_type": "code",
   "execution_count": 31,
   "metadata": {
    "id": "fFVu7vqh_Zct",
    "trusted": true
   },
   "outputs": [],
   "source": [
    "# lendo o arquivo e armazenando em df\n",
    "df = pd.read_csv('/datasets/music_project_en.csv')"
   ]
  },
  {
   "cell_type": "markdown",
   "metadata": {
    "id": "rDoOMd3uTqnZ"
   },
   "source": [
    "Imprima as primeiras 10 linhas da tabela:"
   ]
  },
  {
   "cell_type": "code",
   "execution_count": 32,
   "metadata": {
    "id": "oWTVX3gW_Zct",
    "trusted": true
   },
   "outputs": [
    {
     "name": "stdout",
     "output_type": "stream",
     "text": [
      "     userID                        Track            artist   genre  \\\n",
      "0  FFB692EC            Kamigata To Boots  The Mass Missile    rock   \n",
      "1  55204538  Delayed Because of Accident  Andreas Rönnberg    rock   \n",
      "2    20EC38            Funiculì funiculà       Mario Lanza     pop   \n",
      "3  A3DD03C9        Dragons in the Sunset        Fire + Ice    folk   \n",
      "4  E2DC1FAE                  Soul People        Space Echo   dance   \n",
      "5  842029A1                       Chains          Obladaet  rusrap   \n",
      "6  4CB90AA5                         True      Roman Messer   dance   \n",
      "7  F03E1C1F             Feeling This Way   Polina Griffith   dance   \n",
      "8  8FA1D3BE                     L’estate       Julia Dalia  ruspop   \n",
      "9  E772D5C0                    Pessimist               NaN   dance   \n",
      "\n",
      "        City        time        Day  \n",
      "0  Shelbyville  20:28:33  Wednesday  \n",
      "1  Springfield  14:07:09     Friday  \n",
      "2  Shelbyville  20:58:07  Wednesday  \n",
      "3  Shelbyville  08:37:09     Monday  \n",
      "4  Springfield  08:34:34     Monday  \n",
      "5  Shelbyville  13:09:41     Friday  \n",
      "6  Springfield  13:00:07  Wednesday  \n",
      "7  Springfield  20:47:49  Wednesday  \n",
      "8  Springfield  09:17:40     Friday  \n",
      "9  Shelbyville  21:20:49  Wednesday  \n"
     ]
    }
   ],
   "source": [
    "print(df.head(10))"
   ]
  },
  {
   "cell_type": "markdown",
   "metadata": {
    "id": "EO73Kwic_Zct"
   },
   "source": [
    "Obtenha informações gerais sobre a tabela usando um comando. Você conhece o método para exibir informações gerais que precisamos obter."
   ]
  },
  {
   "cell_type": "code",
   "execution_count": 33,
   "metadata": {
    "id": "DSf2kIb-_Zct",
    "trusted": true
   },
   "outputs": [
    {
     "name": "stdout",
     "output_type": "stream",
     "text": [
      "<class 'pandas.core.frame.DataFrame'>\n",
      "RangeIndex: 65079 entries, 0 to 65078\n",
      "Data columns (total 7 columns):\n",
      " #   Column    Non-Null Count  Dtype \n",
      "---  ------    --------------  ----- \n",
      " 0     userID  65079 non-null  object\n",
      " 1   Track     63736 non-null  object\n",
      " 2   artist    57512 non-null  object\n",
      " 3   genre     63881 non-null  object\n",
      " 4     City    65079 non-null  object\n",
      " 5   time      65079 non-null  object\n",
      " 6   Day       65079 non-null  object\n",
      "dtypes: object(7)\n",
      "memory usage: 3.5+ MB\n",
      "None\n"
     ]
    }
   ],
   "source": [
    "# obtendo informações gerais sobre os nossos dados\n",
    "\n",
    "print(df.info())"
   ]
  },
  {
   "cell_type": "markdown",
   "metadata": {
    "id": "TaQ2Iwbr_Zct"
   },
   "source": [
    "Aqui estão as nossas observações sobre a tabela. Ela contém sete colunas. Elas armazenam o mesmo tipo de dado: `object`.\n",
    "\n",
    "De acordo com a documentação:\n",
    "- `' userID'` — identificação do usuário\n",
    "- `'Track'` — título da música\n",
    "- `'artist'` — nome do artista\n",
    "- `'genre'` — gênero da música\n",
    "- `'City'` — cidade do usuário\n",
    "- `'time'` — o tempo exato que a música foi reproduzida\n",
    "- `'Day'` — dia da semana\n",
    "\n",
    "Podemos ver três problemas de estilo nos cabeçalhos da tabela:\n",
    "1. Alguns cabeçalhos são escritos em letras maiúsculas, outros estão em minúsculas.\n",
    "2. Alguns cabeçalhos contêm espaços.\n",
    "3. `Detecte o problema e o descreva aqui`.Nomes genericos.Não tem como saber que Day refere-se a dia da semana, ou que Time refere-se ao tempo de reprodução da musica e assim por diante.\n",
    "\n",
    "\n",
    "\n"
   ]
  },
  {
   "cell_type": "markdown",
   "metadata": {
    "id": "MCB6-dXG_Zct"
   },
   "source": [
    "### Escreva suas observações. Aqui estão algumas perguntas que podem ajudar: <a id='data_review_conclusions'></a>\n",
    "\n",
    "`1.   Que tipo de dados temos nas linhas? E como podemos entender as colunas?`\n",
    "\n",
    "Dados do tipo object. Cada coluna armazena informações sobre um determinado dado.\n",
    "\n",
    "`2.   Esses dados são suficientes para responder à nossa hipótese ou precisamos de mais dados?`\n",
    "\n",
    "Os dados são suficientes mas precisam ser manipulados para poder tirar conclusões sobre a hipotese.\n",
    "\n",
    "`3.   Você notou algum problema nos dados, como valores ausentes, duplicados ou tipos de dados errados`\n",
    "Sim. Valores ausentes e duplicados."
   ]
  },
  {
   "cell_type": "markdown",
   "metadata": {
    "id": "3eL__vcwViOi"
   },
   "source": [
    "[Voltar ao Índice](#back)"
   ]
  },
  {
   "cell_type": "markdown",
   "metadata": {
    "id": "SjYF6Ub9_Zct"
   },
   "source": [
    "## Etapa 2. Pré-processamento de dados <a id='data_preprocessing'></a>\n",
    "\n",
    "O objetivo aqui é preparar os dados para a análise.\n",
    "O primeiro passo é resolver todos os problemas com o cabeçalho. E então podemos passar para os valores ausentes e duplicados. Vamos começar.\n",
    "\n",
    "Corrija a formatação nos cabeçalhos da tabela.\n"
   ]
  },
  {
   "cell_type": "markdown",
   "metadata": {
    "id": "dIaKXr29_Zct"
   },
   "source": [
    "### Estilo do cabeçalho <a id='header_style'></a>\n",
    "Imprima os cabeçalhos da tabela (os nomes das colunas):"
   ]
  },
  {
   "cell_type": "code",
   "execution_count": 34,
   "metadata": {
    "id": "oKOTdF_Q_Zct",
    "trusted": true
   },
   "outputs": [
    {
     "name": "stdout",
     "output_type": "stream",
     "text": [
      "Index(['  userID', 'Track', 'artist', 'genre', '  City  ', 'time', 'Day'], dtype='object')\n"
     ]
    }
   ],
   "source": [
    "# imprima os nomes das colunas\n",
    "print(df.columns)"
   ]
  },
  {
   "cell_type": "markdown",
   "metadata": {
    "id": "zj5534cv_Zct"
   },
   "source": [
    "Mude os cabeçalhos da tabela conforme as boas práticas de estilo:\n",
    "* Todos os caracteres precisam estar com letras minúsculas\n",
    "* Exclua espaços\n",
    "* Se o nome tiver várias palavras, use snake_case"
   ]
  },
  {
   "cell_type": "markdown",
   "metadata": {
    "id": "Xu0zkfe5zNJe"
   },
   "source": [
    "Anteriormente, você aprendeu sobre uma maneira automatizada de renomear colunas. Vamos usá-la agora. Use o ciclo for para percorrer os nomes das colunas e transformar todos os caracteres em letras minúsculas. Após fazer isso, imprima os cabeçalhos da tabela novamente:"
   ]
  },
  {
   "cell_type": "code",
   "execution_count": 35,
   "metadata": {
    "id": "6I_RwwMhzM4e",
    "trusted": true
   },
   "outputs": [
    {
     "name": "stdout",
     "output_type": "stream",
     "text": [
      "Index(['  userid', 'track', 'artist', 'genre', '  city  ', 'time', 'day'], dtype='object')\n"
     ]
    }
   ],
   "source": [
    "# Percorrendo os cabeçalhos e convertendo tudo em minúsculos\n",
    "\n",
    "new_columns = []\n",
    "\n",
    "for column in df.columns:\n",
    "    new_columns.append(column.lower())\n",
    "\n",
    "df.columns = new_columns\n",
    "\n",
    "print(df.columns)"
   ]
  },
  {
   "cell_type": "markdown",
   "metadata": {
    "id": "pweIRxjSzPYW"
   },
   "source": [
    "Agora, usando a mesma abordagem, exclua os espaços no início e no final de cada nome de coluna e imprima os nomes das colunas novamente:"
   ]
  },
  {
   "cell_type": "code",
   "execution_count": 36,
   "metadata": {
    "id": "vVQXbFyJzSYl",
    "trusted": true
   },
   "outputs": [
    {
     "name": "stdout",
     "output_type": "stream",
     "text": [
      "Index(['userid', 'track', 'artist', 'genre', 'city', 'time', 'day'], dtype='object')\n"
     ]
    }
   ],
   "source": [
    "# Percorrendo os cabeçalhos e removendo os espaços\n",
    "\n",
    "new_columns = []\n",
    "\n",
    "for column in df.columns:\n",
    "    new_column = column.strip()\n",
    "    new_columns.append(new_column)\n",
    "\n",
    "df.columns = new_columns\n",
    "\n",
    "print(df.columns)\n",
    "  \n"
   ]
  },
  {
   "cell_type": "markdown",
   "metadata": {
    "id": "yCb8MW1JzURd"
   },
   "source": [
    "Precisamos aplicar a regra de sublinhado no lugar de espaço à coluna `userid`. Deveria ser `user_id`. Renomeie essa coluna e imprima os nomes de todas as colunas quando terminar."
   ]
  },
  {
   "cell_type": "code",
   "execution_count": 37,
   "metadata": {
    "id": "ISlFqs5y_Zct",
    "trusted": true
   },
   "outputs": [
    {
     "name": "stdout",
     "output_type": "stream",
     "text": [
      "Index(['user_id', 'track', 'artist', 'genre', 'city', 'time', 'day'], dtype='object')\n"
     ]
    }
   ],
   "source": [
    "# Renomeando a coluna \"userid\"\n",
    "\n",
    "df= df.rename(columns={\"userid\":\"user_id\"})\n",
    "\n",
    "print(df.columns)\n"
   ]
  },
  {
   "cell_type": "markdown",
   "metadata": {
    "id": "1dqbh00J_Zct"
   },
   "source": [
    "Verifique o resultado. Imprima os cabeçalhos novamente:"
   ]
  },
  {
   "cell_type": "code",
   "execution_count": 38,
   "metadata": {
    "id": "d4NOAmTW_Zct",
    "trusted": true
   },
   "outputs": [
    {
     "name": "stdout",
     "output_type": "stream",
     "text": [
      "Index(['user_id', 'track', 'artist', 'genre', 'city', 'time', 'day'], dtype='object')\n"
     ]
    }
   ],
   "source": [
    "# verificando o resultado: a lista de cabeçalhos\n",
    "print(df.columns)"
   ]
  },
  {
   "cell_type": "markdown",
   "metadata": {
    "id": "xYJk6ksJVpOl"
   },
   "source": [
    "[Voltar ao Índice](#back)"
   ]
  },
  {
   "cell_type": "markdown",
   "metadata": {
    "id": "5ISfbcfY_Zct"
   },
   "source": [
    "### Valores Ausentes <a id='missing_values'></a>\n",
    " Primeiro, encontre a quantidade de valores ausentes na tabela. Você precisa usar dois métodos em sequência para obter o número de valores ausentes."
   ]
  },
  {
   "cell_type": "code",
   "execution_count": 39,
   "metadata": {
    "id": "RskX29qr_Zct",
    "trusted": true
   },
   "outputs": [
    {
     "name": "stdout",
     "output_type": "stream",
     "text": [
      "user_id       0\n",
      "track      1343\n",
      "artist     7567\n",
      "genre      1198\n",
      "city          0\n",
      "time          0\n",
      "day           0\n",
      "dtype: int64\n"
     ]
    }
   ],
   "source": [
    "# calculando o número de valores ausentes\n",
    "\n",
    "print(df.isna().sum())\n"
   ]
  },
  {
   "cell_type": "markdown",
   "metadata": {
    "id": "qubhgnlO_Zct"
   },
   "source": [
    "Nem todos os valores ausentes afetam a pesquisa. Por exemplo, os valores ausentes em `track` e `artist` não são críticos. Você pode simplesmente substituí-los por valores padrão, como a string `'unknown'`.\n",
    "\n",
    "Mas valores ausentes em `'genre'` podem afetar a comparação de preferências musicais de Springfield e Shelbyville. Na vida real, seria útil descobrir as razões pelas quais os dados estão ausentes e tentar corrigi-los. Mas nós não temos essa possibilidade neste projeto. Então, você terá que:\n",
    "* Preencha esses valores ausentes com um valor padrão\n",
    "* Avalie em que medida os valores ausentes podem afetar sua análise"
   ]
  },
  {
   "cell_type": "markdown",
   "metadata": {
    "id": "fSv2laPA_Zct"
   },
   "source": [
    "Substitua os valores ausentes nas colunas `'track'`, `'artist'` e `'genre'` pela string `'unknown'`. Como mostramos nas lições anteriores, a melhor maneira de fazer isso é criar uma lista para armazenar os nomes das colunas nas quais precisamos fazer a substituição. Em seguida, use essa lista e percorra as colunas nas quais a substituição seja necessária e faça a substituição."
   ]
  },
  {
   "cell_type": "code",
   "execution_count": 40,
   "metadata": {
    "id": "KplB5qWs_Zct",
    "trusted": true
   },
   "outputs": [
    {
     "name": "stdout",
     "output_type": "stream",
     "text": [
      "                         track            artist  genre\n",
      "0            Kamigata To Boots  The Mass Missile   rock\n",
      "1  Delayed Because of Accident  Andreas Rönnberg   rock\n",
      "2            Funiculì funiculà       Mario Lanza    pop\n",
      "3        Dragons in the Sunset        Fire + Ice   folk\n",
      "4                  Soul People        Space Echo  dance\n"
     ]
    }
   ],
   "source": [
    "# percorrendo os cabeçalhos e substituindo valores ausentes por 'unknown'\n",
    "\n",
    "df[['track', 'artist', 'genre']] = df[['track', 'artist', 'genre']].fillna('unknown')\n",
    "\n",
    "print(df[['track', 'artist', 'genre']].head())\n"
   ]
  },
  {
   "cell_type": "markdown",
   "metadata": {
    "id": "Ilsm-MZo_Zct"
   },
   "source": [
    "Agora verifique o resultado para ter certeza de que o conjunto de dados não contenha valores ausentes após a substituição. Para fazer isso, conte os valores ausentes novamente."
   ]
  },
  {
   "cell_type": "code",
   "execution_count": 41,
   "metadata": {
    "id": "Tq4nYRX4_Zct",
    "trusted": true
   },
   "outputs": [
    {
     "name": "stdout",
     "output_type": "stream",
     "text": [
      "user_id    0\n",
      "track      0\n",
      "artist     0\n",
      "genre      0\n",
      "city       0\n",
      "time       0\n",
      "day        0\n",
      "dtype: int64\n"
     ]
    }
   ],
   "source": [
    "# contando os valores ausentes\n",
    "\n",
    "print(df.isna().sum())"
   ]
  },
  {
   "cell_type": "markdown",
   "metadata": {
    "id": "74ZIBmq9VrsK"
   },
   "source": [
    "[Voltar ao Índice](#back)"
   ]
  },
  {
   "cell_type": "markdown",
   "metadata": {
    "id": "BWKRtBJ3_Zct"
   },
   "source": [
    "### Duplicados <a id='duplicates'></a>\n",
    "Encontre o número de duplicados explícitos na tabela. Lembre-se de que você precisa aplicar dois métodos em sequência para obter o número de duplicados explícitos."
   ]
  },
  {
   "cell_type": "code",
   "execution_count": 42,
   "metadata": {
    "id": "36eES_S0_Zct",
    "trusted": true
   },
   "outputs": [
    {
     "name": "stdout",
     "output_type": "stream",
     "text": [
      "3826\n"
     ]
    }
   ],
   "source": [
    "# contando duplicados explícitos\n",
    "\n",
    "print(df.duplicated().sum())\n"
   ]
  },
  {
   "cell_type": "markdown",
   "metadata": {
    "id": "Ot25h6XR_Zct"
   },
   "source": [
    "Agora descarte todos os duplicados. Para fazer isso, chame o método que faz exatamente isso."
   ]
  },
  {
   "cell_type": "code",
   "execution_count": 43,
   "metadata": {
    "id": "exFHq6tt_Zct",
    "trusted": true
   },
   "outputs": [
    {
     "name": "stdout",
     "output_type": "stream",
     "text": [
      "       index   user_id                              track            artist  \\\n",
      "0          0  FFB692EC                  Kamigata To Boots  The Mass Missile   \n",
      "1          1  55204538        Delayed Because of Accident  Andreas Rönnberg   \n",
      "2          2    20EC38                  Funiculì funiculà       Mario Lanza   \n",
      "3          3  A3DD03C9              Dragons in the Sunset        Fire + Ice   \n",
      "4          4  E2DC1FAE                        Soul People        Space Echo   \n",
      "...      ...       ...                                ...               ...   \n",
      "61248  65074  729CBB09                            My Name            McLean   \n",
      "61249  65075  D08D4A55  Maybe One Day (feat. Black Spade)       Blu & Exile   \n",
      "61250  65076  C5E3A0D5                          Jalopiina           unknown   \n",
      "61251  65077  321D0506                      Freight Train     Chas McDevitt   \n",
      "61252  65078  3A64EF84          Tell Me Sweet Little Lies      Monica Lopez   \n",
      "\n",
      "            genre         city      time        day  \n",
      "0            rock  Shelbyville  20:28:33  Wednesday  \n",
      "1            rock  Springfield  14:07:09     Friday  \n",
      "2             pop  Shelbyville  20:58:07  Wednesday  \n",
      "3            folk  Shelbyville  08:37:09     Monday  \n",
      "4           dance  Springfield  08:34:34     Monday  \n",
      "...           ...          ...       ...        ...  \n",
      "61248         rnb  Springfield  13:32:28  Wednesday  \n",
      "61249         hip  Shelbyville  10:00:00     Monday  \n",
      "61250  industrial  Springfield  20:09:26     Friday  \n",
      "61251        rock  Springfield  21:43:59     Friday  \n",
      "61252     country  Springfield  21:59:46     Friday  \n",
      "\n",
      "[61253 rows x 8 columns]\n"
     ]
    }
   ],
   "source": [
    "# removendo duplicados explícitos\n",
    "\n",
    "df.drop_duplicates(inplace=True)\n",
    "df=df.reset_index()\n",
    "\n",
    "print(df)"
   ]
  },
  {
   "cell_type": "markdown",
   "metadata": {
    "id": "Im2YwBEG_Zct"
   },
   "source": [
    "Agora vamos verificar se descartamos todos os duplicados. Conte duplicados explícitos mais uma vez para ter certeza de que você removeu todos eles:"
   ]
  },
  {
   "cell_type": "code",
   "execution_count": 44,
   "metadata": {
    "id": "-8PuNWQ0_Zct",
    "trusted": true
   },
   "outputs": [
    {
     "name": "stdout",
     "output_type": "stream",
     "text": [
      "0\n"
     ]
    }
   ],
   "source": [
    "# verificando duplicados novamente\n",
    "\n",
    "\n",
    "duplicates = df.duplicated().sum()\n",
    "\n",
    "print(duplicates)\n"
   ]
  },
  {
   "cell_type": "markdown",
   "metadata": {
    "id": "QlFBsxAr_Zct"
   },
   "source": [
    "Agora queremos nos livrar dos duplicados implícitos na coluna `genre`. Por exemplo, o nome de um gênero pode ser escrito de maneiras diferentes. Alguns erros afetarão também o resultado."
   ]
  },
  {
   "cell_type": "markdown",
   "metadata": {
    "id": "eSjWwsOh_Zct"
   },
   "source": [
    "Para fazer isso, vamos começar imprimindo uma lista de nomes de gênero únicos, ordenados em ordem alfabética: Para fazer isso:\n",
    "* Extraia a coluna `genre` do DataFrame\n",
    "* Chame o método que retornará todos os valores únicos na coluna extraída\n"
   ]
  },
  {
   "cell_type": "code",
   "execution_count": 45,
   "metadata": {
    "id": "JIUcqzZN_Zct",
    "trusted": true
   },
   "outputs": [
    {
     "name": "stdout",
     "output_type": "stream",
     "text": [
      "['rock' 'pop' 'folk' 'dance' 'rusrap' 'ruspop' 'world' 'electronic'\n",
      " 'unknown' 'alternative' 'children' 'rnb' 'hip' 'jazz' 'postrock' 'latin'\n",
      " 'classical' 'metal' 'reggae' 'triphop' 'blues' 'instrumental' 'rusrock'\n",
      " 'dnb' 'türk' 'post' 'country' 'psychedelic' 'conjazz' 'indie'\n",
      " 'posthardcore' 'local' 'avantgarde' 'punk' 'videogame' 'techno' 'house'\n",
      " 'christmas' 'melodic' 'caucasian' 'reggaeton' 'soundtrack' 'singer' 'ska'\n",
      " 'salsa' 'ambient' 'film' 'western' 'rap' 'beats' \"hard'n'heavy\"\n",
      " 'progmetal' 'minimal' 'tropical' 'contemporary' 'new' 'soul' 'holiday'\n",
      " 'german' 'jpop' 'spiritual' 'urban' 'gospel' 'nujazz' 'folkmetal'\n",
      " 'trance' 'miscellaneous' 'anime' 'hardcore' 'progressive' 'korean'\n",
      " 'numetal' 'vocal' 'estrada' 'tango' 'loungeelectronic' 'classicmetal'\n",
      " 'dubstep' 'club' 'deep' 'southern' 'black' 'folkrock' 'fitness' 'french'\n",
      " 'disco' 'religious' 'hiphop' 'drum' 'extrememetal' 'türkçe'\n",
      " 'experimental' 'easy' 'metalcore' 'modern' 'argentinetango' 'old' 'swing'\n",
      " 'breaks' 'eurofolk' 'stonerrock' 'industrial' 'funk' 'middle' 'variété'\n",
      " 'other' 'adult' 'christian' 'thrash' 'gothic' 'international' 'muslim'\n",
      " 'relax' 'schlager' 'caribbean' 'nu' 'breakbeat' 'comedy' 'chill' 'newage'\n",
      " 'specialty' 'uzbek' 'k-pop' 'balkan' 'chinese' 'meditative' 'dub' 'power'\n",
      " 'death' 'grime' 'arabesk' 'romance' 'flamenco' 'leftfield' 'european'\n",
      " 'tech' 'newwave' 'dancehall' 'mpb' 'piano' 'top' 'bigroom' 'opera'\n",
      " 'celtic' 'tradjazz' 'acoustic' 'epicmetal' 'hip-hop' 'historisch'\n",
      " 'downbeat' 'downtempo' 'africa' 'audiobook' 'jewish' 'sängerportrait'\n",
      " 'deutschrock' 'eastern' 'action' 'future' 'electropop' 'folklore'\n",
      " 'bollywood' 'marschmusik' 'rnr' 'karaoke' 'indian' 'rancheras'\n",
      " 'afrikaans' 'rhythm' 'sound' 'deutschspr' 'trip' 'lovers' 'choral'\n",
      " 'dancepop' 'retro' 'smooth' 'mexican' 'brazilian' 'ïîï' 'mood' 'surf'\n",
      " 'gangsta' 'inspirational' 'idm' 'ethnic' 'bluegrass' 'broadway'\n",
      " 'animated' 'americana' 'karadeniz' 'rockabilly' 'colombian' 'self' 'hop'\n",
      " 'sertanejo' 'japanese' 'canzone' 'lounge' 'sport' 'ragga' 'traditional'\n",
      " 'gitarre' 'frankreich' 'emo' 'laiko' 'cantopop' 'glitch' 'documentary'\n",
      " 'oceania' 'popeurodance' 'dark' 'vi' 'grunge' 'hardstyle' 'samba'\n",
      " 'garage' 'art' 'folktronica' 'entehno' 'mediterranean' 'chamber' 'cuban'\n",
      " 'taraftar' 'gypsy' 'hardtechno' 'shoegazing' 'bossa' 'latino' 'worldbeat'\n",
      " 'malaysian' 'baile' 'ghazal' 'arabic' 'popelectronic' 'acid' 'kayokyoku'\n",
      " 'neoklassik' 'tribal' 'tanzorchester' 'native' 'independent' 'cantautori'\n",
      " 'handsup' 'punjabi' 'synthpop' 'rave' 'französisch' 'quebecois' 'speech'\n",
      " 'soulful' 'jam' 'ram' 'horror' 'orchestral' 'neue' 'roots' 'slow'\n",
      " 'jungle' 'indipop' 'axé' 'fado' 'showtunes' 'arena' 'irish' 'mandopop'\n",
      " 'forró' 'dirty' 'regional']\n"
     ]
    }
   ],
   "source": [
    "# visualizando nomes de gêneros únicos\n",
    "\n",
    "valores_unicos = df['genre'].unique() #chama todos os valores unicos da coluna genre\n",
    "\n",
    "print(valores_unicos)\n"
   ]
  },
  {
   "cell_type": "markdown",
   "metadata": {
    "id": "qej-Qmuo_Zct"
   },
   "source": [
    "Olhe a lista e encontre duplicados implícitos do gênero `hiphop`. Esses podem ser nomes escritos incorretamente, ou nomes alternativos para o mesmo gênero.\n",
    "\n",
    "Você verá os seguintes duplicados implícitos:\n",
    "* `hip`\n",
    "* `hop`\n",
    "* `hip-hop`\n",
    "\n",
    "Para se livrar deles, crie uma função `replace_wrong_genres()` com dois parâmetros:\n",
    "* `wrong_genres=` — essa é uma lista que contém todos os valores que você precisa substituir\n",
    "* `correct_genre=` — essa é uma string que você vai usar para a substituição\n",
    "\n",
    "Como resultado, a função deve corrigir os nomes na coluna `'genre'` da tabela `df`, isto é, substituindo cada valor da lista `wrong_genres` por valores de `correct_genre`.\n",
    "\n",
    "Dentro do corpo da função, use um ciclo `'for'` para percorrer a lista de gêneros errados, extrair a coluna `'genre'` e aplicar o método `replace` para fazer as correções."
   ]
  },
  {
   "cell_type": "code",
   "execution_count": 46,
   "metadata": {
    "id": "ErNDkmns_Zct",
    "trusted": true
   },
   "outputs": [
    {
     "name": "stdout",
     "output_type": "stream",
     "text": [
      "       index   user_id                              track            artist  \\\n",
      "0          0  FFB692EC                  Kamigata To Boots  The Mass Missile   \n",
      "1          1  55204538        Delayed Because of Accident  Andreas Rönnberg   \n",
      "2          2    20EC38                  Funiculì funiculà       Mario Lanza   \n",
      "3          3  A3DD03C9              Dragons in the Sunset        Fire + Ice   \n",
      "4          4  E2DC1FAE                        Soul People        Space Echo   \n",
      "...      ...       ...                                ...               ...   \n",
      "61248  65074  729CBB09                            My Name            McLean   \n",
      "61249  65075  D08D4A55  Maybe One Day (feat. Black Spade)       Blu & Exile   \n",
      "61250  65076  C5E3A0D5                          Jalopiina           unknown   \n",
      "61251  65077  321D0506                      Freight Train     Chas McDevitt   \n",
      "61252  65078  3A64EF84          Tell Me Sweet Little Lies      Monica Lopez   \n",
      "\n",
      "            genre         city      time        day  \n",
      "0            rock  Shelbyville  20:28:33  Wednesday  \n",
      "1            rock  Springfield  14:07:09     Friday  \n",
      "2             pop  Shelbyville  20:58:07  Wednesday  \n",
      "3            folk  Shelbyville  08:37:09     Monday  \n",
      "4           dance  Springfield  08:34:34     Monday  \n",
      "...           ...          ...       ...        ...  \n",
      "61248         rnb  Springfield  13:32:28  Wednesday  \n",
      "61249      hiphop  Shelbyville  10:00:00     Monday  \n",
      "61250  industrial  Springfield  20:09:26     Friday  \n",
      "61251        rock  Springfield  21:43:59     Friday  \n",
      "61252     country  Springfield  21:59:46     Friday  \n",
      "\n",
      "[61253 rows x 8 columns]\n"
     ]
    }
   ],
   "source": [
    "# função para substituir duplicados implícitos\n",
    "\n",
    "def replace_wrong_genres(wrong_genres, correct_genre):\n",
    "    for wrong_genre in wrong_genres:\n",
    "        df['genre'] = df['genre'].replace(wrong_genre, correct_genre)\n",
    "    return df\n",
    "\n",
    "wrong_genres = ['hip', 'hop', 'hip-hop']\n",
    "correct_genre = 'hiphop'\n",
    "\n",
    "df=replace_wrong_genres(wrong_genres, correct_genre)\n",
    "\n",
    "print(df)"
   ]
  },
  {
   "cell_type": "markdown",
   "metadata": {
    "id": "aDoBJxbA_Zct"
   },
   "source": [
    "Agora, chame a função `replace_wrong_genres()` e passe argumentos apropriados para que ela limpe duplicados implícitos (`hip`, `hop` e `hip-hop`) substituindo-os por `hiphop`:"
   ]
  },
  {
   "cell_type": "markdown",
   "metadata": {
    "id": "zQKF16_RG15m"
   },
   "source": [
    "Certifique-se que os nomes duplicados foram removidos. Imprima a lista de valores únicos da coluna `'genre'` mais uma vez:"
   ]
  },
  {
   "cell_type": "code",
   "execution_count": 48,
   "metadata": {
    "id": "wvixALnFG15m",
    "trusted": true
   },
   "outputs": [
    {
     "name": "stdout",
     "output_type": "stream",
     "text": [
      "['rock' 'pop' 'folk' 'dance' 'rusrap' 'ruspop' 'world' 'electronic'\n",
      " 'unknown' 'alternative' 'children' 'rnb' 'hiphop' 'jazz' 'postrock'\n",
      " 'latin' 'classical' 'metal' 'reggae' 'triphop' 'blues' 'instrumental'\n",
      " 'rusrock' 'dnb' 'türk' 'post' 'country' 'psychedelic' 'conjazz' 'indie'\n",
      " 'posthardcore' 'local' 'avantgarde' 'punk' 'videogame' 'techno' 'house'\n",
      " 'christmas' 'melodic' 'caucasian' 'reggaeton' 'soundtrack' 'singer' 'ska'\n",
      " 'salsa' 'ambient' 'film' 'western' 'rap' 'beats' \"hard'n'heavy\"\n",
      " 'progmetal' 'minimal' 'tropical' 'contemporary' 'new' 'soul' 'holiday'\n",
      " 'german' 'jpop' 'spiritual' 'urban' 'gospel' 'nujazz' 'folkmetal'\n",
      " 'trance' 'miscellaneous' 'anime' 'hardcore' 'progressive' 'korean'\n",
      " 'numetal' 'vocal' 'estrada' 'tango' 'loungeelectronic' 'classicmetal'\n",
      " 'dubstep' 'club' 'deep' 'southern' 'black' 'folkrock' 'fitness' 'french'\n",
      " 'disco' 'religious' 'drum' 'extrememetal' 'türkçe' 'experimental' 'easy'\n",
      " 'metalcore' 'modern' 'argentinetango' 'old' 'swing' 'breaks' 'eurofolk'\n",
      " 'stonerrock' 'industrial' 'funk' 'middle' 'variété' 'other' 'adult'\n",
      " 'christian' 'thrash' 'gothic' 'international' 'muslim' 'relax' 'schlager'\n",
      " 'caribbean' 'nu' 'breakbeat' 'comedy' 'chill' 'newage' 'specialty'\n",
      " 'uzbek' 'k-pop' 'balkan' 'chinese' 'meditative' 'dub' 'power' 'death'\n",
      " 'grime' 'arabesk' 'romance' 'flamenco' 'leftfield' 'european' 'tech'\n",
      " 'newwave' 'dancehall' 'mpb' 'piano' 'top' 'bigroom' 'opera' 'celtic'\n",
      " 'tradjazz' 'acoustic' 'epicmetal' 'historisch' 'downbeat' 'downtempo'\n",
      " 'africa' 'audiobook' 'jewish' 'sängerportrait' 'deutschrock' 'eastern'\n",
      " 'action' 'future' 'electropop' 'folklore' 'bollywood' 'marschmusik' 'rnr'\n",
      " 'karaoke' 'indian' 'rancheras' 'afrikaans' 'rhythm' 'sound' 'deutschspr'\n",
      " 'trip' 'lovers' 'choral' 'dancepop' 'retro' 'smooth' 'mexican'\n",
      " 'brazilian' 'ïîï' 'mood' 'surf' 'gangsta' 'inspirational' 'idm' 'ethnic'\n",
      " 'bluegrass' 'broadway' 'animated' 'americana' 'karadeniz' 'rockabilly'\n",
      " 'colombian' 'self' 'sertanejo' 'japanese' 'canzone' 'lounge' 'sport'\n",
      " 'ragga' 'traditional' 'gitarre' 'frankreich' 'emo' 'laiko' 'cantopop'\n",
      " 'glitch' 'documentary' 'oceania' 'popeurodance' 'dark' 'vi' 'grunge'\n",
      " 'hardstyle' 'samba' 'garage' 'art' 'folktronica' 'entehno'\n",
      " 'mediterranean' 'chamber' 'cuban' 'taraftar' 'gypsy' 'hardtechno'\n",
      " 'shoegazing' 'bossa' 'latino' 'worldbeat' 'malaysian' 'baile' 'ghazal'\n",
      " 'arabic' 'popelectronic' 'acid' 'kayokyoku' 'neoklassik' 'tribal'\n",
      " 'tanzorchester' 'native' 'independent' 'cantautori' 'handsup' 'punjabi'\n",
      " 'synthpop' 'rave' 'französisch' 'quebecois' 'speech' 'soulful' 'jam'\n",
      " 'ram' 'horror' 'orchestral' 'neue' 'roots' 'slow' 'jungle' 'indipop'\n",
      " 'axé' 'fado' 'showtunes' 'arena' 'irish' 'mandopop' 'forró' 'dirty'\n",
      " 'regional']\n"
     ]
    }
   ],
   "source": [
    "# verificando valores duplicados\n",
    "\n",
    "valores_unicos = df['genre'].unique() #chama todos os valores unicos da coluna genre\n",
    "\n",
    "print(valores_unicos)\n"
   ]
  },
  {
   "cell_type": "markdown",
   "metadata": {
    "id": "jz6a9-7HQUDd"
   },
   "source": [
    "### Suas observações <a id='data_preprocessing_conclusions'></a>\n",
    "\n",
    "` Descreva brevemente o que você reparou ao analisar duplicados, bem como a abordagem que usou para eliminá-los e os resultados que alcançou.`\n",
    "\n",
    "Ao analisar os dados duplicados percebe-se que elimina-los é fundamental para analisar os dados."
   ]
  },
  {
   "cell_type": "markdown",
   "metadata": {
    "id": "eK1es74rVujj"
   },
   "source": [
    "[Voltar ao Índice](#back)"
   ]
  },
  {
   "cell_type": "markdown",
   "metadata": {
    "id": "WttZHXH0SqKk"
   },
   "source": [
    "## Etapa 3. Teste da hipótese <a id='hypothesis'></a>"
   ]
  },
  {
   "cell_type": "markdown",
   "metadata": {
    "id": "Im936VVi_Zcu"
   },
   "source": [
    "### Hipótese: comparação do comportamento dos usuários nas duas cidades <a id='activity'></a>"
   ]
  },
  {
   "cell_type": "markdown",
   "metadata": {
    "id": "nwt_MuaL_Zcu"
   },
   "source": [
    "A hipótese afirma que existem diferenças no consumo de música pelos usuários em Springfield e em Shelbyville. Para testar a hipótese, use os dados dos três dias da semana: segunda-feira (Monday), quarta-feira (Wednesday) e sexta-feira (Friday).\n",
    "\n",
    "* Agrupe os usuários por cidade.\n",
    "* Compare o número de músicas tocadas por cada grupo na segunda, quarta e sexta.\n"
   ]
  },
  {
   "cell_type": "markdown",
   "metadata": {
    "id": "8Dw_YMmT_Zcu"
   },
   "source": [
    "Execute cada cálculo separadamente.\n",
    "\n",
    "O primeiro passo é avaliar a atividade dos usuários em cada cidade. Não se esqueça das etapas \"divisão-aplicação-combinação\" sobre as quais falamos anteriormente na lição. Agora seu objetivo é agrupar os dados por cidade, aplicar o método de contagem apropriado durante a etapa de aplicação e então encontrar o número de músicas tocadas por cada grupo, especificando a coluna para a qual você quer obter a contagem.\n",
    "\n",
    "Veja um exemplo de como o resultado final deve ser:\n",
    "`df.groupby(by='....')['column'].method()` Execute cada cálculo separadamente.\n",
    "\n",
    "Para avaliar a atividade dos usuários em cada cidade, agrupe os dados por cidade e encontre o número de músicas reproduzidas em cada grupo.\n",
    "\n"
   ]
  },
  {
   "cell_type": "code",
   "execution_count": 49,
   "metadata": {
    "id": "0_Qs96oh_Zcu",
    "trusted": true
   },
   "outputs": [
    {
     "name": "stdout",
     "output_type": "stream",
     "text": [
      "Músicas por cidade:\n",
      "city\n",
      "Shelbyville    18512\n",
      "Springfield    42741\n",
      "Name: track, dtype: int64\n"
     ]
    }
   ],
   "source": [
    "# Contando as músicas tocadas em cada cidade\n",
    "\n",
    "#Iniciando o agrupamento de dados por cidade\n",
    "\n",
    "city_counts = df.groupby('city')['track'].count()\n",
    "print(\"Músicas por cidade:\")\n",
    "print(city_counts)\n"
   ]
  },
  {
   "cell_type": "markdown",
   "metadata": {
    "id": "t_Qx-3NewAnK"
   },
   "source": [
    "`Comente sobre suas observações aqui` Springfield ouve mais musica que Shelbyville."
   ]
  },
  {
   "cell_type": "markdown",
   "metadata": {
    "id": "dzli3w8o_Zcu"
   },
   "source": [
    "Agora vamos agrupar os dados por dia da semana e encontrar a quantidade de músicas tocadas na segunda, quarta e sexta-feira. Use a mesma abordagem que antes, mas agora precisamos agrupar os dados de uma forma diferente.\n"
   ]
  },
  {
   "cell_type": "code",
   "execution_count": 50,
   "metadata": {
    "id": "uZMKjiJz_Zcu",
    "trusted": true
   },
   "outputs": [
    {
     "name": "stdout",
     "output_type": "stream",
     "text": [
      "Músicas por dia:\n",
      "day\n",
      "Friday       21840\n",
      "Monday       21354\n",
      "Wednesday    18059\n",
      "Name: track, dtype: int64\n"
     ]
    }
   ],
   "source": [
    "#Iniciando o agrupamento de dados\n",
    "\n",
    "day_counts = df.groupby('day')['track'].count()\n",
    "print(\"Músicas por dia:\")\n",
    "print(day_counts)\n"
   ]
  },
  {
   "cell_type": "markdown",
   "metadata": {
    "id": "POzs8bGa_Zcu"
   },
   "source": [
    "Você acabou de aprender como contar entradas agrupando-as por cidade ou por dia. E agora você precisa escrever uma função que possa contar entradas simultaneamente com base em ambos os critérios.\n",
    "\n",
    "Crie a função `number_tracks()` para calcular o número de músicas tocadas em um determinado dia **e** em uma determinada cidade. A função deve aceitar dois parâmetros:\n",
    "\n",
    "- `day`: um dia da semana pelo qual precisamos filtrar os dados. Por exemplo, `'Monday'`.\n",
    "- `city`: uma cidade pela qual precisamos filtrar os dados. Por exemplo, `'Springfield'`.\n",
    "\n",
    "Dentro da função, você vai aplicar uma filtragem consecutiva com indexação lógica.\n",
    "\n",
    "Primeiro, filtre os dados por dia e então filtre a tabela resultante por cidade.\n",
    "\n",
    "Depois de filtrar os dados usando os dois critérios, conte o número de valores na coluna 'user_id' da tabela resultante. O resultado da contagem representará o número de entradas que você quer encontrar. Armazene o resultado em uma nova variável e imprima-o."
   ]
  },
  {
   "cell_type": "code",
   "execution_count": 51,
   "metadata": {
    "id": "Nz3GdQB1_Zcu",
    "trusted": true
   },
   "outputs": [],
   "source": [
    "#Declarando a função\n",
    "def number_tracks(day, city):\n",
    "    \n",
    "    filtered_by_day = df[df['day'] == day] #Armazena as linhas do df em que o valor da coluna 'day' é igual ao parâmetro day=\n",
    "    \n",
    "    filtered_data = filtered_by_day[filtered_by_day['city'] == city] #filtra as linhas em que o valor na coluna 'city' é igual ao parâmetro city=\n",
    "    \n",
    "    track_count = filtered_data['user_id'].count()  # Extrai a coluna 'user_id' da tabela filtrada e aplique o método count()\n",
    "    \n",
    "    return track_count  # Retorna o número dos valores da coluna 'user_id'"
   ]
  },
  {
   "cell_type": "markdown",
   "metadata": {
    "id": "ytf7xFrFJQ2r"
   },
   "source": [
    "Chame a função `number_tracks()` seis vezes, mudando os valores dos parâmetros, para que você possa recuperar os dados de ambas as cidades para cada um dos três dias."
   ]
  },
  {
   "cell_type": "code",
   "execution_count": 52,
   "metadata": {
    "id": "rJcRATNQ_Zcu",
    "trusted": true
   },
   "outputs": [
    {
     "name": "stdout",
     "output_type": "stream",
     "text": [
      "A quantidade de músicas tocadas em Springfield na segunda-feira é: 15740\n"
     ]
    }
   ],
   "source": [
    "# a quantidade de músicas tocadas em Springfield na segunda-feira\n",
    "\n",
    "music = number_tracks('Monday', 'Springfield')\n",
    "\n",
    "print(f\"A quantidade de músicas tocadas em Springfield na segunda-feira é: {music}\")\n"
   ]
  },
  {
   "cell_type": "code",
   "execution_count": 53,
   "metadata": {
    "id": "hq_ncZ5T_Zcu",
    "trusted": true
   },
   "outputs": [
    {
     "name": "stdout",
     "output_type": "stream",
     "text": [
      "A quantidade de músicas tocadas em Shelbyville na segunda-feira é: 5614\n"
     ]
    }
   ],
   "source": [
    "# a quantidade de músicas tocadas em Shelbyville na segunda-feira\n",
    "\n",
    "music = number_tracks('Monday', 'Shelbyville')\n",
    "\n",
    "print(f\"A quantidade de músicas tocadas em Shelbyville na segunda-feira é: {music}\")"
   ]
  },
  {
   "cell_type": "code",
   "execution_count": 54,
   "metadata": {
    "id": "_NTy2VPU_Zcu",
    "trusted": true
   },
   "outputs": [
    {
     "name": "stdout",
     "output_type": "stream",
     "text": [
      "A quantidade de músicas tocadas em Springfield na quarta-feira é: 11056\n"
     ]
    }
   ],
   "source": [
    "# a quantidade de músicas tocadas em Springfield na quarta-feira\n",
    "music = number_tracks('Wednesday', 'Springfield')\n",
    "\n",
    "print(f\"A quantidade de músicas tocadas em Springfield na quarta-feira é: {music}\")"
   ]
  },
  {
   "cell_type": "code",
   "execution_count": 55,
   "metadata": {
    "id": "j2y3TAwo_Zcu",
    "trusted": true
   },
   "outputs": [
    {
     "name": "stdout",
     "output_type": "stream",
     "text": [
      "A quantidade de músicas tocadas em Shelbyville na quarta-feira é: 7003\n"
     ]
    }
   ],
   "source": [
    "# a quantidade de músicas tocadas em Shelbyville na quarta-feira\n",
    "music = number_tracks('Wednesday', 'Shelbyville')\n",
    "\n",
    "print(f\"A quantidade de músicas tocadas em Shelbyville na quarta-feira é: {music}\")"
   ]
  },
  {
   "cell_type": "code",
   "execution_count": 56,
   "metadata": {
    "id": "vYDw5u_K_Zcu",
    "trusted": true
   },
   "outputs": [
    {
     "name": "stdout",
     "output_type": "stream",
     "text": [
      "A quantidade de músicas tocadas em Springfield na sexta-feira é: 15945\n"
     ]
    }
   ],
   "source": [
    "# a quantidade de músicas tocadas em Springfield na sexta-feira\n",
    "music = number_tracks('Friday', 'Springfield')\n",
    "\n",
    "print(f\"A quantidade de músicas tocadas em Springfield na sexta-feira é: {music}\")"
   ]
  },
  {
   "cell_type": "code",
   "execution_count": 57,
   "metadata": {
    "id": "8_yzFtW3_Zcu",
    "trusted": true
   },
   "outputs": [
    {
     "name": "stdout",
     "output_type": "stream",
     "text": [
      "A quantidade de músicas tocadas em Shelbyville na sexta-feira é: 5895\n"
     ]
    }
   ],
   "source": [
    "# a quantidade de músicas tocadas em Shelbyville na sexta-feira\n",
    "music = number_tracks('Friday', 'Shelbyville')\n",
    "\n",
    "print(f\"A quantidade de músicas tocadas em Shelbyville na sexta-feira é: {music}\")"
   ]
  },
  {
   "cell_type": "markdown",
   "metadata": {
    "id": "-EgPIHYu_Zcu"
   },
   "source": [
    "**Conclusões**\n",
    "\n",
    "`Comente sobre se a terceira hipótese está correta ou deve ser rejeitada. Explique seu raciocínio.`\n",
    "A hipotese é verdadeira. Uma cidade consome mais musica que a outra.\n",
    "Uma cidade tem seu dia de maior numero de musicas na quarta e outra na sexta."
   ]
  }
 ],
 "metadata": {
  "ExecuteTimeLog": [
   {
    "duration": 158,
    "start_time": "2024-09-30T00:05:29.047Z"
   },
   {
    "duration": 13,
    "start_time": "2024-09-30T00:05:40.719Z"
   },
   {
    "duration": 274,
    "start_time": "2024-09-30T00:05:56.495Z"
   },
   {
    "duration": 109,
    "start_time": "2024-09-30T00:05:59.155Z"
   },
   {
    "duration": 7,
    "start_time": "2024-09-30T00:06:04.371Z"
   },
   {
    "duration": 3,
    "start_time": "2024-09-30T00:06:11.661Z"
   },
   {
    "duration": 34,
    "start_time": "2024-09-30T00:06:19.373Z"
   },
   {
    "duration": 335,
    "start_time": "2024-09-30T00:06:39.955Z"
   },
   {
    "duration": 13,
    "start_time": "2024-09-30T00:07:13.320Z"
   },
   {
    "duration": 14,
    "start_time": "2024-09-30T00:07:37.998Z"
   },
   {
    "duration": 13,
    "start_time": "2024-09-30T00:08:08.818Z"
   },
   {
    "duration": 12,
    "start_time": "2024-09-30T00:10:16.760Z"
   },
   {
    "duration": 12,
    "start_time": "2024-09-30T00:12:08.958Z"
   },
   {
    "duration": 12,
    "start_time": "2024-09-30T00:12:32.687Z"
   },
   {
    "duration": 28,
    "start_time": "2024-09-30T00:13:05.230Z"
   },
   {
    "duration": 13,
    "start_time": "2024-09-30T00:14:13.544Z"
   },
   {
    "duration": 159,
    "start_time": "2024-09-30T14:41:16.799Z"
   },
   {
    "duration": 320,
    "start_time": "2024-09-30T14:41:55.352Z"
   },
   {
    "duration": 7,
    "start_time": "2024-09-30T14:43:38.710Z"
   },
   {
    "duration": 14,
    "start_time": "2024-09-30T14:43:46.287Z"
   },
   {
    "duration": 127,
    "start_time": "2024-09-30T14:44:21.260Z"
   },
   {
    "duration": 96,
    "start_time": "2024-09-30T14:45:05.031Z"
   },
   {
    "duration": 96,
    "start_time": "2024-09-30T14:47:27.114Z"
   },
   {
    "duration": 99,
    "start_time": "2024-09-30T14:48:14.875Z"
   },
   {
    "duration": 98,
    "start_time": "2024-09-30T14:53:36.008Z"
   },
   {
    "duration": 100,
    "start_time": "2024-09-30T14:58:57.717Z"
   },
   {
    "duration": 119,
    "start_time": "2024-09-30T15:01:06.114Z"
   },
   {
    "duration": 500,
    "start_time": "2024-09-30T15:07:15.913Z"
   },
   {
    "duration": 503,
    "start_time": "2024-09-30T18:01:17.196Z"
   },
   {
    "duration": 135,
    "start_time": "2024-09-30T18:02:43.979Z"
   },
   {
    "duration": 137,
    "start_time": "2024-09-30T18:03:02.876Z"
   },
   {
    "duration": 124,
    "start_time": "2024-09-30T18:03:23.951Z"
   },
   {
    "duration": 135,
    "start_time": "2024-09-30T18:04:02.915Z"
   },
   {
    "duration": 134,
    "start_time": "2024-09-30T18:04:15.302Z"
   },
   {
    "duration": 140,
    "start_time": "2024-09-30T18:05:48.173Z"
   },
   {
    "duration": 48,
    "start_time": "2024-09-30T18:06:15.503Z"
   },
   {
    "duration": 155,
    "start_time": "2024-10-02T18:57:28.194Z"
   },
   {
    "duration": 423,
    "start_time": "2024-10-02T18:58:19.363Z"
   },
   {
    "duration": 97,
    "start_time": "2024-10-02T18:58:33.278Z"
   },
   {
    "duration": 97,
    "start_time": "2024-10-02T18:58:43.915Z"
   },
   {
    "duration": 113,
    "start_time": "2024-10-02T18:59:20.882Z"
   },
   {
    "duration": 3,
    "start_time": "2024-10-02T19:05:43.793Z"
   },
   {
    "duration": 125,
    "start_time": "2024-10-02T19:18:09.809Z"
   },
   {
    "duration": 100,
    "start_time": "2024-10-02T19:18:31.014Z"
   },
   {
    "duration": 98,
    "start_time": "2024-10-02T19:19:01.077Z"
   },
   {
    "duration": 94,
    "start_time": "2024-10-02T19:20:35.951Z"
   },
   {
    "duration": 93,
    "start_time": "2024-10-02T19:21:13.590Z"
   },
   {
    "duration": 476,
    "start_time": "2024-10-02T19:21:26.425Z"
   },
   {
    "duration": 131,
    "start_time": "2024-10-02T19:23:34.484Z"
   },
   {
    "duration": 293,
    "start_time": "2024-10-02T19:28:38.798Z"
   },
   {
    "duration": 89,
    "start_time": "2024-10-02T19:29:00.113Z"
   },
   {
    "duration": 91,
    "start_time": "2024-10-02T19:29:49.993Z"
   },
   {
    "duration": 103,
    "start_time": "2024-10-02T19:33:50.825Z"
   },
   {
    "duration": 91,
    "start_time": "2024-10-02T19:34:27.439Z"
   },
   {
    "duration": 94,
    "start_time": "2024-10-02T19:35:01.470Z"
   },
   {
    "duration": 91,
    "start_time": "2024-10-02T19:37:19.634Z"
   },
   {
    "duration": 90,
    "start_time": "2024-10-02T19:37:48.323Z"
   },
   {
    "duration": 91,
    "start_time": "2024-10-02T19:37:57.741Z"
   },
   {
    "duration": 92,
    "start_time": "2024-10-02T19:38:48.036Z"
   },
   {
    "duration": 2,
    "start_time": "2024-10-02T19:38:54.710Z"
   },
   {
    "duration": 425,
    "start_time": "2024-10-02T19:43:11.945Z"
   },
   {
    "duration": 94,
    "start_time": "2024-10-02T19:44:00.604Z"
   },
   {
    "duration": 855,
    "start_time": "2024-10-02T23:24:47.300Z"
   },
   {
    "duration": 102,
    "start_time": "2024-10-02T23:25:47.646Z"
   },
   {
    "duration": 115,
    "start_time": "2024-10-02T23:26:12.567Z"
   },
   {
    "duration": 288,
    "start_time": "2024-10-02T23:26:30.069Z"
   },
   {
    "duration": 100,
    "start_time": "2024-10-02T23:27:00.449Z"
   },
   {
    "duration": 101,
    "start_time": "2024-10-02T23:27:14.297Z"
   },
   {
    "duration": 116,
    "start_time": "2024-10-02T23:28:04.218Z"
   },
   {
    "duration": 115,
    "start_time": "2024-10-02T23:28:11.007Z"
   },
   {
    "duration": 135,
    "start_time": "2024-10-02T23:28:48.881Z"
   },
   {
    "duration": 145,
    "start_time": "2024-10-02T23:29:19.642Z"
   },
   {
    "duration": 149,
    "start_time": "2024-10-02T23:29:49.295Z"
   },
   {
    "duration": 153,
    "start_time": "2024-10-02T23:31:59.425Z"
   },
   {
    "duration": 165,
    "start_time": "2024-10-02T23:35:39.202Z"
   },
   {
    "duration": 171,
    "start_time": "2024-10-02T23:37:17.296Z"
   },
   {
    "duration": 175,
    "start_time": "2024-10-02T23:41:54.456Z"
   },
   {
    "duration": 308,
    "start_time": "2024-10-02T23:47:38.748Z"
   },
   {
    "duration": 184,
    "start_time": "2024-10-02T23:49:10.091Z"
   },
   {
    "duration": 186,
    "start_time": "2024-10-02T23:49:31.927Z"
   },
   {
    "duration": 190,
    "start_time": "2024-10-02T23:50:39.062Z"
   },
   {
    "duration": 180,
    "start_time": "2024-10-02T23:52:28.053Z"
   },
   {
    "duration": 183,
    "start_time": "2024-10-02T23:52:41.944Z"
   },
   {
    "duration": 183,
    "start_time": "2024-10-02T23:55:59.981Z"
   },
   {
    "duration": 3,
    "start_time": "2024-10-03T00:02:53.292Z"
   },
   {
    "duration": 127,
    "start_time": "2024-10-03T00:06:50.198Z"
   },
   {
    "duration": 241,
    "start_time": "2024-10-03T00:08:02.343Z"
   },
   {
    "duration": 203,
    "start_time": "2024-10-03T00:09:39.606Z"
   },
   {
    "duration": 212,
    "start_time": "2024-10-03T00:13:58.266Z"
   },
   {
    "duration": 202,
    "start_time": "2024-10-03T00:15:37.881Z"
   },
   {
    "duration": 530,
    "start_time": "2024-10-04T23:40:58.569Z"
   },
   {
    "duration": 188,
    "start_time": "2024-10-04T23:45:46.228Z"
   },
   {
    "duration": 187,
    "start_time": "2024-10-04T23:48:05.925Z"
   },
   {
    "duration": 206,
    "start_time": "2024-10-04T23:52:30.839Z"
   },
   {
    "duration": 7,
    "start_time": "2024-10-05T00:02:29.356Z"
   },
   {
    "duration": 3,
    "start_time": "2024-10-05T00:05:28.328Z"
   },
   {
    "duration": 3,
    "start_time": "2024-10-05T00:05:36.597Z"
   },
   {
    "duration": 3,
    "start_time": "2024-10-05T00:06:12.427Z"
   },
   {
    "duration": 3,
    "start_time": "2024-10-05T00:08:48.574Z"
   },
   {
    "duration": 13,
    "start_time": "2024-10-05T00:10:21.797Z"
   },
   {
    "duration": 12,
    "start_time": "2024-10-05T00:11:02.549Z"
   },
   {
    "duration": 14,
    "start_time": "2024-10-05T00:13:19.653Z"
   },
   {
    "duration": 12,
    "start_time": "2024-10-05T00:13:23.743Z"
   },
   {
    "duration": 14,
    "start_time": "2024-10-05T00:13:25.872Z"
   },
   {
    "duration": 15,
    "start_time": "2024-10-05T00:13:28.076Z"
   },
   {
    "duration": 207,
    "start_time": "2024-10-05T21:33:35.416Z"
   },
   {
    "duration": 16,
    "start_time": "2024-10-05T21:34:22.616Z"
   },
   {
    "duration": 499,
    "start_time": "2024-10-05T21:34:38.264Z"
   },
   {
    "duration": 132,
    "start_time": "2024-10-05T21:38:04.191Z"
   },
   {
    "duration": 118,
    "start_time": "2024-10-05T21:38:48.221Z"
   },
   {
    "duration": 296,
    "start_time": "2024-10-07T22:08:15.386Z"
   },
   {
    "duration": 145,
    "start_time": "2024-10-07T22:08:18.059Z"
   },
   {
    "duration": 6,
    "start_time": "2024-10-07T22:08:34.992Z"
   },
   {
    "duration": 22,
    "start_time": "2024-10-07T22:09:03.265Z"
   },
   {
    "duration": 4,
    "start_time": "2024-10-07T22:09:32.703Z"
   },
   {
    "duration": 4,
    "start_time": "2024-10-07T22:09:42.357Z"
   },
   {
    "duration": 4,
    "start_time": "2024-10-07T22:09:49.072Z"
   },
   {
    "duration": 4,
    "start_time": "2024-10-07T22:10:15.869Z"
   },
   {
    "duration": 4,
    "start_time": "2024-10-07T22:11:06.626Z"
   },
   {
    "duration": 9,
    "start_time": "2024-10-07T22:14:48.501Z"
   },
   {
    "duration": 16,
    "start_time": "2024-10-07T22:16:15.312Z"
   },
   {
    "duration": 20,
    "start_time": "2024-10-07T22:16:46.657Z"
   },
   {
    "duration": 17,
    "start_time": "2024-10-07T22:17:16.359Z"
   },
   {
    "duration": 42,
    "start_time": "2024-10-07T22:17:52.579Z"
   },
   {
    "duration": 50,
    "start_time": "2024-10-07T22:19:40.658Z"
   },
   {
    "duration": 38,
    "start_time": "2024-10-07T22:20:19.581Z"
   },
   {
    "duration": 6,
    "start_time": "2024-10-07T22:20:35.785Z"
   },
   {
    "duration": 11,
    "start_time": "2024-10-07T22:22:42.241Z"
   },
   {
    "duration": 2,
    "start_time": "2024-10-07T22:23:40.653Z"
   },
   {
    "duration": 7,
    "start_time": "2024-10-07T22:24:02.733Z"
   },
   {
    "duration": 45,
    "start_time": "2024-10-07T22:26:53.677Z"
   },
   {
    "duration": 9,
    "start_time": "2024-10-07T22:27:41.501Z"
   },
   {
    "duration": 8,
    "start_time": "2024-10-07T22:29:05.740Z"
   },
   {
    "duration": 3,
    "start_time": "2024-10-07T22:31:27.489Z"
   },
   {
    "duration": 14,
    "start_time": "2024-10-07T22:31:34.097Z"
   },
   {
    "duration": 13,
    "start_time": "2024-10-07T22:31:40.264Z"
   },
   {
    "duration": 13,
    "start_time": "2024-10-07T22:31:42.589Z"
   },
   {
    "duration": 12,
    "start_time": "2024-10-07T22:31:45.299Z"
   },
   {
    "duration": 13,
    "start_time": "2024-10-07T22:31:46.482Z"
   },
   {
    "duration": 2,
    "start_time": "2024-10-07T22:32:15.007Z"
   },
   {
    "duration": 101,
    "start_time": "2024-10-07T22:32:15.014Z"
   },
   {
    "duration": 6,
    "start_time": "2024-10-07T22:32:15.117Z"
   },
   {
    "duration": 20,
    "start_time": "2024-10-07T22:32:15.124Z"
   },
   {
    "duration": 3,
    "start_time": "2024-10-07T22:32:15.145Z"
   },
   {
    "duration": 3,
    "start_time": "2024-10-07T22:32:15.152Z"
   },
   {
    "duration": 3,
    "start_time": "2024-10-07T22:32:15.157Z"
   },
   {
    "duration": 5,
    "start_time": "2024-10-07T22:32:15.162Z"
   },
   {
    "duration": 37,
    "start_time": "2024-10-07T22:32:15.169Z"
   },
   {
    "duration": 16,
    "start_time": "2024-10-07T22:32:15.208Z"
   },
   {
    "duration": 15,
    "start_time": "2024-10-07T22:32:15.225Z"
   },
   {
    "duration": 15,
    "start_time": "2024-10-07T22:32:15.242Z"
   },
   {
    "duration": 68,
    "start_time": "2024-10-07T22:32:15.259Z"
   },
   {
    "duration": 47,
    "start_time": "2024-10-07T22:32:15.329Z"
   },
   {
    "duration": 50,
    "start_time": "2024-10-07T22:32:15.380Z"
   },
   {
    "duration": 7,
    "start_time": "2024-10-07T22:32:15.432Z"
   },
   {
    "duration": 11,
    "start_time": "2024-10-07T22:32:15.440Z"
   },
   {
    "duration": 2,
    "start_time": "2024-10-07T22:32:15.452Z"
   },
   {
    "duration": 7,
    "start_time": "2024-10-07T22:32:15.456Z"
   },
   {
    "duration": 8,
    "start_time": "2024-10-07T22:32:15.464Z"
   },
   {
    "duration": 38,
    "start_time": "2024-10-07T22:32:15.473Z"
   },
   {
    "duration": 2,
    "start_time": "2024-10-07T22:32:15.513Z"
   },
   {
    "duration": 14,
    "start_time": "2024-10-07T22:32:15.517Z"
   },
   {
    "duration": 11,
    "start_time": "2024-10-07T22:32:15.533Z"
   },
   {
    "duration": 14,
    "start_time": "2024-10-07T22:32:15.545Z"
   },
   {
    "duration": 46,
    "start_time": "2024-10-07T22:32:15.560Z"
   },
   {
    "duration": 14,
    "start_time": "2024-10-07T22:32:15.608Z"
   },
   {
    "duration": 11,
    "start_time": "2024-10-07T22:32:15.623Z"
   }
  ],
  "colab": {
   "collapsed_sections": [
    "E0vqbgi9ay0H",
    "VUC88oWjTJw2"
   ],
   "provenance": []
  },
  "kernelspec": {
   "display_name": "Python 3 (ipykernel)",
   "language": "python",
   "name": "python3"
  },
  "language_info": {
   "codemirror_mode": {
    "name": "ipython",
    "version": 3
   },
   "file_extension": ".py",
   "mimetype": "text/x-python",
   "name": "python",
   "nbconvert_exporter": "python",
   "pygments_lexer": "ipython3",
   "version": "3.9.19"
  },
  "toc": {
   "base_numbering": 1,
   "nav_menu": {},
   "number_sections": true,
   "sideBar": true,
   "skip_h1_title": true,
   "title_cell": "Table of Contents",
   "title_sidebar": "Contents",
   "toc_cell": false,
   "toc_position": {},
   "toc_section_display": true,
   "toc_window_display": false
  }
 },
 "nbformat": 4,
 "nbformat_minor": 1
}
